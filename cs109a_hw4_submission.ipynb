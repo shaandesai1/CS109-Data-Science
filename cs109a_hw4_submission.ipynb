{
 "cells": [
  {
   "cell_type": "markdown",
   "metadata": {},
   "source": [
    "# CS 109A/STAT 121A/AC 209A/CSCI E-109A: Homework 4\n",
    "# Regularization, High Dimensionality, PCA\n",
    "\n",
    "\n",
    "**Harvard University**<br/>\n",
    "**Fall 2017**<br/>\n",
    "**Instructors**: Pavlos Protopapas, Kevin Rader, Rahul Dave, Margo Levine\n",
    "\n",
    "---\n",
    "\n",
    "### INSTRUCTIONS\n",
    "\n",
    "- To submit your assignment follow the instructions given in canvas.\n",
    "- Restart the kernel and run the whole notebook again before you submit. \n",
    "- Do not include your name(s) in the notebook even if you are submitting as a group. \n",
    "- If you submit individually and you have worked with someone, please include the name of your [one] partner below. \n",
    "\n",
    "---"
   ]
  },
  {
   "cell_type": "markdown",
   "metadata": {},
   "source": [
    "Your partner's name (if you submit separately):\n",
    "\n",
    "Enrollment Status (109A, 121A, 209A, or E109A): 109A"
   ]
  },
  {
   "cell_type": "markdown",
   "metadata": {},
   "source": [
    "# Note: All answers are in green font"
   ]
  },
  {
   "cell_type": "markdown",
   "metadata": {},
   "source": [
    "Import libraries:"
   ]
  },
  {
   "cell_type": "code",
   "execution_count": 5,
   "metadata": {
    "collapsed": true
   },
   "outputs": [],
   "source": [
    "import numpy as np\n",
    "import pandas as pd\n",
    "import matplotlib\n",
    "import matplotlib.pyplot as plt\n",
    "from sklearn.metrics import r2_score\n",
    "import statsmodels.api as sm\n",
    "from statsmodels.api import OLS\n",
    "from sklearn.linear_model import LinearRegression\n",
    "from sklearn.preprocessing import PolynomialFeatures\n",
    "from sklearn.linear_model import Ridge\n",
    "from sklearn.linear_model import Lasso\n",
    "from sklearn.linear_model import RidgeCV\n",
    "from sklearn.linear_model import LassoCV\n",
    "%matplotlib inline"
   ]
  },
  {
   "cell_type": "markdown",
   "metadata": {},
   "source": [
    "# Continuing Bike Sharing Usage Data\n",
    "\n",
    "In this homework, we will focus on multiple linear regression, regularization, dealing with high dimensionality, and PCA. We will continue to build regression models for the Capital Bikeshare program in Washington D.C.  See Homework 3 for more information about the data.\n",
    "\n",
    "*Note: please make sure you use all the processed data from HW 3 Part (a)...you make want to save the data set on your computer and reread the csv/json file here.\n"
   ]
  },
  {
   "cell_type": "code",
   "execution_count": 6,
   "metadata": {
    "collapsed": false
   },
   "outputs": [],
   "source": [
    "Biketrain = pd.read_csv('Bikeshare_train.csv')\n",
    "Biketest = pd.read_csv('Bikeshare_test.csv')\n",
    "y_train = Biketrain['count'].values\n",
    "y_test = Biketest['count'].values\n",
    "X_train = pd.read_pickle('Xtrain')\n",
    "X_test = pd.read_pickle('Xtest')"
   ]
  },
  {
   "cell_type": "markdown",
   "metadata": {},
   "source": [
    "## Part (f): Regularization/Penalization Methods\n",
    "\n",
    "As an alternative to selecting a subset of predictors and fitting a regression model on the subset, one can fit a linear regression model on all predictors, but shrink or regularize the coefficient estimates to make sure that the model does not \"overfit\" the training set. \n",
    "\n",
    "Use the following regularization techniques to fit linear models to the training set:\n",
    "- Ridge regression\n",
    "- Lasso regression\n",
    "    \n",
    "You may choose the shrikage parameter $\\lambda$ from the set $\\{10^{-5}, 10^{-4},...,10^{4},10^{5}\\}$ using cross-validation. In each case, \n",
    "\n",
    "- How do the estimated coefficients compare to or differ from the coefficients estimated by a plain linear regression (without shrikage penalty) in Part (b) fropm HW 3? Is there a difference between coefficients estimated by the two shrinkage methods? If so, give an explantion for the difference.\n",
    "- List the predictors that are assigned a coefficient value close to 0 (say < 1e-10) by the two methods. How closely do these predictors match the redundant predictors (if any) identified in Part (c) from HW 3?\n",
    "- Is there a difference in the way Ridge and Lasso regression assign coefficients to the predictors `temp` and `atemp`? If so, explain the reason for the difference.\n",
    "\n"
   ]
  },
  {
   "cell_type": "markdown",
   "metadata": {},
   "source": [
    "We next analyze the performance of the two shrinkage methods for different training sample sizes:\n",
    "- Generate random samples of sizes 100, 150, ..., 400 from the training set. You may use the following code to draw a random sample of a specified size from the training set:"
   ]
  },
  {
   "cell_type": "code",
   "execution_count": 7,
   "metadata": {
    "collapsed": true
   },
   "outputs": [],
   "source": [
    "\n",
    "#--------  sample\n",
    "# A function to select a random sample of size k from the training set\n",
    "# Input: \n",
    "#      x (n x d array of predictors in training data)\n",
    "#      y (n x 1 array of response variable vals in training data)\n",
    "#      k (size of sample) \n",
    "# Return: \n",
    "#      chosen sample of predictors and responses\n",
    "\n",
    "def sample(x, y, k):\n",
    "    n = x.shape[0] # No. of training points\n",
    "    \n",
    "    # Choose random indices of size 'k'\n",
    "    subset_ind = np.random.choice(np.arange(n), k)\n",
    "    \n",
    "    # Get predictors and reponses with the indices\n",
    "    x_subset = x[subset_ind, :]\n",
    "    y_subset = y[subset_ind]\n",
    "    \n",
    "    return (x_subset, y_subset)"
   ]
  },
  {
   "cell_type": "markdown",
   "metadata": {},
   "source": [
    "- Fit linear, Ridge and Lasso regression models to each of the generated sample. In each case, compute the $R^2$ score for the model on the training sample on which it was fitted, and on the test set.\n",
    "- Repeat the above experiment for 10 random trials/splits, and compute the average train and test $R^2$ across the trials for each training sample size. Also, compute the standard deviation (SD) in each case.\n",
    "- Make a plot of the mean training $R^2$ scores for the linear, Ridge and Lasso regression methods as a function of the training sample size. Also, show a confidence interval for the mean scores extending from **mean - SD** to **mean + SD**. Make a similar plot for the test $R^2$ scores.\n",
    "\n",
    "How do the training and test $R^2$ scores compare for the three methods? Give an explanation for your observations. How do the confidence intervals for the estimated $R^2$ change with training sample size? Based on the plots, which of the three methods would you recommend when one needs to fit a regression model using a small training sample?\n",
    "\n",
    "*Hint:* You may use `sklearn`'s `RidgeCV` and `LassoCV` classes to implement Ridge and Lasso regression. These classes automatically perform cross-validation to tune the parameter $\\lambda$ from a given range of values. You may use the `plt.errorbar` function to plot confidence bars for the average $R^2$ scores."
   ]
  },
  {
   "cell_type": "markdown",
   "metadata": {},
   "source": [
    "# Part (f) Code and Answers"
   ]
  },
  {
   "cell_type": "code",
   "execution_count": 8,
   "metadata": {
    "collapsed": false,
    "scrolled": true
   },
   "outputs": [
    {
     "name": "stderr",
     "output_type": "stream",
     "text": [
      "C:\\Users\\Shaan Desai\\Anaconda3\\lib\\site-packages\\sklearn\\linear_model\\coordinate_descent.py:484: ConvergenceWarning: Objective did not converge. You might want to increase the number of iterations. Fitting data with very small alpha may cause precision problems.\n",
      "  ConvergenceWarning)\n"
     ]
    },
    {
     "data": {
      "text/plain": [
       "LassoCV(alphas=[1e-05, 0.0001, 0.001, 0.01, 0.1, 1, 10, 100, 1000, 10000, 100000],\n",
       "    copy_X=True, cv=None, eps=0.001, fit_intercept=True, max_iter=1000,\n",
       "    n_alphas=100, n_jobs=1, normalize=False, positive=False,\n",
       "    precompute='auto', random_state=None, selection='cyclic', tol=0.0001,\n",
       "    verbose=False)"
      ]
     },
     "execution_count": 8,
     "metadata": {},
     "output_type": "execute_result"
    }
   ],
   "source": [
    "# Ridge and Lasso\n",
    "alphas = [10**(i) for i in range(-5,6)]\n",
    "linreg = LinearRegression(fit_intercept = True)\n",
    "linreg.fit(X_train.values,y_train)\n",
    "ridge = RidgeCV(alphas = alphas,fit_intercept = True)\n",
    "ridge.fit(X_train.values,y_train)\n",
    "lassr = LassoCV(alphas = alphas,fit_intercept = True)\n",
    "lassr.fit(X_train.values,y_train)\n"
   ]
  },
  {
   "cell_type": "code",
   "execution_count": 9,
   "metadata": {
    "collapsed": false
   },
   "outputs": [
    {
     "data": {
      "text/plain": [
       "array([  898.82903949,  1032.88157484,  1226.18654265,    88.94009267,\n",
       "         239.18089841,   333.34908642,   -65.81249999,  -792.2628985 ,\n",
       "       -1279.98700626,  -776.4754899 ,   405.1445661 ,   486.25090367,\n",
       "         112.68164522,  -118.83581872,  -284.35627461,  -123.75147639,\n",
       "        -195.28593262,   170.51134687,    61.25602987,   111.06689939,\n",
       "         465.14500996,   308.15314174,   -16.56658402, -1581.97828361,\n",
       "         925.73384986,   312.43407189,  -548.49294906,  -255.12258899])"
      ]
     },
     "execution_count": 9,
     "metadata": {},
     "output_type": "execute_result"
    }
   ],
   "source": [
    "linreg.coef_"
   ]
  },
  {
   "cell_type": "code",
   "execution_count": 10,
   "metadata": {
    "collapsed": false,
    "scrolled": true
   },
   "outputs": [
    {
     "data": {
      "text/plain": [
       "array([ 393.17255806,  172.1792805 ,  761.78543763, -115.1218662 ,\n",
       "         88.89050681,  369.53564813,  133.37245386, -312.37487384,\n",
       "       -529.54451686,  -89.29404068,  676.88686869,  503.42304275,\n",
       "        159.09586506, -100.6582173 , -158.55971554, -130.58113365,\n",
       "       -125.49534264,  124.31796857,   64.47904074,  126.17310553,\n",
       "        303.9886922 ,  217.45335409,   20.28051056, -676.14388831,\n",
       "        682.80825822,  553.88994683, -567.72191933, -266.41311936])"
      ]
     },
     "execution_count": 10,
     "metadata": {},
     "output_type": "execute_result"
    }
   ],
   "source": [
    "ridge.coef_"
   ]
  },
  {
   "cell_type": "code",
   "execution_count": 11,
   "metadata": {
    "collapsed": false
   },
   "outputs": [
    {
     "data": {
      "text/plain": [
       "array([  543.86140467,   113.75783363,   898.93231611,    -0.        ,\n",
       "          13.92014333,   312.54570464,     0.        ,  -354.60286434,\n",
       "        -496.15194078,    -0.        ,   834.58741964,   483.88249353,\n",
       "          68.02952205,    -0.        ,    -0.        ,  -178.96215235,\n",
       "        -129.13868319,    17.59275663,     0.        ,    11.32761788,\n",
       "         309.95116311,   277.51880871,    -0.        , -1058.29476303,\n",
       "         854.7339104 ,   399.36424117,  -555.84074594,  -254.3687472 ])"
      ]
     },
     "execution_count": 11,
     "metadata": {},
     "output_type": "execute_result"
    }
   ],
   "source": [
    "lassr.coef_"
   ]
  },
  {
   "cell_type": "markdown",
   "metadata": {},
   "source": [
    "Q\n",
    "- How do the estimated coefficients compare to or differ from the coefficients estimated by a plain linear regression (without shrikage penalty) in Part (b) fropm HW 3? Is there a difference between coefficients estimated by the two shrinkage methods? If so, give an explantion for the difference.\n",
    "\n",
    "A\n",
    "\n",
    "- What we can see above is that the ridge coefficients are generally smaller than the normal linear regression from part 3b). We can also see that Lasso makes some of the coefficients smaller. There is a difference between lasso and ridge in that lasso adds a linear term to the cost function while ridge adds a squared term. The difference between these methods means that Lasso is more likely to suppress coefficients down to zero in relation to ridge as we saw in class with an ellipse lying tangent to a square/circle.\n",
    "\n",
    "Q\n",
    "- List the predictors that are assigned a coefficient value close to 0 (say < 1e-10) by the two methods. How closely do these predictors match the redundant predictors (if any) identified in Part (c) from HW 3?\n",
    "\n",
    "A"
   ]
  },
  {
   "cell_type": "code",
   "execution_count": 12,
   "metadata": {
    "collapsed": false
   },
   "outputs": [
    {
     "name": "stdout",
     "output_type": "stream",
     "text": [
      "Lasso coefficients that are ~ 0: ['month_2' 'month_5' 'month_8' 'month_12' 'holiday_1' 'day_of_week_4'\n",
      " 'weather_2']\n"
     ]
    }
   ],
   "source": [
    "print('Lasso coefficients that are ~ 0: %s' %X_train.columns.values[np.where(abs(lassr.coef_)<10**(-10))])\n"
   ]
  },
  {
   "cell_type": "markdown",
   "metadata": {},
   "source": [
    "\n",
    "\n",
    "- In part c the statistically significant predictors were 'season4','weather3','humidity','windspeed', none of which is listed above in the predictors dropped by lasso which means lasso and t-test dropped the same predictors with t-test dropping more than lasso. Ridge does not drop any columns."
   ]
  },
  {
   "cell_type": "markdown",
   "metadata": {},
   "source": [
    "Q\n",
    "- Is there a difference in the way Ridge and Lasso regression assign coefficients to the predictors `temp` and `atemp`? If so, explain the reason for the difference.\n",
    "\n"
   ]
  },
  {
   "cell_type": "markdown",
   "metadata": {},
   "source": [
    "A\n",
    "\n",
    "- The ridge regressor assigns similar coefficients to temp and atemp. While Lasso assigns a larger coefficient to temp than to atemp. The key difference here is that ridge tries to solve the issue of multi collinearity by equally weighting similar predictors"
   ]
  },
  {
   "cell_type": "markdown",
   "metadata": {},
   "source": [
    "- # Training sample size variation"
   ]
  },
  {
   "cell_type": "code",
   "execution_count": 13,
   "metadata": {
    "collapsed": false,
    "scrolled": true
   },
   "outputs": [
    {
     "name": "stderr",
     "output_type": "stream",
     "text": [
      "C:\\Users\\Shaan Desai\\Anaconda3\\lib\\site-packages\\sklearn\\linear_model\\coordinate_descent.py:484: ConvergenceWarning: Objective did not converge. You might want to increase the number of iterations. Fitting data with very small alpha may cause precision problems.\n",
      "  ConvergenceWarning)\n",
      "C:\\Users\\Shaan Desai\\Anaconda3\\lib\\site-packages\\sklearn\\linear_model\\coordinate_descent.py:484: ConvergenceWarning: Objective did not converge. You might want to increase the number of iterations. Fitting data with very small alpha may cause precision problems.\n",
      "  ConvergenceWarning)\n",
      "C:\\Users\\Shaan Desai\\Anaconda3\\lib\\site-packages\\sklearn\\linear_model\\coordinate_descent.py:484: ConvergenceWarning: Objective did not converge. You might want to increase the number of iterations. Fitting data with very small alpha may cause precision problems.\n",
      "  ConvergenceWarning)\n",
      "C:\\Users\\Shaan Desai\\Anaconda3\\lib\\site-packages\\sklearn\\linear_model\\coordinate_descent.py:484: ConvergenceWarning: Objective did not converge. You might want to increase the number of iterations. Fitting data with very small alpha may cause precision problems.\n",
      "  ConvergenceWarning)\n",
      "C:\\Users\\Shaan Desai\\Anaconda3\\lib\\site-packages\\sklearn\\linear_model\\coordinate_descent.py:484: ConvergenceWarning: Objective did not converge. You might want to increase the number of iterations. Fitting data with very small alpha may cause precision problems.\n",
      "  ConvergenceWarning)\n",
      "C:\\Users\\Shaan Desai\\Anaconda3\\lib\\site-packages\\sklearn\\linear_model\\coordinate_descent.py:484: ConvergenceWarning: Objective did not converge. You might want to increase the number of iterations. Fitting data with very small alpha may cause precision problems.\n",
      "  ConvergenceWarning)\n",
      "C:\\Users\\Shaan Desai\\Anaconda3\\lib\\site-packages\\sklearn\\linear_model\\coordinate_descent.py:484: ConvergenceWarning: Objective did not converge. You might want to increase the number of iterations. Fitting data with very small alpha may cause precision problems.\n",
      "  ConvergenceWarning)\n",
      "C:\\Users\\Shaan Desai\\Anaconda3\\lib\\site-packages\\sklearn\\linear_model\\coordinate_descent.py:484: ConvergenceWarning: Objective did not converge. You might want to increase the number of iterations. Fitting data with very small alpha may cause precision problems.\n",
      "  ConvergenceWarning)\n",
      "C:\\Users\\Shaan Desai\\Anaconda3\\lib\\site-packages\\sklearn\\linear_model\\coordinate_descent.py:484: ConvergenceWarning: Objective did not converge. You might want to increase the number of iterations. Fitting data with very small alpha may cause precision problems.\n",
      "  ConvergenceWarning)\n",
      "C:\\Users\\Shaan Desai\\Anaconda3\\lib\\site-packages\\sklearn\\linear_model\\coordinate_descent.py:484: ConvergenceWarning: Objective did not converge. You might want to increase the number of iterations. Fitting data with very small alpha may cause precision problems.\n",
      "  ConvergenceWarning)\n",
      "C:\\Users\\Shaan Desai\\Anaconda3\\lib\\site-packages\\sklearn\\linear_model\\coordinate_descent.py:484: ConvergenceWarning: Objective did not converge. You might want to increase the number of iterations. Fitting data with very small alpha may cause precision problems.\n",
      "  ConvergenceWarning)\n",
      "C:\\Users\\Shaan Desai\\Anaconda3\\lib\\site-packages\\sklearn\\linear_model\\coordinate_descent.py:484: ConvergenceWarning: Objective did not converge. You might want to increase the number of iterations. Fitting data with very small alpha may cause precision problems.\n",
      "  ConvergenceWarning)\n",
      "C:\\Users\\Shaan Desai\\Anaconda3\\lib\\site-packages\\sklearn\\linear_model\\coordinate_descent.py:484: ConvergenceWarning: Objective did not converge. You might want to increase the number of iterations. Fitting data with very small alpha may cause precision problems.\n",
      "  ConvergenceWarning)\n",
      "C:\\Users\\Shaan Desai\\Anaconda3\\lib\\site-packages\\sklearn\\linear_model\\coordinate_descent.py:484: ConvergenceWarning: Objective did not converge. You might want to increase the number of iterations. Fitting data with very small alpha may cause precision problems.\n",
      "  ConvergenceWarning)\n",
      "C:\\Users\\Shaan Desai\\Anaconda3\\lib\\site-packages\\sklearn\\linear_model\\coordinate_descent.py:484: ConvergenceWarning: Objective did not converge. You might want to increase the number of iterations. Fitting data with very small alpha may cause precision problems.\n",
      "  ConvergenceWarning)\n",
      "C:\\Users\\Shaan Desai\\Anaconda3\\lib\\site-packages\\sklearn\\linear_model\\coordinate_descent.py:484: ConvergenceWarning: Objective did not converge. You might want to increase the number of iterations. Fitting data with very small alpha may cause precision problems.\n",
      "  ConvergenceWarning)\n",
      "C:\\Users\\Shaan Desai\\Anaconda3\\lib\\site-packages\\sklearn\\linear_model\\coordinate_descent.py:484: ConvergenceWarning: Objective did not converge. You might want to increase the number of iterations. Fitting data with very small alpha may cause precision problems.\n",
      "  ConvergenceWarning)\n",
      "C:\\Users\\Shaan Desai\\Anaconda3\\lib\\site-packages\\sklearn\\linear_model\\coordinate_descent.py:484: ConvergenceWarning: Objective did not converge. You might want to increase the number of iterations. Fitting data with very small alpha may cause precision problems.\n",
      "  ConvergenceWarning)\n",
      "C:\\Users\\Shaan Desai\\Anaconda3\\lib\\site-packages\\sklearn\\linear_model\\coordinate_descent.py:484: ConvergenceWarning: Objective did not converge. You might want to increase the number of iterations. Fitting data with very small alpha may cause precision problems.\n",
      "  ConvergenceWarning)\n",
      "C:\\Users\\Shaan Desai\\Anaconda3\\lib\\site-packages\\sklearn\\linear_model\\coordinate_descent.py:484: ConvergenceWarning: Objective did not converge. You might want to increase the number of iterations. Fitting data with very small alpha may cause precision problems.\n",
      "  ConvergenceWarning)\n",
      "C:\\Users\\Shaan Desai\\Anaconda3\\lib\\site-packages\\sklearn\\linear_model\\coordinate_descent.py:484: ConvergenceWarning: Objective did not converge. You might want to increase the number of iterations. Fitting data with very small alpha may cause precision problems.\n",
      "  ConvergenceWarning)\n",
      "C:\\Users\\Shaan Desai\\Anaconda3\\lib\\site-packages\\sklearn\\linear_model\\coordinate_descent.py:484: ConvergenceWarning: Objective did not converge. You might want to increase the number of iterations. Fitting data with very small alpha may cause precision problems.\n",
      "  ConvergenceWarning)\n",
      "C:\\Users\\Shaan Desai\\Anaconda3\\lib\\site-packages\\sklearn\\linear_model\\coordinate_descent.py:484: ConvergenceWarning: Objective did not converge. You might want to increase the number of iterations. Fitting data with very small alpha may cause precision problems.\n",
      "  ConvergenceWarning)\n",
      "C:\\Users\\Shaan Desai\\Anaconda3\\lib\\site-packages\\sklearn\\linear_model\\coordinate_descent.py:484: ConvergenceWarning: Objective did not converge. You might want to increase the number of iterations. Fitting data with very small alpha may cause precision problems.\n",
      "  ConvergenceWarning)\n",
      "C:\\Users\\Shaan Desai\\Anaconda3\\lib\\site-packages\\sklearn\\linear_model\\coordinate_descent.py:484: ConvergenceWarning: Objective did not converge. You might want to increase the number of iterations. Fitting data with very small alpha may cause precision problems.\n",
      "  ConvergenceWarning)\n",
      "C:\\Users\\Shaan Desai\\Anaconda3\\lib\\site-packages\\sklearn\\linear_model\\coordinate_descent.py:484: ConvergenceWarning: Objective did not converge. You might want to increase the number of iterations. Fitting data with very small alpha may cause precision problems.\n",
      "  ConvergenceWarning)\n",
      "C:\\Users\\Shaan Desai\\Anaconda3\\lib\\site-packages\\sklearn\\linear_model\\coordinate_descent.py:484: ConvergenceWarning: Objective did not converge. You might want to increase the number of iterations. Fitting data with very small alpha may cause precision problems.\n",
      "  ConvergenceWarning)\n",
      "C:\\Users\\Shaan Desai\\Anaconda3\\lib\\site-packages\\sklearn\\linear_model\\coordinate_descent.py:484: ConvergenceWarning: Objective did not converge. You might want to increase the number of iterations. Fitting data with very small alpha may cause precision problems.\n",
      "  ConvergenceWarning)\n",
      "C:\\Users\\Shaan Desai\\Anaconda3\\lib\\site-packages\\sklearn\\linear_model\\coordinate_descent.py:484: ConvergenceWarning: Objective did not converge. You might want to increase the number of iterations. Fitting data with very small alpha may cause precision problems.\n",
      "  ConvergenceWarning)\n",
      "C:\\Users\\Shaan Desai\\Anaconda3\\lib\\site-packages\\sklearn\\linear_model\\coordinate_descent.py:484: ConvergenceWarning: Objective did not converge. You might want to increase the number of iterations. Fitting data with very small alpha may cause precision problems.\n",
      "  ConvergenceWarning)\n",
      "C:\\Users\\Shaan Desai\\Anaconda3\\lib\\site-packages\\sklearn\\linear_model\\coordinate_descent.py:484: ConvergenceWarning: Objective did not converge. You might want to increase the number of iterations. Fitting data with very small alpha may cause precision problems.\n",
      "  ConvergenceWarning)\n",
      "C:\\Users\\Shaan Desai\\Anaconda3\\lib\\site-packages\\sklearn\\linear_model\\coordinate_descent.py:484: ConvergenceWarning: Objective did not converge. You might want to increase the number of iterations. Fitting data with very small alpha may cause precision problems.\n",
      "  ConvergenceWarning)\n",
      "C:\\Users\\Shaan Desai\\Anaconda3\\lib\\site-packages\\sklearn\\linear_model\\coordinate_descent.py:484: ConvergenceWarning: Objective did not converge. You might want to increase the number of iterations. Fitting data with very small alpha may cause precision problems.\n",
      "  ConvergenceWarning)\n",
      "C:\\Users\\Shaan Desai\\Anaconda3\\lib\\site-packages\\sklearn\\linear_model\\coordinate_descent.py:484: ConvergenceWarning: Objective did not converge. You might want to increase the number of iterations. Fitting data with very small alpha may cause precision problems.\n",
      "  ConvergenceWarning)\n",
      "C:\\Users\\Shaan Desai\\Anaconda3\\lib\\site-packages\\sklearn\\linear_model\\coordinate_descent.py:484: ConvergenceWarning: Objective did not converge. You might want to increase the number of iterations. Fitting data with very small alpha may cause precision problems.\n",
      "  ConvergenceWarning)\n",
      "C:\\Users\\Shaan Desai\\Anaconda3\\lib\\site-packages\\sklearn\\linear_model\\coordinate_descent.py:484: ConvergenceWarning: Objective did not converge. You might want to increase the number of iterations. Fitting data with very small alpha may cause precision problems.\n",
      "  ConvergenceWarning)\n",
      "C:\\Users\\Shaan Desai\\Anaconda3\\lib\\site-packages\\sklearn\\linear_model\\coordinate_descent.py:484: ConvergenceWarning: Objective did not converge. You might want to increase the number of iterations. Fitting data with very small alpha may cause precision problems.\n",
      "  ConvergenceWarning)\n",
      "C:\\Users\\Shaan Desai\\Anaconda3\\lib\\site-packages\\sklearn\\linear_model\\coordinate_descent.py:484: ConvergenceWarning: Objective did not converge. You might want to increase the number of iterations. Fitting data with very small alpha may cause precision problems.\n",
      "  ConvergenceWarning)\n",
      "C:\\Users\\Shaan Desai\\Anaconda3\\lib\\site-packages\\sklearn\\linear_model\\coordinate_descent.py:484: ConvergenceWarning: Objective did not converge. You might want to increase the number of iterations. Fitting data with very small alpha may cause precision problems.\n",
      "  ConvergenceWarning)\n",
      "C:\\Users\\Shaan Desai\\Anaconda3\\lib\\site-packages\\sklearn\\linear_model\\coordinate_descent.py:484: ConvergenceWarning: Objective did not converge. You might want to increase the number of iterations. Fitting data with very small alpha may cause precision problems.\n",
      "  ConvergenceWarning)\n",
      "C:\\Users\\Shaan Desai\\Anaconda3\\lib\\site-packages\\sklearn\\linear_model\\coordinate_descent.py:484: ConvergenceWarning: Objective did not converge. You might want to increase the number of iterations. Fitting data with very small alpha may cause precision problems.\n",
      "  ConvergenceWarning)\n",
      "C:\\Users\\Shaan Desai\\Anaconda3\\lib\\site-packages\\sklearn\\linear_model\\coordinate_descent.py:484: ConvergenceWarning: Objective did not converge. You might want to increase the number of iterations. Fitting data with very small alpha may cause precision problems.\n",
      "  ConvergenceWarning)\n",
      "C:\\Users\\Shaan Desai\\Anaconda3\\lib\\site-packages\\sklearn\\linear_model\\coordinate_descent.py:484: ConvergenceWarning: Objective did not converge. You might want to increase the number of iterations. Fitting data with very small alpha may cause precision problems.\n",
      "  ConvergenceWarning)\n",
      "C:\\Users\\Shaan Desai\\Anaconda3\\lib\\site-packages\\sklearn\\linear_model\\coordinate_descent.py:484: ConvergenceWarning: Objective did not converge. You might want to increase the number of iterations. Fitting data with very small alpha may cause precision problems.\n",
      "  ConvergenceWarning)\n",
      "C:\\Users\\Shaan Desai\\Anaconda3\\lib\\site-packages\\sklearn\\linear_model\\coordinate_descent.py:484: ConvergenceWarning: Objective did not converge. You might want to increase the number of iterations. Fitting data with very small alpha may cause precision problems.\n",
      "  ConvergenceWarning)\n",
      "C:\\Users\\Shaan Desai\\Anaconda3\\lib\\site-packages\\sklearn\\linear_model\\coordinate_descent.py:484: ConvergenceWarning: Objective did not converge. You might want to increase the number of iterations. Fitting data with very small alpha may cause precision problems.\n",
      "  ConvergenceWarning)\n",
      "C:\\Users\\Shaan Desai\\Anaconda3\\lib\\site-packages\\sklearn\\linear_model\\coordinate_descent.py:484: ConvergenceWarning: Objective did not converge. You might want to increase the number of iterations. Fitting data with very small alpha may cause precision problems.\n",
      "  ConvergenceWarning)\n",
      "C:\\Users\\Shaan Desai\\Anaconda3\\lib\\site-packages\\sklearn\\linear_model\\coordinate_descent.py:484: ConvergenceWarning: Objective did not converge. You might want to increase the number of iterations. Fitting data with very small alpha may cause precision problems.\n",
      "  ConvergenceWarning)\n",
      "C:\\Users\\Shaan Desai\\Anaconda3\\lib\\site-packages\\sklearn\\linear_model\\coordinate_descent.py:484: ConvergenceWarning: Objective did not converge. You might want to increase the number of iterations. Fitting data with very small alpha may cause precision problems.\n",
      "  ConvergenceWarning)\n",
      "C:\\Users\\Shaan Desai\\Anaconda3\\lib\\site-packages\\sklearn\\linear_model\\coordinate_descent.py:484: ConvergenceWarning: Objective did not converge. You might want to increase the number of iterations. Fitting data with very small alpha may cause precision problems.\n",
      "  ConvergenceWarning)\n",
      "C:\\Users\\Shaan Desai\\Anaconda3\\lib\\site-packages\\sklearn\\linear_model\\coordinate_descent.py:484: ConvergenceWarning: Objective did not converge. You might want to increase the number of iterations. Fitting data with very small alpha may cause precision problems.\n",
      "  ConvergenceWarning)\n",
      "C:\\Users\\Shaan Desai\\Anaconda3\\lib\\site-packages\\sklearn\\linear_model\\coordinate_descent.py:484: ConvergenceWarning: Objective did not converge. You might want to increase the number of iterations. Fitting data with very small alpha may cause precision problems.\n",
      "  ConvergenceWarning)\n",
      "C:\\Users\\Shaan Desai\\Anaconda3\\lib\\site-packages\\sklearn\\linear_model\\coordinate_descent.py:484: ConvergenceWarning: Objective did not converge. You might want to increase the number of iterations. Fitting data with very small alpha may cause precision problems.\n",
      "  ConvergenceWarning)\n",
      "C:\\Users\\Shaan Desai\\Anaconda3\\lib\\site-packages\\sklearn\\linear_model\\coordinate_descent.py:484: ConvergenceWarning: Objective did not converge. You might want to increase the number of iterations. Fitting data with very small alpha may cause precision problems.\n",
      "  ConvergenceWarning)\n",
      "C:\\Users\\Shaan Desai\\Anaconda3\\lib\\site-packages\\sklearn\\linear_model\\coordinate_descent.py:484: ConvergenceWarning: Objective did not converge. You might want to increase the number of iterations. Fitting data with very small alpha may cause precision problems.\n",
      "  ConvergenceWarning)\n",
      "C:\\Users\\Shaan Desai\\Anaconda3\\lib\\site-packages\\sklearn\\linear_model\\coordinate_descent.py:484: ConvergenceWarning: Objective did not converge. You might want to increase the number of iterations. Fitting data with very small alpha may cause precision problems.\n",
      "  ConvergenceWarning)\n",
      "C:\\Users\\Shaan Desai\\Anaconda3\\lib\\site-packages\\sklearn\\linear_model\\coordinate_descent.py:484: ConvergenceWarning: Objective did not converge. You might want to increase the number of iterations. Fitting data with very small alpha may cause precision problems.\n",
      "  ConvergenceWarning)\n",
      "C:\\Users\\Shaan Desai\\Anaconda3\\lib\\site-packages\\sklearn\\linear_model\\coordinate_descent.py:484: ConvergenceWarning: Objective did not converge. You might want to increase the number of iterations. Fitting data with very small alpha may cause precision problems.\n",
      "  ConvergenceWarning)\n",
      "C:\\Users\\Shaan Desai\\Anaconda3\\lib\\site-packages\\sklearn\\linear_model\\coordinate_descent.py:484: ConvergenceWarning: Objective did not converge. You might want to increase the number of iterations. Fitting data with very small alpha may cause precision problems.\n",
      "  ConvergenceWarning)\n"
     ]
    }
   ],
   "source": [
    "# your code here\n",
    "alphas = [10**(i) for i in range(-5,6)]\n",
    "linreg = LinearRegression(fit_intercept = True)\n",
    "ridge = RidgeCV(alphas = alphas,fit_intercept = True)\n",
    "lassr = LassoCV(alphas = alphas,fit_intercept = True)\n",
    "\n",
    "samples = [100+50*i for i in range(7)]\n",
    "r2train  = np.zeros((3,len(samples),10))\n",
    "r2test  = np.zeros((3,len(samples),10))\n",
    "\n",
    "for i in range(len(samples)):\n",
    "    for j in range(10):\n",
    "        x_sub, y_sub = sample(X_train.values,y_train,samples[i])\n",
    "        linreg.fit(x_sub,y_sub)\n",
    "        ridge.fit(x_sub,y_sub)\n",
    "        lassr.fit(x_sub,y_sub)\n",
    "        r2train[0,i,j] = r2_score(y_sub,linreg.predict(x_sub))\n",
    "        r2train[1,i,j] = r2_score(y_sub,ridge.predict(x_sub))\n",
    "        r2train[2,i,j] = r2_score(y_sub,lassr.predict(x_sub))\n",
    "        r2test[0,i,j] = r2_score(y_test,linreg.predict(X_test.values))\n",
    "        r2test[1,i,j] = r2_score(y_test,ridge.predict(X_test.values))\n",
    "        r2test[2,i,j] = r2_score(y_test,lassr.predict(X_test.values))\n",
    "        "
   ]
  },
  {
   "cell_type": "code",
   "execution_count": 14,
   "metadata": {
    "collapsed": false
   },
   "outputs": [
    {
     "data": {
      "text/plain": [
       "<matplotlib.text.Text at 0x1e96c085e80>"
      ]
     },
     "execution_count": 14,
     "metadata": {},
     "output_type": "execute_result"
    },
    {
     "data": {
      "image/png": "[encoded data removed]",
      "text/plain": [
       "<matplotlib.figure.Figure at 0x1e96a3ee0f0>"
      ]
     },
     "metadata": {},
     "output_type": "display_data"
    }
   ],
   "source": [
    "meanr2train = np.mean(r2train,axis = 2)\n",
    "meanr2test = np.mean(r2test,axis = 2)\n",
    "stdr2train = np.std(r2train,axis = 2)\n",
    "stdr2test = np.std(r2test,axis=2)\n",
    "plt.figure()\n",
    "lbl = ['linreg','ridge','lasso']\n",
    "for i in range(3):\n",
    "    plt.errorbar(samples,meanr2train[i,:],yerr = stdr2train[i,:],fmt = 'o',label = lbl[i]+'train R^2')\n",
    "    #plt.scatter(samples,meanr2test[i,:],label = lbl[i]+'test R^2')\n",
    "    plt.legend(loc = 'best')\n",
    "plt.title('Training Mean R^2 vs Sample Size')\n",
    "plt.xlabel('sample size')\n",
    "plt.ylabel('sample mean R^2')"
   ]
  },
  {
   "cell_type": "code",
   "execution_count": 15,
   "metadata": {
    "collapsed": false,
    "scrolled": true
   },
   "outputs": [
    {
     "data": {
      "text/plain": [
       "<matplotlib.text.Text at 0x1e96c1b7470>"
      ]
     },
     "execution_count": 15,
     "metadata": {},
     "output_type": "execute_result"
    },
    {
     "data": {
      "image/png": "[encoded data removed]",
      "text/plain": [
       "<matplotlib.figure.Figure at 0x1e96a404a20>"
      ]
     },
     "metadata": {},
     "output_type": "display_data"
    }
   ],
   "source": [
    "plt.figure()\n",
    "lbl = ['linreg','ridge','lasso']\n",
    "for i in range(3):\n",
    "    plt.errorbar(samples,meanr2test[i,:],yerr = stdr2test[i,:],fmt = 'o',label = lbl[i]+'test R^2')\n",
    "    plt.legend(loc = 'best')\n",
    "plt.title('Test Mean R^2 vs Sample Size')\n",
    "plt.xlabel('sample size')\n",
    "plt.ylabel('sample mean R^2')"
   ]
  },
  {
   "cell_type": "markdown",
   "metadata": {},
   "source": [
    "Q\n",
    "\n",
    "- How do the training and test $R^2$ scores compare for the three methods? Give an explanation for your observations. How do the confidence intervals for the estimated $R^2$ change with training sample size? Based on the plots, which of the three methods would you recommend when one needs to fit a regression model using a small training sample?\n",
    "\n",
    "A\n",
    "\n",
    "- The training R^2 score for linear regression is better than lasso/ridge because they attempt to prevent overfitting. This means that they perform better in their test r^2 as we can see in the figures above. As sample size grows, the standard deviation of each model reduces since more samples in training should allow for a better understanding of the overall process.When one needs to fit a regression model using a small training sample they should opt for ridge since it performs relatively well on the training set but does well to prevent overfitting with a small sample size on the test set."
   ]
  },
  {
   "cell_type": "markdown",
   "metadata": {},
   "source": [
    "## Part (g): Polynomial & Interaction Terms\n",
    "\n",
    "Moving beyond linear models, we will now try to improve the performance of the regression model in Part (b) from HW 3 by including higher-order polynomial and interaction terms. \n",
    "\n",
    "- For each continuous predictor $X_j$, include additional polynomial terms $X^2_j$, $X^3_j$, and $X^4_j$, and fit a multiple regression model to the expanded training set. How does the $R^2$ of this model on the test set compare with that of the linear model fitted in Part (b) from HW 3? Using a t-test, find out which of estimated coefficients for the polynomial terms are statistically significant at a significance level of 5%. \n",
    "\n",
    "- Fit a multiple linear regression model with additional interaction terms $\\mathbb{I}_{month = 12} \\times temp$ and $\\mathbb{I}_{workingday = 1} \\times \\mathbb{I}_{weathersit = 1}$ and report the test $R^2$ for the fitted model. How does this compare with the $R^2$ obtained using linear model in Part (b) from HW 3? Are the estimated coefficients for the interaction terms statistically significant at a significance level of 5%?"
   ]
  },
  {
   "cell_type": "markdown",
   "metadata": {},
   "source": [
    "# Polynomial Terms"
   ]
  },
  {
   "cell_type": "code",
   "execution_count": 16,
   "metadata": {
    "collapsed": false
   },
   "outputs": [],
   "source": [
    "# your code here\n",
    "# Pick out continuous variables, add polynomial terms\n",
    "X = X_train[['temp','atemp','humidity','windspeed']].values\n",
    "new_X = np.hstack((X**(i+2) for i in range(3)))\n",
    "new_X = np.append(X_train.values,new_X,axis = 1)\n",
    "Xt = X_test[['temp','atemp','humidity','windspeed']].values\n",
    "new_Xt = np.hstack((Xt**(i+2) for i in range(3)))\n",
    "new_Xt = np.append(X_test.values,new_Xt,axis = 1)\n",
    "A1 = np.copy(new_X)\n",
    "B1 = np.copy(new_Xt)"
   ]
  },
  {
   "cell_type": "code",
   "execution_count": 17,
   "metadata": {
    "collapsed": false,
    "scrolled": false
   },
   "outputs": [
    {
     "name": "stdout",
     "output_type": "stream",
     "text": [
      "Train R^2 of pol features = 0.669656240221\n",
      "Test R^2 of pol features = 0.29395929122\n"
     ]
    },
    {
     "data": {
      "text/html": [
       "<table class=\"simpletable\">\n",
       "<caption>OLS Regression Results</caption>\n",
       "<tr>\n",
       "  <th>Dep. Variable:</th>            <td>y</td>        <th>  R-squared:         </th> <td>   0.670</td>\n",
       "</tr>\n",
       "<tr>\n",
       "  <th>Model:</th>                   <td>OLS</td>       <th>  Adj. R-squared:    </th> <td>   0.625</td>\n",
       "</tr>\n",
       "<tr>\n",
       "  <th>Method:</th>             <td>Least Squares</td>  <th>  F-statistic:       </th> <td>   15.13</td>\n",
       "</tr>\n",
       "<tr>\n",
       "  <th>Date:</th>             <td>Wed, 11 Oct 2017</td> <th>  Prob (F-statistic):</th> <td>7.98e-50</td>\n",
       "</tr>\n",
       "<tr>\n",
       "  <th>Time:</th>                 <td>17:25:11</td>     <th>  Log-Likelihood:    </th> <td> -2790.9</td>\n",
       "</tr>\n",
       "<tr>\n",
       "  <th>No. Observations:</th>      <td>   331</td>      <th>  AIC:               </th> <td>   5662.</td>\n",
       "</tr>\n",
       "<tr>\n",
       "  <th>Df Residuals:</th>          <td>   291</td>      <th>  BIC:               </th> <td>   5814.</td>\n",
       "</tr>\n",
       "<tr>\n",
       "  <th>Df Model:</th>              <td>    39</td>      <th>                     </th>     <td> </td>   \n",
       "</tr>\n",
       "<tr>\n",
       "  <th>Covariance Type:</th>      <td>nonrobust</td>    <th>                     </th>     <td> </td>   \n",
       "</tr>\n",
       "</table>\n",
       "<table class=\"simpletable\">\n",
       "<tr>\n",
       "    <td></td>       <th>coef</th>     <th>std err</th>      <th>t</th>      <th>P>|t|</th> <th>[95.0% Conf. Int.]</th> \n",
       "</tr>\n",
       "<tr>\n",
       "  <th>const</th> <td> 5035.2713</td> <td>  460.417</td> <td>   10.936</td> <td> 0.000</td> <td> 4129.101  5941.442</td>\n",
       "</tr>\n",
       "<tr>\n",
       "  <th>x1</th>    <td>  766.4307</td> <td>  454.546</td> <td>    1.686</td> <td> 0.093</td> <td> -128.185  1661.046</td>\n",
       "</tr>\n",
       "<tr>\n",
       "  <th>x2</th>    <td> 1578.7544</td> <td>  519.364</td> <td>    3.040</td> <td> 0.003</td> <td>  556.569  2600.940</td>\n",
       "</tr>\n",
       "<tr>\n",
       "  <th>x3</th>    <td> 1523.2288</td> <td>  467.580</td> <td>    3.258</td> <td> 0.001</td> <td>  602.961  2443.496</td>\n",
       "</tr>\n",
       "<tr>\n",
       "  <th>x4</th>    <td> -325.0686</td> <td>  409.611</td> <td>   -0.794</td> <td> 0.428</td> <td>-1131.245   481.108</td>\n",
       "</tr>\n",
       "<tr>\n",
       "  <th>x5</th>    <td> -304.8491</td> <td>  446.028</td> <td>   -0.683</td> <td> 0.495</td> <td>-1182.700   573.002</td>\n",
       "</tr>\n",
       "<tr>\n",
       "  <th>x6</th>    <td> -418.0245</td> <td>  639.524</td> <td>   -0.654</td> <td> 0.514</td> <td>-1676.703   840.654</td>\n",
       "</tr>\n",
       "<tr>\n",
       "  <th>x7</th>    <td>-1037.2042</td> <td>  677.186</td> <td>   -1.532</td> <td> 0.127</td> <td>-2370.008   295.599</td>\n",
       "</tr>\n",
       "<tr>\n",
       "  <th>x8</th>    <td>-1456.1857</td> <td>  697.520</td> <td>   -2.088</td> <td> 0.038</td> <td>-2829.010   -83.362</td>\n",
       "</tr>\n",
       "<tr>\n",
       "  <th>x9</th>    <td>-1416.9882</td> <td>  749.751</td> <td>   -1.890</td> <td> 0.060</td> <td>-2892.610    58.634</td>\n",
       "</tr>\n",
       "<tr>\n",
       "  <th>x10</th>   <td>-1715.9389</td> <td>  743.240</td> <td>   -2.309</td> <td> 0.022</td> <td>-3178.747  -253.131</td>\n",
       "</tr>\n",
       "<tr>\n",
       "  <th>x11</th>   <td>-1073.4008</td> <td>  660.859</td> <td>   -1.624</td> <td> 0.105</td> <td>-2374.069   227.268</td>\n",
       "</tr>\n",
       "<tr>\n",
       "  <th>x12</th>   <td> -925.8710</td> <td>  617.522</td> <td>   -1.499</td> <td> 0.135</td> <td>-2141.247   289.505</td>\n",
       "</tr>\n",
       "<tr>\n",
       "  <th>x13</th>   <td> -825.5328</td> <td>  591.138</td> <td>   -1.397</td> <td> 0.164</td> <td>-1988.981   337.916</td>\n",
       "</tr>\n",
       "<tr>\n",
       "  <th>x14</th>   <td> -555.6676</td> <td>  479.543</td> <td>   -1.159</td> <td> 0.248</td> <td>-1499.481   388.146</td>\n",
       "</tr>\n",
       "<tr>\n",
       "  <th>x15</th>   <td> -189.7675</td> <td>  365.157</td> <td>   -0.520</td> <td> 0.604</td> <td> -908.451   528.916</td>\n",
       "</tr>\n",
       "<tr>\n",
       "  <th>x16</th>   <td>  -93.3265</td> <td>  156.015</td> <td>   -0.598</td> <td> 0.550</td> <td> -400.387   213.734</td>\n",
       "</tr>\n",
       "<tr>\n",
       "  <th>x17</th>   <td> -133.4279</td> <td>  184.734</td> <td>   -0.722</td> <td> 0.471</td> <td> -497.012   230.156</td>\n",
       "</tr>\n",
       "<tr>\n",
       "  <th>x18</th>   <td>  147.7313</td> <td>  195.071</td> <td>    0.757</td> <td> 0.449</td> <td> -236.197   531.660</td>\n",
       "</tr>\n",
       "<tr>\n",
       "  <th>x19</th>   <td>   30.5924</td> <td>  187.547</td> <td>    0.163</td> <td> 0.871</td> <td> -338.528   399.713</td>\n",
       "</tr>\n",
       "<tr>\n",
       "  <th>x20</th>   <td>  209.9371</td> <td>  182.024</td> <td>    1.153</td> <td> 0.250</td> <td> -148.313   568.187</td>\n",
       "</tr>\n",
       "<tr>\n",
       "  <th>x21</th>   <td>  471.0834</td> <td>  246.557</td> <td>    1.911</td> <td> 0.057</td> <td>  -14.178   956.345</td>\n",
       "</tr>\n",
       "<tr>\n",
       "  <th>x22</th>   <td>  351.2739</td> <td>  150.615</td> <td>    2.332</td> <td> 0.020</td> <td>   54.841   647.707</td>\n",
       "</tr>\n",
       "<tr>\n",
       "  <th>x23</th>   <td>   59.0119</td> <td>  196.208</td> <td>    0.301</td> <td> 0.764</td> <td> -327.155   445.179</td>\n",
       "</tr>\n",
       "<tr>\n",
       "  <th>x24</th>   <td>-1043.9997</td> <td>  546.051</td> <td>   -1.912</td> <td> 0.057</td> <td>-2118.709    30.710</td>\n",
       "</tr>\n",
       "<tr>\n",
       "  <th>x25</th>   <td>  771.4866</td> <td>  760.117</td> <td>    1.015</td> <td> 0.311</td> <td> -724.536  2267.510</td>\n",
       "</tr>\n",
       "<tr>\n",
       "  <th>x26</th>   <td>  897.2756</td> <td>  713.172</td> <td>    1.258</td> <td> 0.209</td> <td> -506.353  2300.904</td>\n",
       "</tr>\n",
       "<tr>\n",
       "  <th>x27</th>   <td> -668.9145</td> <td>  157.356</td> <td>   -4.251</td> <td> 0.000</td> <td> -978.615  -359.214</td>\n",
       "</tr>\n",
       "<tr>\n",
       "  <th>x28</th>   <td> -446.5085</td> <td>  148.929</td> <td>   -2.998</td> <td> 0.003</td> <td> -739.623  -153.394</td>\n",
       "</tr>\n",
       "<tr>\n",
       "  <th>x29</th>   <td>-1811.0180</td> <td>  816.910</td> <td>   -2.217</td> <td> 0.027</td> <td>-3418.820  -203.216</td>\n",
       "</tr>\n",
       "<tr>\n",
       "  <th>x30</th>   <td> 1175.5005</td> <td>  788.864</td> <td>    1.490</td> <td> 0.137</td> <td> -377.102  2728.103</td>\n",
       "</tr>\n",
       "<tr>\n",
       "  <th>x31</th>   <td>  -53.6709</td> <td>  155.383</td> <td>   -0.345</td> <td> 0.730</td> <td> -359.488   252.146</td>\n",
       "</tr>\n",
       "<tr>\n",
       "  <th>x32</th>   <td>  -34.1653</td> <td>  126.952</td> <td>   -0.269</td> <td> 0.788</td> <td> -284.026   215.695</td>\n",
       "</tr>\n",
       "<tr>\n",
       "  <th>x33</th>   <td>    8.6078</td> <td>  275.731</td> <td>    0.031</td> <td> 0.975</td> <td> -534.071   551.287</td>\n",
       "</tr>\n",
       "<tr>\n",
       "  <th>x34</th>   <td> -303.9358</td> <td>  246.097</td> <td>   -1.235</td> <td> 0.218</td> <td> -788.292   180.420</td>\n",
       "</tr>\n",
       "<tr>\n",
       "  <th>x35</th>   <td>  -16.0576</td> <td>   44.892</td> <td>   -0.358</td> <td> 0.721</td> <td> -104.412    72.297</td>\n",
       "</tr>\n",
       "<tr>\n",
       "  <th>x36</th>   <td>   44.8339</td> <td>   65.459</td> <td>    0.685</td> <td> 0.494</td> <td>  -83.999   173.667</td>\n",
       "</tr>\n",
       "<tr>\n",
       "  <th>x37</th>   <td>  -45.1910</td> <td>  171.419</td> <td>   -0.264</td> <td> 0.792</td> <td> -382.570   292.188</td>\n",
       "</tr>\n",
       "<tr>\n",
       "  <th>x38</th>   <td>  -20.7686</td> <td>  147.605</td> <td>   -0.141</td> <td> 0.888</td> <td> -311.276   269.739</td>\n",
       "</tr>\n",
       "<tr>\n",
       "  <th>x39</th>   <td>  -24.8367</td> <td>   31.481</td> <td>   -0.789</td> <td> 0.431</td> <td>  -86.796    37.122</td>\n",
       "</tr>\n",
       "<tr>\n",
       "  <th>x40</th>   <td>  -20.1769</td> <td>   30.327</td> <td>   -0.665</td> <td> 0.506</td> <td>  -79.864    39.510</td>\n",
       "</tr>\n",
       "</table>\n",
       "<table class=\"simpletable\">\n",
       "<tr>\n",
       "  <th>Omnibus:</th>       <td>29.995</td> <th>  Durbin-Watson:     </th> <td>   1.959</td>\n",
       "</tr>\n",
       "<tr>\n",
       "  <th>Prob(Omnibus):</th> <td> 0.000</td> <th>  Jarque-Bera (JB):  </th> <td>  10.202</td>\n",
       "</tr>\n",
       "<tr>\n",
       "  <th>Skew:</th>          <td>-0.094</td> <th>  Prob(JB):          </th> <td> 0.00609</td>\n",
       "</tr>\n",
       "<tr>\n",
       "  <th>Kurtosis:</th>      <td> 2.161</td> <th>  Cond. No.          </th> <td>1.35e+16</td>\n",
       "</tr>\n",
       "</table>"
      ],
      "text/plain": [
       "<class 'statsmodels.iolib.summary.Summary'>\n",
       "\"\"\"\n",
       "                            OLS Regression Results                            \n",
       "==============================================================================\n",
       "Dep. Variable:                      y   R-squared:                       0.670\n",
       "Model:                            OLS   Adj. R-squared:                  0.625\n",
       "Method:                 Least Squares   F-statistic:                     15.13\n",
       "Date:                Wed, 11 Oct 2017   Prob (F-statistic):           7.98e-50\n",
       "Time:                        17:25:11   Log-Likelihood:                -2790.9\n",
       "No. Observations:                 331   AIC:                             5662.\n",
       "Df Residuals:                     291   BIC:                             5814.\n",
       "Df Model:                          39                                         \n",
       "Covariance Type:            nonrobust                                         \n",
       "==============================================================================\n",
       "                 coef    std err          t      P>|t|      [95.0% Conf. Int.]\n",
       "------------------------------------------------------------------------------\n",
       "const       5035.2713    460.417     10.936      0.000      4129.101  5941.442\n",
       "x1           766.4307    454.546      1.686      0.093      -128.185  1661.046\n",
       "x2          1578.7544    519.364      3.040      0.003       556.569  2600.940\n",
       "x3          1523.2288    467.580      3.258      0.001       602.961  2443.496\n",
       "x4          -325.0686    409.611     -0.794      0.428     -1131.245   481.108\n",
       "x5          -304.8491    446.028     -0.683      0.495     -1182.700   573.002\n",
       "x6          -418.0245    639.524     -0.654      0.514     -1676.703   840.654\n",
       "x7         -1037.2042    677.186     -1.532      0.127     -2370.008   295.599\n",
       "x8         -1456.1857    697.520     -2.088      0.038     -2829.010   -83.362\n",
       "x9         -1416.9882    749.751     -1.890      0.060     -2892.610    58.634\n",
       "x10        -1715.9389    743.240     -2.309      0.022     -3178.747  -253.131\n",
       "x11        -1073.4008    660.859     -1.624      0.105     -2374.069   227.268\n",
       "x12         -925.8710    617.522     -1.499      0.135     -2141.247   289.505\n",
       "x13         -825.5328    591.138     -1.397      0.164     -1988.981   337.916\n",
       "x14         -555.6676    479.543     -1.159      0.248     -1499.481   388.146\n",
       "x15         -189.7675    365.157     -0.520      0.604      -908.451   528.916\n",
       "x16          -93.3265    156.015     -0.598      0.550      -400.387   213.734\n",
       "x17         -133.4279    184.734     -0.722      0.471      -497.012   230.156\n",
       "x18          147.7313    195.071      0.757      0.449      -236.197   531.660\n",
       "x19           30.5924    187.547      0.163      0.871      -338.528   399.713\n",
       "x20          209.9371    182.024      1.153      0.250      -148.313   568.187\n",
       "x21          471.0834    246.557      1.911      0.057       -14.178   956.345\n",
       "x22          351.2739    150.615      2.332      0.020        54.841   647.707\n",
       "x23           59.0119    196.208      0.301      0.764      -327.155   445.179\n",
       "x24        -1043.9997    546.051     -1.912      0.057     -2118.709    30.710\n",
       "x25          771.4866    760.117      1.015      0.311      -724.536  2267.510\n",
       "x26          897.2756    713.172      1.258      0.209      -506.353  2300.904\n",
       "x27         -668.9145    157.356     -4.251      0.000      -978.615  -359.214\n",
       "x28         -446.5085    148.929     -2.998      0.003      -739.623  -153.394\n",
       "x29        -1811.0180    816.910     -2.217      0.027     -3418.820  -203.216\n",
       "x30         1175.5005    788.864      1.490      0.137      -377.102  2728.103\n",
       "x31          -53.6709    155.383     -0.345      0.730      -359.488   252.146\n",
       "x32          -34.1653    126.952     -0.269      0.788      -284.026   215.695\n",
       "x33            8.6078    275.731      0.031      0.975      -534.071   551.287\n",
       "x34         -303.9358    246.097     -1.235      0.218      -788.292   180.420\n",
       "x35          -16.0576     44.892     -0.358      0.721      -104.412    72.297\n",
       "x36           44.8339     65.459      0.685      0.494       -83.999   173.667\n",
       "x37          -45.1910    171.419     -0.264      0.792      -382.570   292.188\n",
       "x38          -20.7686    147.605     -0.141      0.888      -311.276   269.739\n",
       "x39          -24.8367     31.481     -0.789      0.431       -86.796    37.122\n",
       "x40          -20.1769     30.327     -0.665      0.506       -79.864    39.510\n",
       "==============================================================================\n",
       "Omnibus:                       29.995   Durbin-Watson:                   1.959\n",
       "Prob(Omnibus):                  0.000   Jarque-Bera (JB):               10.202\n",
       "Skew:                          -0.094   Prob(JB):                      0.00609\n",
       "Kurtosis:                       2.161   Cond. No.                     1.35e+16\n",
       "==============================================================================\n",
       "\n",
       "Warnings:\n",
       "[1] Standard Errors assume that the covariance matrix of the errors is correctly specified.\n",
       "[2] The smallest eigenvalue is 2.1e-28. This might indicate that there are\n",
       "strong multicollinearity problems or that the design matrix is singular.\n",
       "\"\"\""
      ]
     },
     "execution_count": 17,
     "metadata": {},
     "output_type": "execute_result"
    }
   ],
   "source": [
    "Xf1 = sm.add_constant(new_X)\n",
    "os1 = sm.OLS(y_train,Xf1).fit()\n",
    "print('Train R^2 of pol features = %s' %r2_score(y_train,os1.predict(sm.add_constant(new_X))))\n",
    "print('Test R^2 of pol features = %s' %r2_score(y_test,os1.predict(sm.add_constant(new_Xt))))\n",
    "os1.summary()\n"
   ]
  },
  {
   "cell_type": "markdown",
   "metadata": {},
   "source": [
    "Q\n",
    "\n",
    "- How does the $R^2$ of this model on the test set compare with that of the linear model fitted in Part (b) from HW 3? Using a t-test, find out which of estimated coefficients for the polynomial terms are statistically significant at a significance level of 5%. \n",
    "\n",
    "A\n",
    "\n",
    "- The R^2 of this model on the test set yields 0.293 (see top) while in 3b it gave us 0.257. This shows us that polynomial features improve the test score. Using a t-test shows us that only temp^2 is statistically significant from the new set. "
   ]
  },
  {
   "cell_type": "markdown",
   "metadata": {},
   "source": [
    "# Interaction + Polynomial Terms"
   ]
  },
  {
   "cell_type": "code",
   "execution_count": 18,
   "metadata": {
    "collapsed": false,
    "scrolled": false
   },
   "outputs": [
    {
     "name": "stdout",
     "output_type": "stream",
     "text": [
      "Train R^2 of p + interaction = 0.669967599304\n",
      "Test R^2 of p + interaction = 0.298749520353\n"
     ]
    },
    {
     "data": {
      "text/html": [
       "<table class=\"simpletable\">\n",
       "<caption>OLS Regression Results</caption>\n",
       "<tr>\n",
       "  <th>Dep. Variable:</th>            <td>y</td>        <th>  R-squared:         </th> <td>   0.670</td>\n",
       "</tr>\n",
       "<tr>\n",
       "  <th>Model:</th>                   <td>OLS</td>       <th>  Adj. R-squared:    </th> <td>   0.623</td>\n",
       "</tr>\n",
       "<tr>\n",
       "  <th>Method:</th>             <td>Least Squares</td>  <th>  F-statistic:       </th> <td>   14.31</td>\n",
       "</tr>\n",
       "<tr>\n",
       "  <th>Date:</th>             <td>Wed, 11 Oct 2017</td> <th>  Prob (F-statistic):</th> <td>1.07e-48</td>\n",
       "</tr>\n",
       "<tr>\n",
       "  <th>Time:</th>                 <td>17:25:18</td>     <th>  Log-Likelihood:    </th> <td> -2790.7</td>\n",
       "</tr>\n",
       "<tr>\n",
       "  <th>No. Observations:</th>      <td>   331</td>      <th>  AIC:               </th> <td>   5665.</td>\n",
       "</tr>\n",
       "<tr>\n",
       "  <th>Df Residuals:</th>          <td>   289</td>      <th>  BIC:               </th> <td>   5825.</td>\n",
       "</tr>\n",
       "<tr>\n",
       "  <th>Df Model:</th>              <td>    41</td>      <th>                     </th>     <td> </td>   \n",
       "</tr>\n",
       "<tr>\n",
       "  <th>Covariance Type:</th>      <td>nonrobust</td>    <th>                     </th>     <td> </td>   \n",
       "</tr>\n",
       "</table>\n",
       "<table class=\"simpletable\">\n",
       "<tr>\n",
       "    <td></td>       <th>coef</th>     <th>std err</th>      <th>t</th>      <th>P>|t|</th> <th>[95.0% Conf. Int.]</th> \n",
       "</tr>\n",
       "<tr>\n",
       "  <th>const</th> <td> 5002.8722</td> <td>  480.670</td> <td>   10.408</td> <td> 0.000</td> <td> 4056.815  5948.929</td>\n",
       "</tr>\n",
       "<tr>\n",
       "  <th>x1</th>    <td>  763.6379</td> <td>  463.746</td> <td>    1.647</td> <td> 0.101</td> <td> -149.110  1676.386</td>\n",
       "</tr>\n",
       "<tr>\n",
       "  <th>x2</th>    <td> 1564.2796</td> <td>  545.007</td> <td>    2.870</td> <td> 0.004</td> <td>  491.593  2636.966</td>\n",
       "</tr>\n",
       "<tr>\n",
       "  <th>x3</th>    <td> 1493.1626</td> <td>  505.353</td> <td>    2.955</td> <td> 0.003</td> <td>  498.524  2487.801</td>\n",
       "</tr>\n",
       "<tr>\n",
       "  <th>x4</th>    <td> -325.7395</td> <td>  415.794</td> <td>   -0.783</td> <td> 0.434</td> <td>-1144.107   492.628</td>\n",
       "</tr>\n",
       "<tr>\n",
       "  <th>x5</th>    <td> -311.7359</td> <td>  465.982</td> <td>   -0.669</td> <td> 0.504</td> <td>-1228.885   605.413</td>\n",
       "</tr>\n",
       "<tr>\n",
       "  <th>x6</th>    <td> -429.5823</td> <td>  676.680</td> <td>   -0.635</td> <td> 0.526</td> <td>-1761.428   902.264</td>\n",
       "</tr>\n",
       "<tr>\n",
       "  <th>x7</th>    <td>-1024.8594</td> <td>  711.364</td> <td>   -1.441</td> <td> 0.151</td> <td>-2424.970   375.251</td>\n",
       "</tr>\n",
       "<tr>\n",
       "  <th>x8</th>    <td>-1466.6541</td> <td>  734.348</td> <td>   -1.997</td> <td> 0.047</td> <td>-2912.002   -21.306</td>\n",
       "</tr>\n",
       "<tr>\n",
       "  <th>x9</th>    <td>-1427.6739</td> <td>  798.423</td> <td>   -1.788</td> <td> 0.075</td> <td>-2999.136   143.788</td>\n",
       "</tr>\n",
       "<tr>\n",
       "  <th>x10</th>   <td>-1720.6375</td> <td>  791.728</td> <td>   -2.173</td> <td> 0.031</td> <td>-3278.922  -162.353</td>\n",
       "</tr>\n",
       "<tr>\n",
       "  <th>x11</th>   <td>-1055.9093</td> <td>  726.079</td> <td>   -1.454</td> <td> 0.147</td> <td>-2484.983   373.165</td>\n",
       "</tr>\n",
       "<tr>\n",
       "  <th>x12</th>   <td> -882.2336</td> <td>  692.220</td> <td>   -1.274</td> <td> 0.204</td> <td>-2244.665   480.198</td>\n",
       "</tr>\n",
       "<tr>\n",
       "  <th>x13</th>   <td> -773.6133</td> <td>  656.762</td> <td>   -1.178</td> <td> 0.240</td> <td>-2066.257   519.030</td>\n",
       "</tr>\n",
       "<tr>\n",
       "  <th>x14</th>   <td> -548.4481</td> <td>  515.138</td> <td>   -1.065</td> <td> 0.288</td> <td>-1562.346   465.450</td>\n",
       "</tr>\n",
       "<tr>\n",
       "  <th>x15</th>   <td> -174.5488</td> <td>  369.198</td> <td>   -0.473</td> <td> 0.637</td> <td> -901.206   552.109</td>\n",
       "</tr>\n",
       "<tr>\n",
       "  <th>x16</th>   <td> -107.4572</td> <td>  158.815</td> <td>   -0.677</td> <td> 0.499</td> <td> -420.038   205.124</td>\n",
       "</tr>\n",
       "<tr>\n",
       "  <th>x17</th>   <td> -148.1951</td> <td>  187.684</td> <td>   -0.790</td> <td> 0.430</td> <td> -517.595   221.205</td>\n",
       "</tr>\n",
       "<tr>\n",
       "  <th>x18</th>   <td>  129.0956</td> <td>  199.548</td> <td>    0.647</td> <td> 0.518</td> <td> -263.656   521.847</td>\n",
       "</tr>\n",
       "<tr>\n",
       "  <th>x19</th>   <td>   12.1349</td> <td>  191.518</td> <td>    0.063</td> <td> 0.950</td> <td> -364.813   389.082</td>\n",
       "</tr>\n",
       "<tr>\n",
       "  <th>x20</th>   <td>  191.8714</td> <td>  185.980</td> <td>    1.032</td> <td> 0.303</td> <td> -174.176   557.918</td>\n",
       "</tr>\n",
       "<tr>\n",
       "  <th>x21</th>   <td>  462.4486</td> <td>  248.640</td> <td>    1.860</td> <td> 0.064</td> <td>  -26.926   951.824</td>\n",
       "</tr>\n",
       "<tr>\n",
       "  <th>x22</th>   <td>  251.9984</td> <td>  243.915</td> <td>    1.033</td> <td> 0.302</td> <td> -228.076   732.073</td>\n",
       "</tr>\n",
       "<tr>\n",
       "  <th>x23</th>   <td>  181.8735</td> <td>  309.316</td> <td>    0.588</td> <td> 0.557</td> <td> -426.924   790.671</td>\n",
       "</tr>\n",
       "<tr>\n",
       "  <th>x24</th>   <td> -923.0406</td> <td>  594.656</td> <td>   -1.552</td> <td> 0.122</td> <td>-2093.447   247.366</td>\n",
       "</tr>\n",
       "<tr>\n",
       "  <th>x25</th>   <td>  795.0787</td> <td>  764.545</td> <td>    1.040</td> <td> 0.299</td> <td> -709.704  2299.861</td>\n",
       "</tr>\n",
       "<tr>\n",
       "  <th>x26</th>   <td>  881.7153</td> <td>  717.029</td> <td>    1.230</td> <td> 0.220</td> <td> -529.546  2292.976</td>\n",
       "</tr>\n",
       "<tr>\n",
       "  <th>x27</th>   <td> -676.3519</td> <td>  158.504</td> <td>   -4.267</td> <td> 0.000</td> <td> -988.320  -364.384</td>\n",
       "</tr>\n",
       "<tr>\n",
       "  <th>x28</th>   <td> -447.0797</td> <td>  150.175</td> <td>   -2.977</td> <td> 0.003</td> <td> -742.655  -151.505</td>\n",
       "</tr>\n",
       "<tr>\n",
       "  <th>x29</th>   <td>-1801.8581</td> <td>  819.867</td> <td>   -2.198</td> <td> 0.029</td> <td>-3415.526  -188.190</td>\n",
       "</tr>\n",
       "<tr>\n",
       "  <th>x30</th>   <td> 1170.6729</td> <td>  792.462</td> <td>    1.477</td> <td> 0.141</td> <td> -389.055  2730.401</td>\n",
       "</tr>\n",
       "<tr>\n",
       "  <th>x31</th>   <td>  -56.5186</td> <td>  155.980</td> <td>   -0.362</td> <td> 0.717</td> <td> -363.519   250.482</td>\n",
       "</tr>\n",
       "<tr>\n",
       "  <th>x32</th>   <td>  -37.8573</td> <td>  127.862</td> <td>   -0.296</td> <td> 0.767</td> <td> -289.515   213.801</td>\n",
       "</tr>\n",
       "<tr>\n",
       "  <th>x33</th>   <td>    1.6628</td> <td>  278.742</td> <td>    0.006</td> <td> 0.995</td> <td> -546.958   550.284</td>\n",
       "</tr>\n",
       "<tr>\n",
       "  <th>x34</th>   <td> -298.9891</td> <td>  247.662</td> <td>   -1.207</td> <td> 0.228</td> <td> -786.439   188.461</td>\n",
       "</tr>\n",
       "<tr>\n",
       "  <th>x35</th>   <td>  -15.0311</td> <td>   45.150</td> <td>   -0.333</td> <td> 0.739</td> <td> -103.896    73.834</td>\n",
       "</tr>\n",
       "<tr>\n",
       "  <th>x36</th>   <td>   44.5758</td> <td>   65.712</td> <td>    0.678</td> <td> 0.498</td> <td>  -84.760   173.911</td>\n",
       "</tr>\n",
       "<tr>\n",
       "  <th>x37</th>   <td>  -44.7557</td> <td>  171.933</td> <td>   -0.260</td> <td> 0.795</td> <td> -383.155   293.643</td>\n",
       "</tr>\n",
       "<tr>\n",
       "  <th>x38</th>   <td>  -21.0470</td> <td>  148.500</td> <td>   -0.142</td> <td> 0.887</td> <td> -313.326   271.231</td>\n",
       "</tr>\n",
       "<tr>\n",
       "  <th>x39</th>   <td>  -23.9877</td> <td>   31.681</td> <td>   -0.757</td> <td> 0.450</td> <td>  -86.343    38.367</td>\n",
       "</tr>\n",
       "<tr>\n",
       "  <th>x40</th>   <td>  -19.3589</td> <td>   30.476</td> <td>   -0.635</td> <td> 0.526</td> <td>  -79.341    40.623</td>\n",
       "</tr>\n",
       "<tr>\n",
       "  <th>x41</th>   <td>    3.9679</td> <td>   63.938</td> <td>    0.062</td> <td> 0.951</td> <td> -121.875   129.811</td>\n",
       "</tr>\n",
       "<tr>\n",
       "  <th>x42</th>   <td>  165.0265</td> <td>  322.219</td> <td>    0.512</td> <td> 0.609</td> <td> -469.167   799.220</td>\n",
       "</tr>\n",
       "</table>\n",
       "<table class=\"simpletable\">\n",
       "<tr>\n",
       "  <th>Omnibus:</th>       <td>29.023</td> <th>  Durbin-Watson:     </th> <td>   1.960</td>\n",
       "</tr>\n",
       "<tr>\n",
       "  <th>Prob(Omnibus):</th> <td> 0.000</td> <th>  Jarque-Bera (JB):  </th> <td>  10.080</td>\n",
       "</tr>\n",
       "<tr>\n",
       "  <th>Skew:</th>          <td>-0.099</td> <th>  Prob(JB):          </th> <td> 0.00647</td>\n",
       "</tr>\n",
       "<tr>\n",
       "  <th>Kurtosis:</th>      <td> 2.168</td> <th>  Cond. No.          </th> <td>1.36e+16</td>\n",
       "</tr>\n",
       "</table>"
      ],
      "text/plain": [
       "<class 'statsmodels.iolib.summary.Summary'>\n",
       "\"\"\"\n",
       "                            OLS Regression Results                            \n",
       "==============================================================================\n",
       "Dep. Variable:                      y   R-squared:                       0.670\n",
       "Model:                            OLS   Adj. R-squared:                  0.623\n",
       "Method:                 Least Squares   F-statistic:                     14.31\n",
       "Date:                Wed, 11 Oct 2017   Prob (F-statistic):           1.07e-48\n",
       "Time:                        17:25:18   Log-Likelihood:                -2790.7\n",
       "No. Observations:                 331   AIC:                             5665.\n",
       "Df Residuals:                     289   BIC:                             5825.\n",
       "Df Model:                          41                                         \n",
       "Covariance Type:            nonrobust                                         \n",
       "==============================================================================\n",
       "                 coef    std err          t      P>|t|      [95.0% Conf. Int.]\n",
       "------------------------------------------------------------------------------\n",
       "const       5002.8722    480.670     10.408      0.000      4056.815  5948.929\n",
       "x1           763.6379    463.746      1.647      0.101      -149.110  1676.386\n",
       "x2          1564.2796    545.007      2.870      0.004       491.593  2636.966\n",
       "x3          1493.1626    505.353      2.955      0.003       498.524  2487.801\n",
       "x4          -325.7395    415.794     -0.783      0.434     -1144.107   492.628\n",
       "x5          -311.7359    465.982     -0.669      0.504     -1228.885   605.413\n",
       "x6          -429.5823    676.680     -0.635      0.526     -1761.428   902.264\n",
       "x7         -1024.8594    711.364     -1.441      0.151     -2424.970   375.251\n",
       "x8         -1466.6541    734.348     -1.997      0.047     -2912.002   -21.306\n",
       "x9         -1427.6739    798.423     -1.788      0.075     -2999.136   143.788\n",
       "x10        -1720.6375    791.728     -2.173      0.031     -3278.922  -162.353\n",
       "x11        -1055.9093    726.079     -1.454      0.147     -2484.983   373.165\n",
       "x12         -882.2336    692.220     -1.274      0.204     -2244.665   480.198\n",
       "x13         -773.6133    656.762     -1.178      0.240     -2066.257   519.030\n",
       "x14         -548.4481    515.138     -1.065      0.288     -1562.346   465.450\n",
       "x15         -174.5488    369.198     -0.473      0.637      -901.206   552.109\n",
       "x16         -107.4572    158.815     -0.677      0.499      -420.038   205.124\n",
       "x17         -148.1951    187.684     -0.790      0.430      -517.595   221.205\n",
       "x18          129.0956    199.548      0.647      0.518      -263.656   521.847\n",
       "x19           12.1349    191.518      0.063      0.950      -364.813   389.082\n",
       "x20          191.8714    185.980      1.032      0.303      -174.176   557.918\n",
       "x21          462.4486    248.640      1.860      0.064       -26.926   951.824\n",
       "x22          251.9984    243.915      1.033      0.302      -228.076   732.073\n",
       "x23          181.8735    309.316      0.588      0.557      -426.924   790.671\n",
       "x24         -923.0406    594.656     -1.552      0.122     -2093.447   247.366\n",
       "x25          795.0787    764.545      1.040      0.299      -709.704  2299.861\n",
       "x26          881.7153    717.029      1.230      0.220      -529.546  2292.976\n",
       "x27         -676.3519    158.504     -4.267      0.000      -988.320  -364.384\n",
       "x28         -447.0797    150.175     -2.977      0.003      -742.655  -151.505\n",
       "x29        -1801.8581    819.867     -2.198      0.029     -3415.526  -188.190\n",
       "x30         1170.6729    792.462      1.477      0.141      -389.055  2730.401\n",
       "x31          -56.5186    155.980     -0.362      0.717      -363.519   250.482\n",
       "x32          -37.8573    127.862     -0.296      0.767      -289.515   213.801\n",
       "x33            1.6628    278.742      0.006      0.995      -546.958   550.284\n",
       "x34         -298.9891    247.662     -1.207      0.228      -786.439   188.461\n",
       "x35          -15.0311     45.150     -0.333      0.739      -103.896    73.834\n",
       "x36           44.5758     65.712      0.678      0.498       -84.760   173.911\n",
       "x37          -44.7557    171.933     -0.260      0.795      -383.155   293.643\n",
       "x38          -21.0470    148.500     -0.142      0.887      -313.326   271.231\n",
       "x39          -23.9877     31.681     -0.757      0.450       -86.343    38.367\n",
       "x40          -19.3589     30.476     -0.635      0.526       -79.341    40.623\n",
       "x41            3.9679     63.938      0.062      0.951      -121.875   129.811\n",
       "x42          165.0265    322.219      0.512      0.609      -469.167   799.220\n",
       "==============================================================================\n",
       "Omnibus:                       29.023   Durbin-Watson:                   1.960\n",
       "Prob(Omnibus):                  0.000   Jarque-Bera (JB):               10.080\n",
       "Skew:                          -0.099   Prob(JB):                      0.00647\n",
       "Kurtosis:                       2.168   Cond. No.                     1.36e+16\n",
       "==============================================================================\n",
       "\n",
       "Warnings:\n",
       "[1] Standard Errors assume that the covariance matrix of the errors is correctly specified.\n",
       "[2] The smallest eigenvalue is 2.08e-28. This might indicate that there are\n",
       "strong multicollinearity problems or that the design matrix is singular.\n",
       "\"\"\""
      ]
     },
     "execution_count": 18,
     "metadata": {},
     "output_type": "execute_result"
    }
   ],
   "source": [
    "# Interaction terms + polynomial terms\n",
    "temp1 = np.array([pd.get_dummies(Biketrain['month'])[12]])\n",
    "temp2 = np.array([Biketrain['temp']])\n",
    "new_X = np.hstack((new_X,temp1.T*temp2.T))\n",
    "temp1 = np.array([pd.get_dummies(Biketrain['workingday'])[1]])\n",
    "temp2 = np.array([pd.get_dummies(Biketrain['weather'])[1]])\n",
    "new_X = np.hstack((new_X,temp1.T*temp2.T))\n",
    "\n",
    "temp1 = np.array([pd.get_dummies(Biketest['month'])[12]])\n",
    "temp2 = np.array([Biketest['temp']])\n",
    "new_Xt = np.hstack((new_Xt,temp1.T*temp2.T))\n",
    "temp1 = np.array([pd.get_dummies(Biketest['workingday'])[1]])\n",
    "temp2 = np.array([pd.get_dummies(Biketest['weather'])[1]])\n",
    "new_Xt = np.hstack((new_Xt,temp1.T*temp2.T))\n",
    "\n",
    "X = sm.add_constant(new_X)\n",
    "ols = sm.OLS(y_train,X).fit()\n",
    "print('Train R^2 of p + interaction = %s' %r2_score(y_train,ols.predict(sm.add_constant(new_X))))\n",
    "print('Test R^2 of p + interaction = %s' %r2_score(y_test,ols.predict(sm.add_constant(new_Xt))))\n",
    "ols.summary()\n",
    "\n"
   ]
  },
  {
   "cell_type": "markdown",
   "metadata": {},
   "source": [
    "Q\n",
    "\n",
    "- How does this compare with the $R^2$ obtained using linear model in Part (b) from HW 3? Are the estimated coefficients for the interaction terms statistically significant at a significance level of 5%?\n",
    "\n",
    "A\n",
    "\n",
    "- The test R^2 of 0.298 is higher with these two interaction terms than the R^2 of 0.257 of part 3b. Neither of the coefficients are statistically significant at the 5% level. Adding interaction terms makes the difference of R^2 from 0.293 to 0.298"
   ]
  },
  {
   "cell_type": "markdown",
   "metadata": {},
   "source": [
    "## Part (h): PCA to deal with high dimensionality\n",
    "\n",
    "We would like to fit a model to include all main effects, polynomial terms up to the $4^{th}$ order, and all interactions between all possible predictors and polynomial terms (not including the interactions between $X^1_j$, $X^2_j$, $X^3_j$, and $X^4_j$ as they would just create higher order polynomial terms).  \n",
    "\n",
    "- Create an expanded training set including all the desired terms mentioned above.  What are the dimensions of this 'design matrix' of all the predictor variables?   What are the issues with attempting to fit a regression model using all of these predictors?\n",
    "\n",
    "- Instead of using the usual approaches for model selection, let's instead use principal components analysis (PCA) to fit the model.  First, create the principal component vectors in python (consider: should you normalize first?).  Then fit 5 different regression models: (1) using just the first PCA vector, (2) using the first two PCA vectors, (3) using the first three PCA vectors, etc...  Briefly summarize how these models compare in the training set.\n",
    "\n",
    "- Use the test set to decide which of the 5 models above is best to predict out of sample.  How does this model compare to the previous models you've fit?  What are the interpretations of this model's coefficients?"
   ]
  },
  {
   "cell_type": "markdown",
   "metadata": {},
   "source": [
    "# Option 1: Use all polynomial features generated by the function\n",
    "\n",
    "Pavlos said many approaches can work, therefore I decided to compare two methods.\n",
    "\n",
    "The first is simply to determine every interaction term across the 28 initial features we had using polynomial features (a quick and dirty method). This means that some columns will have zeros and that terms such as x1^2x3 exist. PCA probably handles the columns where there are zeros well but it is unclear how it handles continuous polynomial features with others."
   ]
  },
  {
   "cell_type": "code",
   "execution_count": 32,
   "metadata": {
    "collapsed": false
   },
   "outputs": [
    {
     "data": {
      "text/plain": [
       "(331, 35960)"
      ]
     },
     "execution_count": 32,
     "metadata": {},
     "output_type": "execute_result"
    }
   ],
   "source": [
    "X_train_exp = PolynomialFeatures(4).fit_transform(X_train)\n",
    "X_test_exp = PolynomialFeatures(4).fit_transform(X_test)"
   ]
  },
  {
   "cell_type": "code",
   "execution_count": 34,
   "metadata": {
    "collapsed": false
   },
   "outputs": [
    {
     "name": "stdout",
     "output_type": "stream",
     "text": [
      "Train R^2: 0.17755647284025688\n",
      "Test R^2: 0.1334272656417913\n",
      "Train R^2: 0.3101639313048855\n",
      "Test R^2: 0.18655009403485423\n",
      "Train R^2: 0.31016520046265195\n",
      "Test R^2: 0.18663082519320406\n",
      "Train R^2: 0.31709960037180795\n",
      "Test R^2: 0.18194035482808146\n",
      "Train R^2: 0.36586631796099633\n",
      "Test R^2: 0.21601386039653636\n"
     ]
    }
   ],
   "source": [
    "from sklearn import preprocessing\n",
    "from sklearn.decomposition import PCA\n",
    "X_normalizedtr = preprocessing.normalize(X_train_exp, norm='l2')\n",
    "X_normalizedtst = preprocessing.normalize(X_test_exp, norm='l2')\n",
    "\n",
    "pca = PCA(n_components=5)\n",
    "pca.fit(X_normalizedtr)\n",
    "X_train_pca = pca.transform(X_normalizedtr)\n",
    "X_test_pca = pca.transform(X_normalizedtst)\n",
    "\n",
    "for i in range(5):\n",
    "    regression_model = LinearRegression(fit_intercept=True)\n",
    "    regression_model.fit(X_train_pca[:,0:i+1], y_train)\n",
    "    print('Train R^2: {}'.format(regression_model.score(X_train_pca[:,0:i+1],y_train)))\n",
    "    print('Test R^2: {}'.format(regression_model.score(X_test_pca[:,0:i+1], y_test)))"
   ]
  },
  {
   "cell_type": "markdown",
   "metadata": {},
   "source": [
    "# Option 2: Find up to 4th order interactions + 12 polynomial continuous features - zero columns\n",
    "\n",
    "In this option we restrict polynomial features to only give us interaction terms(e.g. no z^2 terms which were problematic in option 1). For example, in option 1 we had season2 and season2^2, these are essentially the same predictors but we have removed those in this step.\n",
    "\n",
    "Secondly, we add in our 12 polynomial features from the continuous variables e.g. X^2,X^3,X^4 where X consists of temp,atemp,humidity and windspeed.\n",
    "\n",
    "Lastly, we drop any columns with zero values e.g. season2*season3 gives zero since these two are linearly independent.\n",
    "\n"
   ]
  },
  {
   "cell_type": "code",
   "execution_count": 53,
   "metadata": {
    "collapsed": false
   },
   "outputs": [],
   "source": [
    "Xpol_train = []\n",
    "Xpol_test = []\n",
    "\n",
    "# 1. include interaction between all 28 features e.g x1x2,x1x2x3x4 etc this is all interactions of order 2,3 and 4\n",
    "Xpol_train.append(PolynomialFeatures(4,interaction_only=True).fit_transform(X_train))\n",
    "Xpol_test.append(PolynomialFeatures(4,interaction_only=True).fit_transform(X_test))\n",
    "\n",
    "# 2. add polynomial features e.g. temp^2 for cts variables\n",
    "X = X_train[['temp','atemp','humidity','windspeed']].values\n",
    "Xpol_train.append(np.hstack((X**(i+2) for i in range(3))))\n",
    "X = X_test[['temp','atemp','humidity','windspeed']].values\n",
    "Xpol_test.append(np.hstack((X**(i+2) for i in range(3))))\n",
    "\n",
    "Xpol_trn = np.concatenate((Xpol_train[0],Xpol_train[1]),axis=1)\n",
    "Xpol_tst = np.concatenate((Xpol_test[0],Xpol_test[1]),axis=1)\n",
    "dropidx = np.any(Xpol_trn,0)\n",
    "Xpol_trn = Xpol_trn[:,dropidx]\n",
    "Xpol_tst = Xpol_tst[:,dropidx]"
   ]
  },
  {
   "cell_type": "code",
   "execution_count": 54,
   "metadata": {
    "collapsed": false
   },
   "outputs": [
    {
     "data": {
      "text/plain": [
       "(331, 3889)"
      ]
     },
     "execution_count": 54,
     "metadata": {},
     "output_type": "execute_result"
    }
   ],
   "source": [
    "np.shape(Xpol_trn)"
   ]
  },
  {
   "cell_type": "code",
   "execution_count": 56,
   "metadata": {
    "collapsed": false,
    "scrolled": true
   },
   "outputs": [
    {
     "name": "stdout",
     "output_type": "stream",
     "text": [
      "Train R^2: 0.01713893713748793\n",
      "Test R^2: 0.01659706324271959\n",
      "Train R^2: 0.3196281405663829\n",
      "Test R^2: 0.1976541751664117\n",
      "Train R^2: 0.3226069768381997\n",
      "Test R^2: 0.20945444493588328\n",
      "Train R^2: 0.32622477573156816\n",
      "Test R^2: 0.21376775964700634\n",
      "Train R^2: 0.5207583019702792\n",
      "Test R^2: 0.2504529807432241\n"
     ]
    }
   ],
   "source": [
    "X_normalizedtr = preprocessing.normalize(Xpol_trn, norm='l2')\n",
    "X_normalizedtst = preprocessing.normalize(Xpol_tst, norm='l2')\n",
    "\n",
    "pca = PCA(n_components=5)\n",
    "pca.fit(X_normalizedtr)\n",
    "X_train_pca = pca.transform(X_normalizedtr)\n",
    "X_test_pca = pca.transform(X_normalizedtst)\n",
    "\n",
    "for i in range(5):\n",
    "    regression_model = LinearRegression(fit_intercept=True)\n",
    "    regression_model.fit(X_train_pca[:,0:i+1], y_train)\n",
    "    print('Train R^2: {}'.format(regression_model.score(X_train_pca[:,0:i+1],y_train)))\n",
    "    print('Test R^2: {}'.format(regression_model.score(X_test_pca[:,0:i+1], y_test)))"
   ]
  },
  {
   "cell_type": "markdown",
   "metadata": {},
   "source": [
    "Note: What we find is that using polynomial features directly gives us many more features than option 2 described above. In the training and test, both options appear to perform similarly but the real difference comes in with 5 PCA components in option 2 indicating that the additional cross terms in option 1 may be hindering the PCA.\n",
    "\n",
    "\n",
    "Q\n",
    "\n",
    "- Create an expanded training set including all the desired terms mentioned above.  What are the dimensions of this 'design matrix' of all the predictor variables?   What are the issues with attempting to fit a regression model using all of these predictors?\n",
    "\n",
    "A\n",
    "\n",
    "- Dimension of the design matrix varies based on which terms you decide to keep. In option 1 above the order should be ${k+n}\\choose{n} $ where k is the number of features and n is the order. This turns out to be 35960 in our case. Another way to think of this is to say if you have 4 features, and you want interaction terms of the order 2 then you will get $4\\choose 2$ terms, lets say you alsow wanted order 3 features from this set then you will get $4\\choose 3$ features. You can then add these up based on the given problem. Note- this choose way of thinking does not account for interactions between a predictor and itself e.g. x1^2 is not accounted for.\n",
    "\n",
    "\n",
    "Many issues arise while trying to fit with all predictors - \n",
    "1. over fitting on the training set\n",
    "2. multi collinearity issues\n",
    "3. features that are no longer intuitive e.g (weather*dayofweek*month*temp) seems like this could be a scaled proxy for temp\n",
    "4. computational complexity scales exponentially\n",
    "\n",
    "Q\n",
    "\n",
    "- Instead of using the usual approaches for model selection, let's instead use principal components analysis (PCA) to fit the model.  First, create the principal component vectors in python (consider: should you normalize first?).  Then fit 5 different regression models: (1) using just the first PCA vector, (2) using the first two PCA vectors, (3) using the first three PCA vectors, etc...  Briefly summarize how these models compare in the training set.\n",
    "\n",
    "A\n",
    "\n",
    "- Each PCA component adds an orthoganal feature to the variable space. The components are selected by finding the predictor combination that describes most of the variance within the predictor space. The training R^2 appear to improve with additional components in this case with a significant jump from 1 PCA component to 2.\n",
    "\n",
    "Q\n",
    "\n",
    "- Use the test set to decide which of the 5 models above is best to predict out of sample.  How does this model compare to the previous models you've fit?  What are the interpretations of this model's coefficients?\n",
    "\n",
    "A\n",
    "\n",
    "- The best test R^2 is with 5 pca components - However, in comparison to other models it doesn't perform significantly better. For example the test R^2 on forward selection from hw3 was 0.285 but here we get 0.25 with 5 features. \n",
    "\n",
    "- Since PCA is a projection, we tend to lose information about our initial prediction space labels so it is unclear what the coefficients mean.\n",
    "\n"
   ]
  },
  {
   "cell_type": "markdown",
   "metadata": {},
   "source": [
    "## Part (i): Beyond Squared Error\n",
    "\n",
    "We have seen in class that the multiple linear regression method optimizes the Mean Squared Error (MSE) on the training set. Consider the following alternate evaluation metric, referred to as the Root Mean Squared Logarthmic Error (RMSLE):\n",
    "\n",
    "$$\n",
    "\\sqrt{\\frac{1}{n}\\sum_{i=1}^n (log(y_i+1) - log(\\hat{y}_i+1))^2}.\n",
    "$$\n",
    "\n",
    "The *lower* the RMSLE the *better* is the performance of a model. The RMSLE penalizes errors on smaller responses more heavily than errors on larger responses. For example, the RMSLE penalizes a prediction of $\\hat{y} = 15$ for a true response of $y=10$ more heavily than a prediction of $\\hat{y} = 105$ for a true response of $100$, though the difference in predicted and true responses are the same in both cases. \n",
    "\n",
    "This is a natural evaluation metric for bike share demand prediction, as in this application, it is more important that the prediction model is accurate on days where the demand is low (so that the few customers who arrive are served satisfactorily), compared to days on which the demand is high (when it is less damaging to lose out on some customers).\n",
    "\n",
    "The following code computes the RMSLE for you:"
   ]
  },
  {
   "cell_type": "code",
   "execution_count": 78,
   "metadata": {
    "collapsed": true
   },
   "outputs": [],
   "source": [
    "#--------  rmsle\n",
    "# A function for evaluating Root Mean Squared Logarithmic Error (RMSLE)\n",
    "# of the linear regression model on a data set\n",
    "# Input: \n",
    "#      y_test (n x 1 array of response variable vals in testing data)\n",
    "#      y_pred (n x 1 array of response variable vals in testing data)\n",
    "# Return: \n",
    "#      RMSLE (float) \n",
    "\n",
    "def rmsle(y, y_pred):     \n",
    "    # Evaluate sqaured error, against target labels\n",
    "    # rmsle = \\sqrt(1/n \\sum_i (log (y[i]+1) - log (y_pred[i]+1))^2)\n",
    "    rmsle_ = np.sqrt(np.mean(np.square(np.log(y+1) - np.log(y_pred+1))))\n",
    "    \n",
    "    return rmsle_"
   ]
  },
  {
   "cell_type": "markdown",
   "metadata": {},
   "source": [
    "Use the above code to compute the training and test RMSLE for the polynomial regression model you fit in Part (g). \n",
    "\n",
    "You are required to develop a strategy to fit a regression model by optimizing the RMSLE on the training set. Give a justification for your proposed approach. Does the model fitted using your approach yield lower train RMSLE than the model in Part (g)? How about the test RMSLE of the new model? \n",
    "\n",
    "**Note:** We do not require you to implement a new regression solver for RMSLE. Instead, we ask you to think about ways to use existing built-in functions to fit a model that performs well on RMSLE. Your regression model may use the same polynomial terms used in Part (g)."
   ]
  },
  {
   "cell_type": "markdown",
   "metadata": {},
   "source": [
    "# Linear Reg + polynomial features score on RMSLE\n",
    "\n",
    "Note that I had exactly the same features in hw3 as the solution set - using that I simply extended the space to include 12 additional features and ran the regression. What I found was that 3 of the values were negative (which would blow up the log function) so I casted them to zero because we cannot have a negative count. You will find that others who used precisely the same features as hw3 will have a similar issue - Rohan on Piazza suggested that it is fine to cast these to zero!"
   ]
  },
  {
   "cell_type": "code",
   "execution_count": 98,
   "metadata": {
    "collapsed": false
   },
   "outputs": [
    {
     "name": "stdout",
     "output_type": "stream",
     "text": [
      "Training rmsle = 0.721457659701\n",
      "Test rmsle = 0.844336732793\n"
     ]
    }
   ],
   "source": [
    "# your code here\n",
    "new_X = A1\n",
    "new_Xt = B1\n",
    "ypred = os1.predict(sm.add_constant(new_X))\n",
    "ypred[ypred<0] = 0\n",
    "print('Training rmsle = %s'%rmsle(y_train,ypred))\n",
    "\n",
    "ypred = os1.predict(sm.add_constant(new_Xt))\n",
    "ypred[(np.where(ypred<-1))] = 0\n",
    "print('Test rmsle = %s'%rmsle(y_test,ypred))\n"
   ]
  },
  {
   "cell_type": "markdown",
   "metadata": {},
   "source": [
    "- To fit a regression to optimize RMSLE, I simply went back to the definition of the function and said XB = Y, therefore I want to optimize for B(coefficients) such that the rmsle function is a minimum. Using scipy.optimize I could feed in my rmsle function and an initial guess of coefficients and the result converged to a set of coefficients and a minimum rmsle of 0.309 - much better than the training rmsle from the earlier part of this problem. "
   ]
  },
  {
   "cell_type": "code",
   "execution_count": 100,
   "metadata": {
    "collapsed": false
   },
   "outputs": [],
   "source": [
    "from scipy import optimize\n",
    "# add intercept term to train/test\n",
    "z1 = np.array([np.ones(331)])\n",
    "new_X = np.append(z1.T,new_X,axis =1 )\n",
    "z2 = np.array([np.ones(400)])\n",
    "new_Xt = np.append(z2.T,new_Xt,axis=1)\n"
   ]
  },
  {
   "cell_type": "code",
   "execution_count": 101,
   "metadata": {
    "collapsed": false
   },
   "outputs": [
    {
     "data": {
      "text/plain": [
       "      fun: 0.3092854042796907\n",
       " hess_inv: array([[  5.59980012e+06,  -1.33359064e+06,   2.14510107e+06, ...,\n",
       "          2.47391966e+04,   1.44972911e+05,  -3.91535960e+05],\n",
       "       [ -1.33359064e+06,   1.23116994e+06,  -8.62606859e+05, ...,\n",
       "          8.77735811e+04,  -2.07924531e+05,   1.00706331e+05],\n",
       "       [  2.14510107e+06,  -8.62606859e+05,   9.67044953e+05, ...,\n",
       "          1.55575022e+03,   1.25903177e+05,  -1.42620245e+05],\n",
       "       ..., \n",
       "       [  2.47391966e+04,   8.77735811e+04,   1.55575022e+03, ...,\n",
       "          4.32242098e+05,  -7.09931765e+03,   7.32312286e+04],\n",
       "       [  1.44972911e+05,  -2.07924531e+05,   1.25903177e+05, ...,\n",
       "         -7.09931765e+03,   8.45111058e+04,  -1.35125938e+04],\n",
       "       [ -3.91535960e+05,   1.00706331e+05,  -1.42620245e+05, ...,\n",
       "          7.32312286e+04,  -1.35125938e+04,   1.11538357e+05]])\n",
       "      jac: array([ -6.31064177e-06,  -1.09151006e-06,  -1.63912773e-07,\n",
       "        -1.10641122e-06,   1.49011612e-07,   5.81145287e-07,\n",
       "        -4.23565507e-06,   1.01700425e-06,   1.22934580e-06,\n",
       "        -2.49966979e-06,   2.32458115e-06,   1.97440386e-06,\n",
       "         1.39698386e-06,   1.04308128e-06,  -6.29574060e-07,\n",
       "         2.19047070e-06,   7.82310963e-08,   2.92435288e-06,\n",
       "        -3.67686152e-06,   4.39584255e-07,   4.02331352e-07,\n",
       "         3.27453017e-06,  -2.02655792e-06,   9.16421413e-06,\n",
       "        -2.52202153e-06,   3.23727727e-06,   2.79396772e-06,\n",
       "        -2.80141830e-06,   2.09361315e-06,   7.11530447e-07,\n",
       "        -3.25962901e-06,  -6.56768680e-06,   9.97632742e-06,\n",
       "        -3.22610140e-06,  -2.83122063e-06,  -5.92321157e-07,\n",
       "        -2.14576721e-06,  -4.02331352e-06,  -1.58324838e-06,\n",
       "        -4.84287739e-08,  -1.99303031e-06])\n",
       "  message: 'Optimization terminated successfully.'\n",
       "     nfev: 16039\n",
       "      nit: 339\n",
       "     njev: 373\n",
       "   status: 0\n",
       "  success: True\n",
       "        x: array([ 2935.11730484,   519.33166188,   687.57773576,  1070.16883965,\n",
       "         159.67987187,   563.20203739,   218.76627866,   392.83235698,\n",
       "          72.61514752,   122.13879957,    92.0639083 ,   603.92117117,\n",
       "         547.47068025,   245.72986653,  -165.21903291,    25.72754025,\n",
       "         225.46334236,    52.78674642,   142.16449505,    18.56511633,\n",
       "         249.03084334,   622.8108474 ,   659.22672798,   255.94932226,\n",
       "        -685.31067612,   724.24430823,   832.1777933 ,  -632.29961888,\n",
       "        -491.56699298,   -60.67553633,    52.41870372,   273.33506721,\n",
       "         144.78182604,   -35.47135386,  -282.31883408,   -10.01739528,\n",
       "          72.13350783,  -308.39972369,   146.51080614,   -58.48793872,\n",
       "         -51.85335338])"
      ]
     },
     "execution_count": 101,
     "metadata": {},
     "output_type": "execute_result"
    }
   ],
   "source": [
    "# define rmsle as a function of B and cast any -ve predictions to 0\n",
    "def rmsle(B):     \n",
    "    # Evaluate sqaured error, against target labels\n",
    "    # rmsle = \\sqrt(1/n \\sum_i (log (y[i]+1) - log (y_pred[i]+1))^2)\n",
    "    y_pred = np.dot(new_X,B)\n",
    "    y_pred[y_pred<=-1] = 0\n",
    "    y = y_train\n",
    "    rmsle_ = np.sqrt(np.mean(np.square(np.log(y+1) - np.log(y_pred+1))))\n",
    "    \n",
    "    return rmsle_\n",
    "\n",
    "optimize.minimize(rmsle,np.ones(41),method = 'BFGS')"
   ]
  },
  {
   "cell_type": "markdown",
   "metadata": {},
   "source": [
    "Given the coefficients from this function, we can then simply check what our test rmsle is"
   ]
  },
  {
   "cell_type": "code",
   "execution_count": 36,
   "metadata": {
    "collapsed": false
   },
   "outputs": [
    {
     "name": "stdout",
     "output_type": "stream",
     "text": [
      "RMSLE on Training = 0.30928540428\n",
      "RMSLE on Test = 0.712888559774\n"
     ]
    }
   ],
   "source": [
    "B = np.array([ 2935.11730484,   519.33166188,   687.57773576,  1070.16883965,\n",
    "         159.67987187,   563.20203739,   218.76627866,   392.83235698,\n",
    "          72.61514752,   122.13879957,    92.0639083 ,   603.92117117,\n",
    "         547.47068025,   245.72986653,  -165.21903291,    25.72754025,\n",
    "         225.46334236,    52.78674642,   142.16449505,    18.56511633,\n",
    "         249.03084334,   622.8108474 ,   659.22672798,   255.94932226,\n",
    "        -685.31067612,   724.24430823,   832.1777933 ,  -632.29961888,\n",
    "        -491.56699298,   -60.67553633,    52.41870372,   273.33506721,\n",
    "         144.78182604,   -35.47135386,  -282.31883408,   -10.01739528,\n",
    "          72.13350783,  -308.39972369,   146.51080614,   -58.48793872,\n",
    "         -51.85335338])\n",
    "\n",
    "def rmsle(y, y_pred):     \n",
    "    # Evaluate sqaured error, against target labels\n",
    "    # rmsle = \\sqrt(1/n \\sum_i (log (y[i]+1) - log (y_pred[i]+1))^2)\n",
    "    rmsle_ = np.sqrt(np.mean(np.square(np.log(y+1) - np.log(y_pred+1))))\n",
    "    \n",
    "    return rmsle_\n",
    "ypred = np.dot(new_X,B)\n",
    "print('RMSLE on Training = %s'%rmsle(y_train,ypred))\n",
    "ypred = np.dot(new_Xt,B)\n",
    "ypred[ypred<-1] = 0\n",
    "print('RMSLE on Test = %s'%rmsle(y_test,ypred))\n"
   ]
  },
  {
   "cell_type": "markdown",
   "metadata": {},
   "source": [
    "Using this method - both test and training rmsle reduce which indicate the fact that the coefficients are better"
   ]
  },
  {
   "cell_type": "markdown",
   "metadata": {},
   "source": [
    "## Part (j): Dealing with Erroneous Labels\n",
    "\n",
    "Due to occasional system crashes, some of the bike counts reported in the data set have been recorded manually. These counts are not very unreliable and are prone to errors. It is known that roughly 5% of the labels in the training set are erroneous (i.e. can be arbitrarily different from the true counts), while all the labels in the test set were confirmed to be accurate. Unfortunately, the identities of the erroneous records in the training set are not available. Can this information about presence of 5% errors in the training set labels (without details about the specific identities of the erroneous rows) be used to improve the performance of the model in Part (g)? Note that we are interested in improving the $R^2$ performance of the model on the test set (not the training $R^2$ score). \n",
    "\n",
    "As a final task, we require you to come up with a strategy to fit a regression model, taking into account the errors in the training set labels. Explain the intuition behind your approach (we do not expect a detailed mathematical justification). Use your approach to fit a regression model on the training set, and compare its test $R^2$ with the model in Part (g).\n",
    "\n",
    "**Note:** Again, we do not require you to implement a new regression solver for handling erroneous labels. It is sufficient that you to come up with an approach that uses existing built-in functions. Your regression model may use the same polynomial terms used in Part (g)."
   ]
  },
  {
   "cell_type": "markdown",
   "metadata": {},
   "source": [
    "Answer:\n",
    "\n",
    "One potential method is to fit the model using the entire training set and then look at residuals since the 5% of false data should have an extra error term which will allow us to distinguish those data points. However, taking such an approach means we actually use the data with errors to run a model which will bias our coefficients and may lead us to pick out observations that were actually recorded accurately.\n",
    "\n",
    "An alternative and better methodology that avoids having to look at residuals (which isn't a good method since the training set is influenced by the 5%) is to iteratively train the model by leaving 1 observation out and using backward selection on the observations to determine the best test R^2 with 5% of 331 =16 of the worst features removed."
   ]
  },
  {
   "cell_type": "code",
   "execution_count": 109,
   "metadata": {
    "collapsed": false
   },
   "outputs": [],
   "source": [
    "X_new = A1\n",
    "X_newtst = B1\n",
    "xworstidx = []\n",
    "linreg = LinearRegression(fit_intercept =True)\n",
    "dummy = np.copy(X_new)\n",
    "ydummy = np.copy(y_train)\n",
    "for i in range(16):\n",
    "    score = []\n",
    "    for j in range(np.shape(dummy)[0]):\n",
    "        xtemp = np.delete(dummy,j,axis = 0)\n",
    "        ytemp = np.delete(ydummy,j,axis=0)\n",
    "        rez = linreg.fit(xtemp,ytemp)\n",
    "        score.append(rez.score(xtemp,ytemp))\n",
    "    dummy = np.delete(dummy,np.argmin(score),axis = 0)\n",
    "    ydummy = np.delete(ydummy,np.argmin(score),axis = 0)\n",
    "    "
   ]
  },
  {
   "cell_type": "code",
   "execution_count": 110,
   "metadata": {
    "collapsed": false
   },
   "outputs": [
    {
     "name": "stdout",
     "output_type": "stream",
     "text": [
      "train R^2 score = 0.601211747402\n",
      "test R^2 score = 0.298701532812\n"
     ]
    }
   ],
   "source": [
    "rez = linreg.fit(dummy,ydummy)\n",
    "print('train R^2 score = %s'%rez.score(dummy,ydummy))\n",
    "print('test R^2 score = %s'%rez.score(X_newtst,y_test))"
   ]
  },
  {
   "cell_type": "markdown",
   "metadata": {},
   "source": [
    "The test R^2 improves marginally. "
   ]
  },
  {
   "cell_type": "markdown",
   "metadata": {},
   "source": [
    "---\n",
    "--_"
   ]
  },
  {
   "cell_type": "markdown",
   "metadata": {},
   "source": [
    "# APCOMP209a - Homework Question"
   ]
  },
  {
   "cell_type": "markdown",
   "metadata": {},
   "source": [
    "\n",
    "\n",
    "##  Question 1: Student's t MLE\n",
    "\n",
    "Use Maximum Likelihood Estimation to generate a linear regression model on the data provided in ``beerdata.csv`` considering two statistical models for noise: a) iid Normal and b) iid Student's t-distribution with $\\nu=5$ and scale factor σ=0.5.  \n",
    "\n",
    "Compare the two models performances and comment why it is perhaps appropriate to use the Student's t-distribution instead of the Normal? \n",
    "\n",
    "\n",
    "\n",
    "\n",
    "\n",
    "HINTS:\n",
    "1. Use the probability density function for the Student's t distribution  with location μ and scale factor σ.\n",
    "2. If the MLE regressions coefficients can not be derived analytically consider numerical methods.\n",
    "3. You can use sklearn or statsmodel for the Normal case \n",
    "\n",
    "\n"
   ]
  },
  {
   "cell_type": "markdown",
   "metadata": {},
   "source": [
    "## Question 2 (continued from HW2) \n",
    "\n",
    "Read sections 1 and 2 of this [paper](https://www.researchgate.net/profile/Roberto_Togneri/publication/45094554_Linear_Regression_for_Face_Recognition/links/09e4150d243bd8b987000000/Linear-Regression-for-Face-Recognition.pdf). \n",
    "\n",
    "Briefly, the model leverages the concept that \"patterns from a single-object class lie on a linear subspace.\"   It also makes use of the idea of linear regression as a problem about projections.  In this case, given a vector $y$, the goal is to find the subspace induced by $\\mathrm{Col} \\, \\mathbf X$ that produced the 'closest' projection vector $\\widehat y$ to the original $y$.  \n",
    "\n",
    "### Question 2a\n",
    "\n",
    "As discussed in the paper, our face dataset contains cleaned images of faces belonging to different people. Assuming that patterns (faces) from one class (person) are elements of the same subspace, let's try to classify an unknown face using the method presented in the paper.  For each class $i$, we need to:\n",
    "\n",
    "1. construct the $\\mathbf H_i$ hat matrix from known faces, being careful to follow the column concatenation step described in the paper to convert an image into its vector representation;\n",
    "2. calculate the predicted $\\widehat y_i$, the closest vector in $\\mathrm{Col} \\, \\mathbf X_i$ to $y$; and\n",
    "3. calculate the magnitude of the difference vector between $y$ and $\\widehat y_i$.\n",
    "\n",
    "You should then be able to make a classification decision.\n",
    "\n",
    "**Notes:**\n",
    "- Use the provided code to download and re-sample the dataset.\n",
    "- Follow the normalisation step in the paper to ensure the \"maximum pixel value is 1\".\n",
    "- Your classifier should have approximately an 80% accuracy.\n",
    "- Use the image plotting library of matplotlib to display one (or two) correctly classified faces and the known faces.\n",
    "- Use the image plotting library of matplotlib to display one (or two) incorrectly classified faces and the known faces.\n",
    "    \n",
    "### Question 2b - Significant Faces\n",
    "Select an example of a correctly classified face. Use statsmodels to investigate the most predictive columns (faces) that the model used in this regression:\n",
    "\n",
    "(i) Which columns (i.e. faces) make the highest contribution to the projection?\n",
    "\n",
    "(ii) Which columns (i.e. faces) are the least useful in making this projection?\n",
    "\n",
    "Plot the correctly assigned face, and the two faces from the questions (i) and (ii). What do you notice about these faces?"
   ]
  },
  {
   "cell_type": "code",
   "execution_count": 6,
   "metadata": {
    "collapsed": true
   },
   "outputs": [],
   "source": [
    "from io import BytesIO\n",
    "from zipfile import ZipFile\n",
    "import urllib\n",
    "import os\n",
    "\n",
    "# Note that you may need to run the following command to install Python Image Library (PIL)\n",
    "#pip install Pillow\n",
    "from PIL import Image\n",
    "import numpy as np\n",
    "from sklearn.cross_validation import train_test_split\n",
    "\n",
    "import matplotlib\n",
    "import matplotlib.pyplot as plt\n",
    "\n",
    "%matplotlib inline"
   ]
  },
  {
   "cell_type": "code",
   "execution_count": 7,
   "metadata": {
    "collapsed": true
   },
   "outputs": [],
   "source": [
    "# starter functions provided to students\n",
    "def rgb2gray(rgb):\n",
    "    '''\n",
    "    function to convert RGB image to gray scale\n",
    "    accepts 3D numpy array and returns 2D array with same dimensions\n",
    "    as the first two dimensions of input\n",
    "    '''\n",
    "    \n",
    "    return np.dot(rgb[...,:3], [0.299, 0.587, 0.114])\n",
    "\n",
    "def fetch_and_read_data(shape=(50,30)):\n",
    "    \n",
    "    '''\n",
    "    Function to download image data, store in a local folder (note this is 18.4mb), only download the data when\n",
    "    the local folder is not present, read in the images, downsample them to the specified shape (default = (50x30) (rows x cols))\n",
    "    and finally split them into a four tuple return object.\n",
    "    \n",
    "    Returns:\n",
    "        - 1) training image data (i.e. images that should form the predictor matrix in your solution)\n",
    "        - 2) training image data labels (i.e. labels from 1 to 50 that identify which face (1) belongs to)\n",
    "        - 3) testing image data (i.e. data that you should use to try and classify - note this forms the predictor variable in your regression)\n",
    "        - 4) testing image data labels (i.e. the labels for (3) - this is to allow you to evaluate your model)\n",
    "    \n",
    "    ___________________\n",
    "    Aside:\n",
    "    If you want to change the sampling dimensions of your data, pass the shape = (x,y) argument to the method where\n",
    "    y is the number of columns and x is the number of rows in the image.\n",
    "    '''\n",
    "    \n",
    "    if not os.path.exists('./cropped_faces'):\n",
    "        url = urllib.request.urlopen(\"http://www.anefian.com/research/GTdb_crop.zip\")\n",
    "        \n",
    "        zipfile = ZipFile(BytesIO(url.read()))\n",
    "        zipfile.extractall()\n",
    "     \n",
    "    data = []\n",
    "    labels = []\n",
    "    \n",
    "    files = os.listdir('cropped_faces')\n",
    "    for f in files:\n",
    "        if '.jpg' in f:\n",
    "            image = Image.open('cropped_faces/' + f)\n",
    "            image = image.resize((shape[1], shape[0]))\n",
    "            data.append(rgb2gray(np.asarray(image)))\n",
    "            labels.append(int(f.split('_')[0][1:]) - 1)\n",
    "            \n",
    "    data = np.array(data)\n",
    "    \n",
    "    trainX, testX, trainY, testY = train_test_split(data, labels, test_size=0.2, stratify=labels)\n",
    "    return np.array(trainX), np.array(testX), np.array(trainY), np.array(testY)"
   ]
  },
  {
   "cell_type": "code",
   "execution_count": 8,
   "metadata": {
    "collapsed": false
   },
   "outputs": [
    {
     "data": {
      "image/png": "[encoded data removed]",
      "text/plain": [
       "<matplotlib.figure.Figure at 0x10d663630>"
      ]
     },
     "metadata": {},
     "output_type": "display_data"
    }
   ],
   "source": [
    "# starter code for the students\n",
    "train_dataset, test_dataset, train_labels, test_labels = fetch_and_read_data()\n",
    "\n",
    "# code to plot some of the images\n",
    "fig, axes = plt.subplots(2,4,figsize=(10,5))\n",
    "axes = axes.flatten()\n",
    "[axes[i].imshow(train_dataset[i], cmap='gray') for i in range(len(axes))]\n",
    "plt.show()"
   ]
  },
  {
   "cell_type": "code",
   "execution_count": null,
   "metadata": {
    "collapsed": true
   },
   "outputs": [],
   "source": []
  }
 ],
 "metadata": {
  "anaconda-cloud": {},
  "kernelspec": {
   "display_name": "Python 3",
   "language": "python",
   "name": "python3"
  },
  "language_info": {
   "codemirror_mode": {
    "name": "ipython",
    "version": 3
   },
   "file_extension": ".py",
   "mimetype": "text/x-python",
   "name": "python",
   "nbconvert_exporter": "python",
   "pygments_lexer": "ipython3",
   "version": "3.6.0"
  }
 },
 "nbformat": 4,
 "nbformat_minor": 1
}
