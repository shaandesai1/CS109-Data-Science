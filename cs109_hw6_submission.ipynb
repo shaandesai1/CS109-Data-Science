{
 "cells": [
  {
   "cell_type": "markdown",
   "metadata": {},
   "source": [
    "# CS 109A/STAT 121A/AC 209A/CSCI E-109A: Homework 6\n",
    "# Reg-Logistic Regression, ROC, and Data Imputation\n",
    "\n",
    "**Harvard University**<br/>\n",
    "**Fall 2017**<br/>\n",
    "**Instructors**: Pavlos Protopapas, Kevin Rader, Rahul Dave, Margo Levine\n",
    "\n",
    "---\n",
    "\n",
    "### INSTRUCTIONS\n",
    "\n",
    "- To submit your assignment follow the instructions given in canvas.\n",
    "- Restart the kernel and run the whole notebook again before you submit. \n",
    "- Do not include your name(s) in the notebook if you are submitting as a group. \n",
    "- If you submit individually and you have worked with someone, please include the name of your [one] partner below. \n",
    "\n",
    "---"
   ]
  },
  {
   "cell_type": "markdown",
   "metadata": {},
   "source": [
    "Your partner's name (if you submit separately):\n",
    "\n",
    "Enrollment Status (109A, 121A, 209A, or E109A): 109A"
   ]
  },
  {
   "cell_type": "markdown",
   "metadata": {},
   "source": [
    "Import libraries:"
   ]
  },
  {
   "cell_type": "code",
   "execution_count": 119,
   "metadata": {
    "collapsed": true
   },
   "outputs": [],
   "source": [
    "import numpy as np\n",
    "import pandas as pd\n",
    "import matplotlib\n",
    "import seaborn as sns\n",
    "import matplotlib.pyplot as plt\n",
    "from sklearn.linear_model import LogisticRegressionCV\n",
    "from sklearn.linear_model import LogisticRegression\n",
    "from sklearn.linear_model import LinearRegression\n",
    "import sklearn.metrics as metrics\n",
    "from sklearn.preprocessing import PolynomialFeatures\n",
    "from sklearn.discriminant_analysis import LinearDiscriminantAnalysis\n",
    "from sklearn.discriminant_analysis import QuadraticDiscriminantAnalysis\n",
    "from sklearn.neighbors import KNeighborsClassifier\n",
    "from sklearn.tree import DecisionTreeClassifier\n",
    "from sklearn.model_selection import cross_val_score\n",
    "from sklearn.metrics import accuracy_score\n",
    "\n",
    "from sklearn.tree import export_graphviz\n",
    "from IPython.display import Image\n",
    "from IPython.display import display\n",
    "%matplotlib inline"
   ]
  },
  {
   "cell_type": "markdown",
   "metadata": {},
   "source": [
    "## Automated Breast Cancer Detection\n",
    "\n",
    "In this homework, we will consider the problem of early breast cancer detection from X-ray images. Specifically, given a candidate region of interest (ROI) from an X-ray image of a patient's breast, the goal is to predict if the region corresponds to a malignant tumor (label 1) or is normal (label 0). The training and test data sets for this problem is provided in the file `hw6_dataset.csv`. Each row in these files corresponds to a ROI in a patient's X-ray, with columns 1-117 containing features computed using standard image processing algorithms. The last column contains the class label, and is based on a radiologist's opinion or a biopsy. This data was obtained from the KDD Cup 2008 challenge.\n",
    "\n",
    "The data set contain a total of 69,098 candidate ROIs, of which only 409 are malignant, while the remaining are all normal. \n",
    "\n",
    "*Note*: be careful of reading/treating column names and row names in this data set."
   ]
  },
  {
   "cell_type": "markdown",
   "metadata": {},
   "source": [
    "## Question 1: Beyond Classification Accuracy\n",
    "\n",
    "\n",
    "0.  Split the data set into a training set and a testing set.  The training set should be 75% of the original data set, and the testing set 25%.  Use `np.random.seed(9001)`.\n",
    "\n",
    "1. Fit a logistic regression classifier to the training set and report the  accuracy of the classifier on the test set. You should use $L_2$ regularization in logistic regression, with the regularization parameter tuned using cross-validation. \n",
    "    1. How does the fitted model compare with a classifier that predicts 'normal' (label 0) on all patients? \n",
    "    2. Do you think the difference in the classification accuracies are large enough to declare logistic regression as a better classifier than the all 0's classifier? Why or why not?\n",
    "    \n",
    "For applications with imbalanced class labels, in this case when there are many more healthy subjects ($Y=0$) than those with cancer ($Y=1$), the classification accuracy may not be the best metric to evaluate a classifier's performance. As an alternative, we could analyze the confusion table for the classifier. \n",
    "\n",
    "<ol start=\"3\">\n",
    "<li> Compute the confusion table for both the fitted classifier and the classifier that predicts all 0's.</li>\n",
    "<li> Using the entries of the confusion table compute the *true positive rate* and the *true negative rate* for the two classifiers. Explain what these evaluation metrics mean for the specific task of cancer detection. Based on the observed metrics, comment on whether the fitted model is better than the all 0's classifier.</li>\n",
    "<li> What is the *false positive rate* of the fitted classifier, and how is it related to its true positive and true negative rate? Why is a classifier with high false positive rate undesirable for a cancer detection task?</li>\n",
    "</ol>\n",
    "*Hint:* You may use the `metrics.confusion_matrix` function to compute the confusion matrix for a classification model."
   ]
  },
  {
   "cell_type": "markdown",
   "metadata": {},
   "source": [
    "### Code Here"
   ]
  },
  {
   "cell_type": "code",
   "execution_count": 120,
   "metadata": {
    "collapsed": false
   },
   "outputs": [],
   "source": [
    "# pick out data and let read csv know there are no headers\n",
    "breastdata = pd.read_csv('hw6_dataset.csv',header = None)"
   ]
  },
  {
   "cell_type": "code",
   "execution_count": 121,
   "metadata": {
    "collapsed": false,
    "scrolled": false
   },
   "outputs": [
    {
     "data": {
      "text/html": [
       "<div>\n",
       "<table border=\"1\" class=\"dataframe\">\n",
       "  <thead>\n",
       "    <tr style=\"text-align: right;\">\n",
       "      <th></th>\n",
       "      <th>0</th>\n",
       "      <th>1</th>\n",
       "      <th>2</th>\n",
       "      <th>3</th>\n",
       "      <th>4</th>\n",
       "      <th>5</th>\n",
       "      <th>6</th>\n",
       "      <th>7</th>\n",
       "      <th>8</th>\n",
       "      <th>9</th>\n",
       "      <th>...</th>\n",
       "      <th>108</th>\n",
       "      <th>109</th>\n",
       "      <th>110</th>\n",
       "      <th>111</th>\n",
       "      <th>112</th>\n",
       "      <th>113</th>\n",
       "      <th>114</th>\n",
       "      <th>115</th>\n",
       "      <th>116</th>\n",
       "      <th>117</th>\n",
       "    </tr>\n",
       "  </thead>\n",
       "  <tbody>\n",
       "    <tr>\n",
       "      <th>count</th>\n",
       "      <td>69098.000000</td>\n",
       "      <td>69098.000000</td>\n",
       "      <td>69098.000000</td>\n",
       "      <td>69098.000000</td>\n",
       "      <td>69098.000000</td>\n",
       "      <td>69098.000000</td>\n",
       "      <td>69098.000000</td>\n",
       "      <td>69098.000000</td>\n",
       "      <td>69098.000000</td>\n",
       "      <td>69098.000000</td>\n",
       "      <td>...</td>\n",
       "      <td>69098.000000</td>\n",
       "      <td>69098.000000</td>\n",
       "      <td>69098.000000</td>\n",
       "      <td>69098.000000</td>\n",
       "      <td>69098.000000</td>\n",
       "      <td>6.909800e+04</td>\n",
       "      <td>69098.000000</td>\n",
       "      <td>69098.000000</td>\n",
       "      <td>69098.000000</td>\n",
       "      <td>69098.000000</td>\n",
       "    </tr>\n",
       "    <tr>\n",
       "      <th>mean</th>\n",
       "      <td>-0.001000</td>\n",
       "      <td>-0.001319</td>\n",
       "      <td>0.000782</td>\n",
       "      <td>0.000313</td>\n",
       "      <td>-0.003161</td>\n",
       "      <td>-0.002642</td>\n",
       "      <td>0.000845</td>\n",
       "      <td>-0.000382</td>\n",
       "      <td>0.002176</td>\n",
       "      <td>0.002582</td>\n",
       "      <td>...</td>\n",
       "      <td>0.002565</td>\n",
       "      <td>-0.001242</td>\n",
       "      <td>-0.001661</td>\n",
       "      <td>0.002460</td>\n",
       "      <td>-0.000910</td>\n",
       "      <td>-6.900981e-08</td>\n",
       "      <td>-0.001279</td>\n",
       "      <td>0.000268</td>\n",
       "      <td>0.000844</td>\n",
       "      <td>0.005919</td>\n",
       "    </tr>\n",
       "    <tr>\n",
       "      <th>std</th>\n",
       "      <td>1.211806</td>\n",
       "      <td>1.057307</td>\n",
       "      <td>1.025779</td>\n",
       "      <td>1.033022</td>\n",
       "      <td>0.983596</td>\n",
       "      <td>0.988935</td>\n",
       "      <td>0.999774</td>\n",
       "      <td>0.998935</td>\n",
       "      <td>1.005915</td>\n",
       "      <td>1.004493</td>\n",
       "      <td>...</td>\n",
       "      <td>1.003114</td>\n",
       "      <td>0.999678</td>\n",
       "      <td>0.998775</td>\n",
       "      <td>1.003224</td>\n",
       "      <td>1.000273</td>\n",
       "      <td>9.994056e-01</td>\n",
       "      <td>1.000918</td>\n",
       "      <td>0.999318</td>\n",
       "      <td>1.024488</td>\n",
       "      <td>0.076708</td>\n",
       "    </tr>\n",
       "    <tr>\n",
       "      <th>min</th>\n",
       "      <td>-316.000000</td>\n",
       "      <td>-147.000000</td>\n",
       "      <td>-71.400000</td>\n",
       "      <td>-81.400000</td>\n",
       "      <td>-3.080000</td>\n",
       "      <td>-9.120000</td>\n",
       "      <td>-2.070000</td>\n",
       "      <td>-1.910000</td>\n",
       "      <td>-1.570000</td>\n",
       "      <td>-1.500000</td>\n",
       "      <td>...</td>\n",
       "      <td>-15.200000</td>\n",
       "      <td>-7.460000</td>\n",
       "      <td>-32.900000</td>\n",
       "      <td>-7.780000</td>\n",
       "      <td>-1.220000</td>\n",
       "      <td>-4.710000e+00</td>\n",
       "      <td>-5.450000</td>\n",
       "      <td>-6.340000</td>\n",
       "      <td>-23.200000</td>\n",
       "      <td>0.000000</td>\n",
       "    </tr>\n",
       "    <tr>\n",
       "      <th>25%</th>\n",
       "      <td>-0.064700</td>\n",
       "      <td>-0.040900</td>\n",
       "      <td>-0.253000</td>\n",
       "      <td>-0.214000</td>\n",
       "      <td>-0.569000</td>\n",
       "      <td>-0.553000</td>\n",
       "      <td>-0.532000</td>\n",
       "      <td>-0.597000</td>\n",
       "      <td>-0.711000</td>\n",
       "      <td>-0.728000</td>\n",
       "      <td>...</td>\n",
       "      <td>-0.458000</td>\n",
       "      <td>-0.491000</td>\n",
       "      <td>-0.334000</td>\n",
       "      <td>-0.520000</td>\n",
       "      <td>-0.857000</td>\n",
       "      <td>-2.470000e-01</td>\n",
       "      <td>-0.606000</td>\n",
       "      <td>-0.097875</td>\n",
       "      <td>-0.259000</td>\n",
       "      <td>0.000000</td>\n",
       "    </tr>\n",
       "    <tr>\n",
       "      <th>50%</th>\n",
       "      <td>0.024400</td>\n",
       "      <td>0.103000</td>\n",
       "      <td>0.095600</td>\n",
       "      <td>0.085000</td>\n",
       "      <td>-0.099200</td>\n",
       "      <td>-0.098800</td>\n",
       "      <td>0.013700</td>\n",
       "      <td>-0.075300</td>\n",
       "      <td>-0.227000</td>\n",
       "      <td>-0.235000</td>\n",
       "      <td>...</td>\n",
       "      <td>-0.102000</td>\n",
       "      <td>0.161000</td>\n",
       "      <td>0.205000</td>\n",
       "      <td>-0.269000</td>\n",
       "      <td>-0.132000</td>\n",
       "      <td>3.210000e-01</td>\n",
       "      <td>0.269000</td>\n",
       "      <td>0.326000</td>\n",
       "      <td>-0.142000</td>\n",
       "      <td>0.000000</td>\n",
       "    </tr>\n",
       "    <tr>\n",
       "      <th>75%</th>\n",
       "      <td>0.094200</td>\n",
       "      <td>0.176000</td>\n",
       "      <td>0.360750</td>\n",
       "      <td>0.313000</td>\n",
       "      <td>0.450000</td>\n",
       "      <td>0.434000</td>\n",
       "      <td>0.582000</td>\n",
       "      <td>0.513000</td>\n",
       "      <td>0.488000</td>\n",
       "      <td>0.498000</td>\n",
       "      <td>...</td>\n",
       "      <td>0.322000</td>\n",
       "      <td>0.559000</td>\n",
       "      <td>0.399000</td>\n",
       "      <td>0.134000</td>\n",
       "      <td>0.645000</td>\n",
       "      <td>6.450000e-01</td>\n",
       "      <td>0.801000</td>\n",
       "      <td>0.583000</td>\n",
       "      <td>0.006707</td>\n",
       "      <td>0.000000</td>\n",
       "    </tr>\n",
       "    <tr>\n",
       "      <th>max</th>\n",
       "      <td>1.340000</td>\n",
       "      <td>3.750000</td>\n",
       "      <td>2.030000</td>\n",
       "      <td>1.750000</td>\n",
       "      <td>28.000000</td>\n",
       "      <td>26.900000</td>\n",
       "      <td>11.200000</td>\n",
       "      <td>22.200000</td>\n",
       "      <td>16.700000</td>\n",
       "      <td>22.500000</td>\n",
       "      <td>...</td>\n",
       "      <td>13.000000</td>\n",
       "      <td>6.310000</td>\n",
       "      <td>17.000000</td>\n",
       "      <td>10.600000</td>\n",
       "      <td>17.700000</td>\n",
       "      <td>1.410000e+00</td>\n",
       "      <td>1.440000</td>\n",
       "      <td>1.420000</td>\n",
       "      <td>40.600000</td>\n",
       "      <td>1.000000</td>\n",
       "    </tr>\n",
       "  </tbody>\n",
       "</table>\n",
       "<p>8 rows × 118 columns</p>\n",
       "</div>"
      ],
      "text/plain": [
       "                0             1             2             3             4    \\\n",
       "count  69098.000000  69098.000000  69098.000000  69098.000000  69098.000000   \n",
       "mean      -0.001000     -0.001319      0.000782      0.000313     -0.003161   \n",
       "std        1.211806      1.057307      1.025779      1.033022      0.983596   \n",
       "min     -316.000000   -147.000000    -71.400000    -81.400000     -3.080000   \n",
       "25%       -0.064700     -0.040900     -0.253000     -0.214000     -0.569000   \n",
       "50%        0.024400      0.103000      0.095600      0.085000     -0.099200   \n",
       "75%        0.094200      0.176000      0.360750      0.313000      0.450000   \n",
       "max        1.340000      3.750000      2.030000      1.750000     28.000000   \n",
       "\n",
       "                5             6             7             8             9    \\\n",
       "count  69098.000000  69098.000000  69098.000000  69098.000000  69098.000000   \n",
       "mean      -0.002642      0.000845     -0.000382      0.002176      0.002582   \n",
       "std        0.988935      0.999774      0.998935      1.005915      1.004493   \n",
       "min       -9.120000     -2.070000     -1.910000     -1.570000     -1.500000   \n",
       "25%       -0.553000     -0.532000     -0.597000     -0.711000     -0.728000   \n",
       "50%       -0.098800      0.013700     -0.075300     -0.227000     -0.235000   \n",
       "75%        0.434000      0.582000      0.513000      0.488000      0.498000   \n",
       "max       26.900000     11.200000     22.200000     16.700000     22.500000   \n",
       "\n",
       "           ...                108           109           110           111  \\\n",
       "count      ...       69098.000000  69098.000000  69098.000000  69098.000000   \n",
       "mean       ...           0.002565     -0.001242     -0.001661      0.002460   \n",
       "std        ...           1.003114      0.999678      0.998775      1.003224   \n",
       "min        ...         -15.200000     -7.460000    -32.900000     -7.780000   \n",
       "25%        ...          -0.458000     -0.491000     -0.334000     -0.520000   \n",
       "50%        ...          -0.102000      0.161000      0.205000     -0.269000   \n",
       "75%        ...           0.322000      0.559000      0.399000      0.134000   \n",
       "max        ...          13.000000      6.310000     17.000000     10.600000   \n",
       "\n",
       "                112           113           114           115           116  \\\n",
       "count  69098.000000  6.909800e+04  69098.000000  69098.000000  69098.000000   \n",
       "mean      -0.000910 -6.900981e-08     -0.001279      0.000268      0.000844   \n",
       "std        1.000273  9.994056e-01      1.000918      0.999318      1.024488   \n",
       "min       -1.220000 -4.710000e+00     -5.450000     -6.340000    -23.200000   \n",
       "25%       -0.857000 -2.470000e-01     -0.606000     -0.097875     -0.259000   \n",
       "50%       -0.132000  3.210000e-01      0.269000      0.326000     -0.142000   \n",
       "75%        0.645000  6.450000e-01      0.801000      0.583000      0.006707   \n",
       "max       17.700000  1.410000e+00      1.440000      1.420000     40.600000   \n",
       "\n",
       "                117  \n",
       "count  69098.000000  \n",
       "mean       0.005919  \n",
       "std        0.076708  \n",
       "min        0.000000  \n",
       "25%        0.000000  \n",
       "50%        0.000000  \n",
       "75%        0.000000  \n",
       "max        1.000000  \n",
       "\n",
       "[8 rows x 118 columns]"
      ]
     },
     "execution_count": 121,
     "metadata": {},
     "output_type": "execute_result"
    }
   ],
   "source": [
    "breastdata.describe()"
   ]
  },
  {
   "cell_type": "code",
   "execution_count": 122,
   "metadata": {
    "collapsed": false
   },
   "outputs": [
    {
     "name": "stderr",
     "output_type": "stream",
     "text": [
      "C:\\Users\\Shaan Desai\\Anaconda3\\lib\\site-packages\\statsmodels\\nonparametric\\kdetools.py:20: VisibleDeprecationWarning: using a non-integer number instead of an integer will result in an error in the future\n",
      "  y = X[:m/2+1] + np.r_[0,X[m/2+1:],0]*1j\n"
     ]
    },
    {
     "data": {
      "text/plain": [
       "<matplotlib.axes._subplots.AxesSubplot at 0x1a450f14240>"
      ]
     },
     "execution_count": 122,
     "metadata": {},
     "output_type": "execute_result"
    },
    {
     "data": {
      "image/png": "[encoded data removed]",
      "text/plain": [
       "<matplotlib.figure.Figure at 0x1a451138320>"
      ]
     },
     "metadata": {},
     "output_type": "display_data"
    }
   ],
   "source": [
    "temp = breastdata.iloc[:,24]\n",
    "sns.distplot(temp)"
   ]
  },
  {
   "cell_type": "code",
   "execution_count": 123,
   "metadata": {
    "collapsed": false
   },
   "outputs": [],
   "source": [
    "# train test split!\n",
    "np.random.seed(9001)\n",
    "msk = np.random.rand(len(breastdata)) < 0.75\n",
    "data_train = breastdata[msk]\n",
    "data_test = breastdata[~msk]"
   ]
  },
  {
   "cell_type": "code",
   "execution_count": 124,
   "metadata": {
    "collapsed": false
   },
   "outputs": [
    {
     "data": {
      "text/plain": [
       "(52009, 118)"
      ]
     },
     "execution_count": 124,
     "metadata": {},
     "output_type": "execute_result"
    }
   ],
   "source": [
    "data_train.shape"
   ]
  },
  {
   "cell_type": "code",
   "execution_count": 125,
   "metadata": {
    "collapsed": false
   },
   "outputs": [],
   "source": [
    "# set xtrain and ytrain/xtest and ytest\n",
    "X_train = data_train.iloc[:,:116]\n",
    "y_train = data_train.iloc[:,117]\n",
    "X_test = data_test.iloc[:,:116]\n",
    "y_test = data_test.iloc[:,117]\n"
   ]
  },
  {
   "cell_type": "code",
   "execution_count": 126,
   "metadata": {
    "collapsed": false
   },
   "outputs": [
    {
     "data": {
      "text/plain": [
       "LogisticRegressionCV(Cs=array([  1.00000e-04,   1.11111e+07,   2.22222e+07,   3.33333e+07,\n",
       "         4.44444e+07,   5.55556e+07,   6.66667e+07,   7.77778e+07,\n",
       "         8.88889e+07,   1.00000e+08]),\n",
       "           class_weight=None, cv=None, dual=False, fit_intercept=True,\n",
       "           intercept_scaling=1.0, max_iter=100, multi_class='ovr',\n",
       "           n_jobs=1, penalty='l2', random_state=None, refit=True,\n",
       "           scoring=None, solver='lbfgs', tol=0.0001, verbose=0)"
      ]
     },
     "execution_count": 126,
     "metadata": {},
     "output_type": "execute_result"
    }
   ],
   "source": [
    "# set regularization terms using xs\n",
    "# uses stratified CV \n",
    "xs = np.linspace(10**(-4),10**(8),10)\n",
    "lrcv = LogisticRegressionCV(Cs = xs,penalty = 'l2',fit_intercept = True)\n",
    "lrcv.fit(X_train.values,np.ravel(y_train))\n",
    "#"
   ]
  },
  {
   "cell_type": "code",
   "execution_count": 127,
   "metadata": {
    "collapsed": false
   },
   "outputs": [
    {
     "data": {
      "text/plain": [
       "<matplotlib.text.Text at 0x1a4508be9e8>"
      ]
     },
     "execution_count": 127,
     "metadata": {},
     "output_type": "execute_result"
    },
    {
     "data": {
      "image/png": "[encoded data removed]",
      "text/plain": [
       "<matplotlib.figure.Figure at 0x1a4503bb908>"
      ]
     },
     "metadata": {},
     "output_type": "display_data"
    }
   ],
   "source": [
    "# plot avg cross validation score as function of Cs\n",
    "cvscores = lrcv.scores_[1]\n",
    "cvmean = np.mean(cvscores,axis=0)\n",
    "cvstd = np.std(cvscores,axis =0)\n",
    "plt.figure(figsize=(10,7))\n",
    "plt.ylabel('Cross Validation Avg Score')\n",
    "plt.xlabel('Regularization parameter(C)')\n",
    "plt.errorbar(xs,cvmean,yerr=cvstd)\n",
    "plt.title('CV Mean vs Regularization Parameter')"
   ]
  },
  {
   "cell_type": "code",
   "execution_count": 128,
   "metadata": {
    "collapsed": true
   },
   "outputs": [],
   "source": [
    "def rates(ytr,yhat,text):\n",
    "    print(text)\n",
    "    print('')\n",
    "    model = metrics.confusion_matrix(ytr,yhat) \n",
    "    print(model)\n",
    "    tn, fp, fn, tp = model.ravel()\n",
    "    df = pd.DataFrame(np.c_[tp/(tp+fn),tn/(tn+fp),fp/(tn+fp),fn/(tp+fn)],columns=['TPR','TNR','FPR','FNR'])\n",
    "    print('')\n",
    "    print('Rates:')\n",
    "    print(df)\n",
    "    print('')\n"
   ]
  },
  {
   "cell_type": "code",
   "execution_count": 129,
   "metadata": {
    "collapsed": false
   },
   "outputs": [
    {
     "name": "stdout",
     "output_type": "stream",
     "text": [
      "The training accuracy (logistic) = 0.995673825684\n",
      "The test accuracy (logistic) = 0.995201591667\n",
      "The training accuracy (all zero) = 0.9940394931646446\n",
      "The test accuracy (all zero) = 0.9942067996957107\n",
      "Training confusion matrix using Logistic Regression:\n",
      "\n",
      "[[51686    13]\n",
      " [  212    98]]\n",
      "\n",
      "Rates:\n",
      "        TPR       TNR       FPR       FNR\n",
      "0  0.316129  0.999749  0.000251  0.683871\n",
      "\n",
      "Test confusion matrix using Logistic Regression:\n",
      "\n",
      "[[16985     5]\n",
      " [   77    22]]\n",
      "\n",
      "Rates:\n",
      "        TPR       TNR       FPR       FNR\n",
      "0  0.222222  0.999706  0.000294  0.777778\n",
      "\n",
      "Training confusion matrix using All Zero:\n",
      "\n",
      "[[51699     0]\n",
      " [  310     0]]\n",
      "\n",
      "Rates:\n",
      "   TPR  TNR  FPR  FNR\n",
      "0  0.0  1.0  0.0  1.0\n",
      "\n",
      "Test confusion matrix using All Zero:\n",
      "\n",
      "[[16990     0]\n",
      " [   99     0]]\n",
      "\n",
      "Rates:\n",
      "   TPR  TNR  FPR  FNR\n",
      "0  0.0  1.0  0.0  1.0\n",
      "\n"
     ]
    }
   ],
   "source": [
    "print('The training accuracy (logistic) = %s' %lrcv.score(X_train,y_train))\n",
    "print('The test accuracy (logistic) = %s' %lrcv.score(X_test,y_test))\n",
    "print('The training accuracy (all zero) = %s' %((52009-310)/52009))\n",
    "print('The test accuracy (all zero) = %s' % ((17089-99)/17089))\n",
    "rates(y_train,lrcv.predict(X_train),'Training confusion matrix using Logistic Regression:') \n",
    "rates(y_test,lrcv.predict(X_test),'Test confusion matrix using Logistic Regression:') \n",
    "rates(y_train,np.zeros(np.shape(y_train)),'Training confusion matrix using All Zero:') \n",
    "rates(y_test,np.zeros(np.shape(y_test)),'Test confusion matrix using All Zero:') \n"
   ]
  },
  {
   "cell_type": "markdown",
   "metadata": {},
   "source": [
    "#### Your answers here\n",
    "\n",
    "Q\n",
    "\n",
    "- How does the fitted model compare with a classifier that predicts 'normal' (label 0) on all patients?\n",
    "\n",
    "A\n",
    "\n",
    "- A model that predicts normal on all patients has a classification accuracy of (69098-409)/(69098) = 0.994. In our model we find that the classification accuracy is slightly higher with 0.996 on the training and 0.995 on the test set. The performance seems comparable from both these models so it is not clear what we gain from logistic regression. But we will find out shortly!\n",
    "\n",
    "Q\n",
    "\n",
    "- Do you think the difference in the classification accuracies are large enough to declare logistic regression as a better classifier than the all 0's classifier? Why or why not?\n",
    "\n",
    "A\n",
    "\n",
    "- I do not think the classification accuracy difference is large enough since they both perform with such a high level of accuracy. Remember, we are trying to detect breast cancer so saying I can predict whether someone has breast cancer with 99.5 vs 99.4% accuracy doesn't bias me towards one model when most of the people don't have cancer. What I really care about is whether I can classify those with cancer as having it since this is the core issue at hand.\n",
    "\n",
    "Q\n",
    "\n",
    "- Using the entries of the confusion table compute the true positive rate and the true negative rate for the two classifiers. Explain what these evaluation metrics mean for the specific task of cancer detection. Based on the observed metrics, comment on whether the fitted model is better than the all 0's classifier.\n",
    "\n",
    "A\n",
    "\n",
    "- True positive rate refers to the number of patients we predict to have breast cancer (who actually have breast cancer) / total who actually have breast cancer. The goal of this metric is to find out whether our model can predict those who indeed have the cancer. A high true positive means we are able to classify with a high level those having breast cancer(true) as actually having it(prediction)! A good metric in a situation like this one where a lot of the data suggests people do not have breast cancer on average. Notice that with the regression model, on the training set we get 0.31 and on the test we get 0.2 which suggests a low level of predictions of those that are indeed positive. However, this is significantly better than having them always be zero as the model which always predicts normal suggests.\n",
    "\n",
    "\n",
    "- True negative rate refers to the number of patients we predict as not having cancer (who actually don't have cancer) / total number of patients who genuinely don't have cancer. The goal of this metric is to find out how accurately we can predict those who don't have cancer as not having cancer. (Rather tautological I understand but it makes sense). Notice that logistic regression does a great job with true negative rate of 0.9997 on both the training and test set meaning a small subset are misclassified which isn't so bad since they could simply retake the test to make sure they don't have cancer. The model which always predicts zero does phenomenally well here since it always predicts people as not having cancer but this DOES NOT HELP US find the women who do have cancer which is really not useful!\n",
    "\n",
    "\n",
    "- Based off of these metrics, logistic regression is much more preferred since it actually helps us in finding our patients who have cancer. The point of this exercise is to show that using a plain accuracy score may not always be the right way to approach a problem.\n",
    "\n",
    "Q\n",
    "\n",
    "- What is the false positive rate of the fitted classifier, and how is it related to its true positive and true negative rate? Why is a classifier with high false positive rate undesirable for a cancer detection task?\n",
    "\n",
    "A\n",
    "\n",
    "- False positive rate = 1-true negative rate. In this situation the FPR is 0.000251455540726 on the training set and 0.00029429075927 on the test set. The reason high false positive rate is bad is that it implies true negative rate is low and that many of the people we screen are being classified as having cancer even though they don't have it. This could really be bad if it was forcing people to go into chaemotherapy if they didn't need it."
   ]
  },
  {
   "cell_type": "markdown",
   "metadata": {},
   "source": [
    "***"
   ]
  },
  {
   "cell_type": "markdown",
   "metadata": {},
   "source": [
    "## Question 2: ROC Analysis\n",
    "\n",
    "Another powerful diagnostic tool for class-imbalanced classification tasks is the Receiver Operating Characteristic (ROC) curve. Notice that the default logistic regression classifier in `sklearn` classifies a data point by thresholding the predicted class probability $\\hat{P}(Y=1)$ at 0.5. By using a different threshold, we can adjust the trade-off between the true positive rate (TPR) and false positive rate (FPR) of the classifier. The ROC curve allows us to visualize this trade-off across all possible thresholds.\n",
    "\n",
    "\n",
    "1. Display the ROC curve for the fitted classifier on the *test set*. In the same plot, also display the ROC curve for the all 0's classifier. How do the two curves compare?\n",
    "\n",
    "2.  Compute the highest TPR that can be achieved by the classifier at each of the following FPR's, and the thresholds at which they are achieved. Based on your results, comment on how the threshold influences a classifier's FPR.\n",
    "    - FPR = 0\n",
    "    - FPR = 0.1\n",
    "    - FPR = 0.5\n",
    "    - FPR = 0.9\n",
    "- Suppose a clinician told you that diagnosing a cancer patient as normal is *twice* as critical an error as diagnosing a normal patient as having cancer. Based on this information, what threshold would you recommend the clinician to use? What is the TPR and FPR of the classifier at this threshold? \n",
    "\n",
    "- Compute the area under the ROC curve (AUC) for both the fitted classifier and the all 0's classifier. How does the difference in the AUCs of the two classifiers compare with the difference between their classification accuracies in Question 1, Part 2(A)? \n",
    "\n",
    "*Hint:* You may use the `metrics.roc_curve` function to compute the ROC curve for a classification model and the `metrics.roc_auc_score` function to compute the AUC for the model."
   ]
  },
  {
   "cell_type": "markdown",
   "metadata": {},
   "source": [
    "### Code Here"
   ]
  },
  {
   "cell_type": "code",
   "execution_count": 130,
   "metadata": {
    "collapsed": false
   },
   "outputs": [],
   "source": [
    "#making ROC curves for this model using LAB7 code\n",
    "\n",
    "from sklearn.metrics import roc_curve, auc\n",
    "import seaborn as sns\n",
    "def make_roc(name, clf, ytest, xtest, ax=None, labe=5, proba=True, skip=0):\n",
    "    initial=False\n",
    "    if not ax:\n",
    "        ax=plt.gca()\n",
    "        initial=True\n",
    "    # for zeros\n",
    "    if clf == 1:\n",
    "        fpr, tpr, thresholds=roc_curve(ytest, np.zeros(np.shape(ytest)))\n",
    "    #for stuff like logistic regression\n",
    "    elif proba:\n",
    "        fpr, tpr, thresholds=roc_curve(ytest, clf.predict_proba(xtest)[:,1])\n",
    "    #for stuff like svm\n",
    "    else:\n",
    "        fpr, tpr, thresholds=roc_curve(ytest, )\n",
    "    roc_auc = auc(fpr, tpr)\n",
    "    if skip:\n",
    "        l=fpr.shape[0]\n",
    "        ax.plot(fpr[0:l:skip], tpr[0:l:skip], '.-', alpha=0.3, label='ROC curve for %s (area = %0.2f)' % (name, roc_auc))\n",
    "    else:\n",
    "        ax.plot(fpr, tpr, '.-', alpha=0.3, label='ROC curve for %s (area = %0.2f)' % (name, roc_auc))\n",
    "    label_kwargs = {}\n",
    "    label_kwargs['bbox'] = dict(\n",
    "        boxstyle='round,pad=0.3', alpha=0.2,\n",
    "    )\n",
    "    if labe!=None:\n",
    "        for k in range(0, fpr.shape[0],labe):\n",
    "            #from https://gist.github.com/podshumok/c1d1c9394335d86255b8\n",
    "            threshold = str(np.round(thresholds[k], 2))\n",
    "            ax.annotate(threshold, (fpr[k], tpr[k]), **label_kwargs)\n",
    "    if initial:\n",
    "        ax.plot([0, 1], [0, 1], '--k',alpha = 0.3,label ='ROC curve for zero pred (area = 0.5)')\n",
    "        #ax.plot(0, 0,alpha = 0.3,c='r',label ='ROC curve for zero pred (area = 0)')\n",
    "        ax.set_xlim([-0.1, 1.0])\n",
    "        ax.set_ylim([-0.1, 1.05])\n",
    "        ax.set_xlabel('False Positive Rate')\n",
    "        ax.set_ylabel('True Positive Rate')\n",
    "        ax.set_title('ROC')\n",
    "    ax.legend(loc=\"lower right\")\n",
    "    return ax\n",
    "\n"
   ]
  },
  {
   "cell_type": "code",
   "execution_count": 131,
   "metadata": {
    "collapsed": false
   },
   "outputs": [
    {
     "data": {
      "image/png": "[encoded data removed]",
      "text/plain": [
       "<matplotlib.figure.Figure at 0x1a4508a73c8>"
      ]
     },
     "metadata": {},
     "output_type": "display_data"
    }
   ],
   "source": [
    "sns.set_context(\"poster\")\n",
    "ax=make_roc(\"logistic\",lrcv, y_test, X_test, labe=10, skip=4)\n"
   ]
  },
  {
   "cell_type": "code",
   "execution_count": 132,
   "metadata": {
    "collapsed": true
   },
   "outputs": [],
   "source": [
    "fpr, tpr, thresholds=roc_curve(y_test, lrcv.predict_proba(X_test)[:,1])"
   ]
  },
  {
   "cell_type": "code",
   "execution_count": 133,
   "metadata": {
    "collapsed": false
   },
   "outputs": [],
   "source": [
    "# note that I set the third term to 0.6 since this actually will round 0.55 up\n",
    "# that is the value we want since 0.55 is closest to 0.5\n",
    "# note I set the last term 0.9 as having a threshold of 0\n",
    "FPRlist = [0,0.1,0.6,0.9]\n",
    "tprthresh = []\n",
    "for i in range(len(FPRlist)):\n",
    "    tempidx = np.where(np.round(fpr,1)==FPRlist[i])\n",
    "    if np.shape(tempidx)[1]==0:\n",
    "        tempidx = -1\n",
    "    else:\n",
    "        tempidx = np.amax(tempidx)\n",
    "    \n",
    "    tprthresh.append((tpr[tempidx],thresholds[tempidx]))"
   ]
  },
  {
   "cell_type": "code",
   "execution_count": 134,
   "metadata": {
    "collapsed": false
   },
   "outputs": [],
   "source": [
    "tprthresh = np.array(tprthresh)"
   ]
  },
  {
   "cell_type": "code",
   "execution_count": 135,
   "metadata": {
    "collapsed": false
   },
   "outputs": [
    {
     "data": {
      "text/plain": [
       "<matplotlib.text.Text at 0x1a44f2ff908>"
      ]
     },
     "execution_count": 135,
     "metadata": {},
     "output_type": "execute_result"
    },
    {
     "data": {
      "image/png": "[encoded data removed]",
      "text/plain": [
       "<matplotlib.figure.Figure at 0x1a44f035b70>"
      ]
     },
     "metadata": {},
     "output_type": "display_data"
    }
   ],
   "source": [
    "plt.figure(figsize=(12,8))\n",
    "plt.plot(tprthresh[:,1],FPRlist)\n",
    "plt.xlabel('threshold')\n",
    "plt.ylabel('False Positive Rate')\n",
    "plt.title('Response of FPR w.r.t Threshold')"
   ]
  },
  {
   "cell_type": "markdown",
   "metadata": {},
   "source": [
    "#### Your Answer Here\n",
    "\n",
    "Q\n",
    "\n",
    "- Display the ROC curve for the fitted classifier on the test set. In the same plot, also display the ROC curve for the all 0's classifier. How do the two curves compare?\n",
    "\n",
    "A\n",
    "\n",
    "- ROC for the logistic models hugs the top left half while the all 0 predictor is simply the biased coin flip model where the bias is set by the threshold. I understand that  ROC has a curve much closer to the top left edge which is good because it means the closer we are to this edge, the better our prediction model is at determining those with cancer as having it while those without as not having it. We also notice that the threshold value changes significantly and increases the TPR drastically while maintaining a relatively low FPR for the logistic model. As for the all zero predictor, it doesn't perform better than a biased coin flip and this doesn't help us much with our problem at hand.\n",
    "\n",
    "\n",
    "Q\n",
    "\n",
    "- Compute the highest TPR that can be achieved by the classifier at each of the following FPR's, and the thresholds at which they are achieved. Based on your results, comment on how the threshold influences a classifier's FPR.\n",
    "\n",
    "A\n",
    "\n",
    "-"
   ]
  },
  {
   "cell_type": "code",
   "execution_count": 136,
   "metadata": {
    "collapsed": false
   },
   "outputs": [
    {
     "data": {
      "text/html": [
       "<div>\n",
       "<table border=\"1\" class=\"dataframe\">\n",
       "  <thead>\n",
       "    <tr style=\"text-align: right;\">\n",
       "      <th></th>\n",
       "      <th>FPR</th>\n",
       "      <th>TPR</th>\n",
       "      <th>Threshold</th>\n",
       "    </tr>\n",
       "  </thead>\n",
       "  <tbody>\n",
       "    <tr>\n",
       "      <th>0</th>\n",
       "      <td>0.0</td>\n",
       "      <td>0.777778</td>\n",
       "      <td>1.538792e-02</td>\n",
       "    </tr>\n",
       "    <tr>\n",
       "      <th>1</th>\n",
       "      <td>0.1</td>\n",
       "      <td>0.848485</td>\n",
       "      <td>4.429929e-03</td>\n",
       "    </tr>\n",
       "    <tr>\n",
       "      <th>2</th>\n",
       "      <td>0.5</td>\n",
       "      <td>0.989899</td>\n",
       "      <td>7.349650e-05</td>\n",
       "    </tr>\n",
       "    <tr>\n",
       "      <th>3</th>\n",
       "      <td>0.9</td>\n",
       "      <td>1.000000</td>\n",
       "      <td>2.984143e-95</td>\n",
       "    </tr>\n",
       "  </tbody>\n",
       "</table>\n",
       "</div>"
      ],
      "text/plain": [
       "   FPR       TPR     Threshold\n",
       "0  0.0  0.777778  1.538792e-02\n",
       "1  0.1  0.848485  4.429929e-03\n",
       "2  0.5  0.989899  7.349650e-05\n",
       "3  0.9  1.000000  2.984143e-95"
      ]
     },
     "execution_count": 136,
     "metadata": {},
     "output_type": "execute_result"
    }
   ],
   "source": [
    "FPRl = [0,0.1,0.5,0.9]\n",
    "hightp = pd.DataFrame(np.c_[FPRl,tprthresh[:,0],tprthresh[:,1]],columns=['FPR','TPR','Threshold'])\n",
    "hightp"
   ]
  },
  {
   "cell_type": "markdown",
   "metadata": {},
   "source": [
    "- So we can see from the figure above as well as the table above that small changes in the threshold can drastically influence the FPR, particularly if we are trying to maximize the TPR at each instance. This indicates to us that we need to be careful in selecting our threshold since it significantly impacts the FPR. Why is this important? It is important because while we want a high TPR, keeping FPR low is also crucial otherwise we run into the issue of many 'false alarms' which would mean a lot of people who don't have cancer may end up going through treatment they didn't need in the first place. Such complications could cost the clinicians a lot if they're charged for damages."
   ]
  },
  {
   "cell_type": "markdown",
   "metadata": {},
   "source": [
    "Q\n",
    "\n",
    "- Suppose a clinician told you that diagnosing a cancer patient as normal is twice as critical an error as diagnosing a normal patient as having cancer. Based on this information, what threshold would you recommend the clinician to use? What is the TPR and FPR of the classifier at this threshold?\n",
    "\n",
    "A\n",
    "\n",
    "- What we are saying here is that the False negative rate = 2* false positive rate. Therefore given that false negative rate is 1-true positive rate we get:\n",
    "\n",
    "$$ TPR = 1-2FPR $$\n",
    "\n",
    "    If we draw this line on our ROC graph and see where it intersects our ROC curve for the logistic model, we will have our solution.\n",
    "   \n",
    "    The 0.007 threshold seems like the best for this by visual inspection. This is also justified by looking at the table above and saying 1-2*(0.1) =0.8 which is only satisfied by the second row where the threshold is 0.004 (very close to our visual inspection).\n",
    "\n",
    "    At this threshold:\n",
    "    TPR 0.82\n",
    "    FPR 0.09\n",
    "\n",
    "    This condition allows us to ensure we have a relatively high TPR while maintaining a low FPR which is good.\n",
    "\n",
    "Q\n",
    "\n",
    "- Compute the area under the ROC curve (AUC) for both the fitted classifier and the all 0's classifier. How does the difference in the AUCs of the two classifiers compare with the difference between their classification accuracies in Question 1, Part 2(A)?\n",
    "\n",
    "A\n",
    "\n",
    "- AUC of the logistic model is 0.93 whereas AUC for always zero model is 0.5. In comparison to Q1.2A in which the accuracy difference is on the order of $10^{-3}$ we can see that AUC is a better metric in evaluating this type of problem since it gives us a much better sense of accuracy with regards to the two models. AUC can truly help us say with confidence that the logistic model is better than the always zero model since the AUC of logistic is almost twice that of all zero."
   ]
  },
  {
   "cell_type": "markdown",
   "metadata": {},
   "source": [
    "***"
   ]
  },
  {
   "cell_type": "markdown",
   "metadata": {
    "collapsed": true
   },
   "source": [
    "## Question 3: Missing data\n",
    "\n",
    "In this problem you are given a different data set, `hw6_dataset_missing.csv`, that is  similar to the one you used above (same column definitions and same conditions), however this data set contains missing values. \n",
    "\n",
    "*Note*: be careful of reading/treating column names and row names in this data set as well, it *may* be different than the first data set.\n",
    "\n",
    "\n",
    "1. Remove all observations that contain and missing values, split the dataset into a 75-25 train-test split, and fit the regularized logistic regression as in Question 1 (use `LogisticRegressionCV` again to retune).  Report the overall classification rate and TPR in the test set.\n",
    "2. Restart with a fresh copy of the data in `hw6_dataset_missing.csv` and impute the missing data via mean imputation.  Split the data 75-25 and fit the regularized logistic regression model.  Report the overall classification rate and TPR in the test set.  \n",
    "3. Again restart with a fresh copy of the data in `hw6_dataset_missing.csv` and impute the missing data via a model-based imputation method. Once again split the data 75-25 and fit the regularized logistic regression model.  Report the overall classification rate and TPR in the test set.  \n",
    "4. Compare the results in the 3 previous parts of this problem.  Prepare a paragraph (5-6 sentences) discussing the results, the computational complexity of the methods, and conjecture and explain why you get the results that you see.\n",
    "\n"
   ]
  },
  {
   "cell_type": "markdown",
   "metadata": {},
   "source": [
    "#### Model 1"
   ]
  },
  {
   "cell_type": "code",
   "execution_count": 137,
   "metadata": {
    "collapsed": false
   },
   "outputs": [],
   "source": [
    "# headers defined, drop first column since its a set of indices\n",
    "data_missing = pd.read_csv('hw6_dataset_missing.csv',index_col =0)"
   ]
  },
  {
   "cell_type": "code",
   "execution_count": 138,
   "metadata": {
    "collapsed": false,
    "scrolled": true
   },
   "outputs": [
    {
     "data": {
      "text/html": [
       "<div>\n",
       "<table border=\"1\" class=\"dataframe\">\n",
       "  <thead>\n",
       "    <tr style=\"text-align: right;\">\n",
       "      <th></th>\n",
       "      <th>1</th>\n",
       "      <th>2</th>\n",
       "      <th>3</th>\n",
       "      <th>4</th>\n",
       "      <th>5</th>\n",
       "      <th>6</th>\n",
       "      <th>7</th>\n",
       "      <th>8</th>\n",
       "      <th>9</th>\n",
       "      <th>10</th>\n",
       "      <th>...</th>\n",
       "      <th>109</th>\n",
       "      <th>110</th>\n",
       "      <th>111</th>\n",
       "      <th>112</th>\n",
       "      <th>113</th>\n",
       "      <th>114</th>\n",
       "      <th>115</th>\n",
       "      <th>116</th>\n",
       "      <th>117</th>\n",
       "      <th>type</th>\n",
       "    </tr>\n",
       "  </thead>\n",
       "  <tbody>\n",
       "    <tr>\n",
       "      <th>count</th>\n",
       "      <td>24999.000000</td>\n",
       "      <td>24999.000000</td>\n",
       "      <td>24999.000000</td>\n",
       "      <td>24999.000000</td>\n",
       "      <td>24999.000000</td>\n",
       "      <td>24999.000000</td>\n",
       "      <td>24999.000000</td>\n",
       "      <td>24999.000000</td>\n",
       "      <td>24999.000000</td>\n",
       "      <td>24999.000000</td>\n",
       "      <td>...</td>\n",
       "      <td>21085.000000</td>\n",
       "      <td>24999.000000</td>\n",
       "      <td>24999.000000</td>\n",
       "      <td>24999.000000</td>\n",
       "      <td>24999.000000</td>\n",
       "      <td>24999.000000</td>\n",
       "      <td>24999.000000</td>\n",
       "      <td>24999.000000</td>\n",
       "      <td>24999.000000</td>\n",
       "      <td>24999.000000</td>\n",
       "    </tr>\n",
       "    <tr>\n",
       "      <th>mean</th>\n",
       "      <td>0.002289</td>\n",
       "      <td>0.007391</td>\n",
       "      <td>-0.000162</td>\n",
       "      <td>0.003078</td>\n",
       "      <td>0.006176</td>\n",
       "      <td>0.004787</td>\n",
       "      <td>-0.002727</td>\n",
       "      <td>-0.000678</td>\n",
       "      <td>-0.006298</td>\n",
       "      <td>-0.007603</td>\n",
       "      <td>...</td>\n",
       "      <td>-0.008844</td>\n",
       "      <td>0.003808</td>\n",
       "      <td>-0.002178</td>\n",
       "      <td>-0.006409</td>\n",
       "      <td>0.000272</td>\n",
       "      <td>0.003338</td>\n",
       "      <td>0.005499</td>\n",
       "      <td>0.003023</td>\n",
       "      <td>0.003306</td>\n",
       "      <td>0.006440</td>\n",
       "    </tr>\n",
       "    <tr>\n",
       "      <th>std</th>\n",
       "      <td>0.179958</td>\n",
       "      <td>0.317697</td>\n",
       "      <td>0.896449</td>\n",
       "      <td>0.771801</td>\n",
       "      <td>1.014122</td>\n",
       "      <td>0.997451</td>\n",
       "      <td>1.001580</td>\n",
       "      <td>1.006237</td>\n",
       "      <td>0.977132</td>\n",
       "      <td>0.979436</td>\n",
       "      <td>...</td>\n",
       "      <td>0.976922</td>\n",
       "      <td>1.000087</td>\n",
       "      <td>1.011648</td>\n",
       "      <td>0.990688</td>\n",
       "      <td>1.003846</td>\n",
       "      <td>0.998341</td>\n",
       "      <td>0.996676</td>\n",
       "      <td>1.000500</td>\n",
       "      <td>0.989882</td>\n",
       "      <td>0.079994</td>\n",
       "    </tr>\n",
       "    <tr>\n",
       "      <th>min</th>\n",
       "      <td>-14.700000</td>\n",
       "      <td>-6.690000</td>\n",
       "      <td>-63.800000</td>\n",
       "      <td>-54.800000</td>\n",
       "      <td>-3.080000</td>\n",
       "      <td>-2.990000</td>\n",
       "      <td>-2.050000</td>\n",
       "      <td>-1.660000</td>\n",
       "      <td>-1.570000</td>\n",
       "      <td>-1.500000</td>\n",
       "      <td>...</td>\n",
       "      <td>-6.930000</td>\n",
       "      <td>-5.410000</td>\n",
       "      <td>-14.800000</td>\n",
       "      <td>-4.860000</td>\n",
       "      <td>-1.220000</td>\n",
       "      <td>-4.510000</td>\n",
       "      <td>-5.600000</td>\n",
       "      <td>-5.880000</td>\n",
       "      <td>-14.800000</td>\n",
       "      <td>0.000000</td>\n",
       "    </tr>\n",
       "    <tr>\n",
       "      <th>25%</th>\n",
       "      <td>-0.065150</td>\n",
       "      <td>-0.040600</td>\n",
       "      <td>-0.264000</td>\n",
       "      <td>-0.223000</td>\n",
       "      <td>-0.562000</td>\n",
       "      <td>-0.548000</td>\n",
       "      <td>-0.523000</td>\n",
       "      <td>-0.593000</td>\n",
       "      <td>-0.713000</td>\n",
       "      <td>-0.727000</td>\n",
       "      <td>...</td>\n",
       "      <td>-0.459000</td>\n",
       "      <td>-0.488000</td>\n",
       "      <td>-0.349000</td>\n",
       "      <td>-0.524000</td>\n",
       "      <td>-0.847000</td>\n",
       "      <td>-0.252000</td>\n",
       "      <td>-0.588000</td>\n",
       "      <td>-0.096000</td>\n",
       "      <td>-0.258000</td>\n",
       "      <td>0.000000</td>\n",
       "    </tr>\n",
       "    <tr>\n",
       "      <th>50%</th>\n",
       "      <td>0.024100</td>\n",
       "      <td>0.103000</td>\n",
       "      <td>0.089100</td>\n",
       "      <td>0.080400</td>\n",
       "      <td>-0.097900</td>\n",
       "      <td>-0.097400</td>\n",
       "      <td>0.005660</td>\n",
       "      <td>-0.089400</td>\n",
       "      <td>-0.221000</td>\n",
       "      <td>-0.238000</td>\n",
       "      <td>...</td>\n",
       "      <td>-0.104000</td>\n",
       "      <td>0.161000</td>\n",
       "      <td>0.204000</td>\n",
       "      <td>-0.266000</td>\n",
       "      <td>-0.137000</td>\n",
       "      <td>0.322000</td>\n",
       "      <td>0.274000</td>\n",
       "      <td>0.327000</td>\n",
       "      <td>-0.141000</td>\n",
       "      <td>0.000000</td>\n",
       "    </tr>\n",
       "    <tr>\n",
       "      <th>75%</th>\n",
       "      <td>0.094200</td>\n",
       "      <td>0.175000</td>\n",
       "      <td>0.359000</td>\n",
       "      <td>0.313000</td>\n",
       "      <td>0.454000</td>\n",
       "      <td>0.437000</td>\n",
       "      <td>0.563000</td>\n",
       "      <td>0.513000</td>\n",
       "      <td>0.484500</td>\n",
       "      <td>0.493000</td>\n",
       "      <td>...</td>\n",
       "      <td>0.322000</td>\n",
       "      <td>0.568000</td>\n",
       "      <td>0.399000</td>\n",
       "      <td>0.128000</td>\n",
       "      <td>0.652000</td>\n",
       "      <td>0.647000</td>\n",
       "      <td>0.807000</td>\n",
       "      <td>0.587000</td>\n",
       "      <td>0.005810</td>\n",
       "      <td>0.000000</td>\n",
       "    </tr>\n",
       "    <tr>\n",
       "      <th>max</th>\n",
       "      <td>0.954000</td>\n",
       "      <td>5.430000</td>\n",
       "      <td>1.990000</td>\n",
       "      <td>1.720000</td>\n",
       "      <td>44.400000</td>\n",
       "      <td>32.800000</td>\n",
       "      <td>15.200000</td>\n",
       "      <td>19.500000</td>\n",
       "      <td>13.300000</td>\n",
       "      <td>11.600000</td>\n",
       "      <td>...</td>\n",
       "      <td>11.200000</td>\n",
       "      <td>6.310000</td>\n",
       "      <td>9.400000</td>\n",
       "      <td>11.600000</td>\n",
       "      <td>16.900000</td>\n",
       "      <td>1.330000</td>\n",
       "      <td>1.380000</td>\n",
       "      <td>1.360000</td>\n",
       "      <td>26.900000</td>\n",
       "      <td>1.000000</td>\n",
       "    </tr>\n",
       "  </tbody>\n",
       "</table>\n",
       "<p>8 rows × 118 columns</p>\n",
       "</div>"
      ],
      "text/plain": [
       "                  1             2             3             4             5  \\\n",
       "count  24999.000000  24999.000000  24999.000000  24999.000000  24999.000000   \n",
       "mean       0.002289      0.007391     -0.000162      0.003078      0.006176   \n",
       "std        0.179958      0.317697      0.896449      0.771801      1.014122   \n",
       "min      -14.700000     -6.690000    -63.800000    -54.800000     -3.080000   \n",
       "25%       -0.065150     -0.040600     -0.264000     -0.223000     -0.562000   \n",
       "50%        0.024100      0.103000      0.089100      0.080400     -0.097900   \n",
       "75%        0.094200      0.175000      0.359000      0.313000      0.454000   \n",
       "max        0.954000      5.430000      1.990000      1.720000     44.400000   \n",
       "\n",
       "                  6             7             8             9            10  \\\n",
       "count  24999.000000  24999.000000  24999.000000  24999.000000  24999.000000   \n",
       "mean       0.004787     -0.002727     -0.000678     -0.006298     -0.007603   \n",
       "std        0.997451      1.001580      1.006237      0.977132      0.979436   \n",
       "min       -2.990000     -2.050000     -1.660000     -1.570000     -1.500000   \n",
       "25%       -0.548000     -0.523000     -0.593000     -0.713000     -0.727000   \n",
       "50%       -0.097400      0.005660     -0.089400     -0.221000     -0.238000   \n",
       "75%        0.437000      0.563000      0.513000      0.484500      0.493000   \n",
       "max       32.800000     15.200000     19.500000     13.300000     11.600000   \n",
       "\n",
       "           ...                109           110           111           112  \\\n",
       "count      ...       21085.000000  24999.000000  24999.000000  24999.000000   \n",
       "mean       ...          -0.008844      0.003808     -0.002178     -0.006409   \n",
       "std        ...           0.976922      1.000087      1.011648      0.990688   \n",
       "min        ...          -6.930000     -5.410000    -14.800000     -4.860000   \n",
       "25%        ...          -0.459000     -0.488000     -0.349000     -0.524000   \n",
       "50%        ...          -0.104000      0.161000      0.204000     -0.266000   \n",
       "75%        ...           0.322000      0.568000      0.399000      0.128000   \n",
       "max        ...          11.200000      6.310000      9.400000     11.600000   \n",
       "\n",
       "                113           114           115           116           117  \\\n",
       "count  24999.000000  24999.000000  24999.000000  24999.000000  24999.000000   \n",
       "mean       0.000272      0.003338      0.005499      0.003023      0.003306   \n",
       "std        1.003846      0.998341      0.996676      1.000500      0.989882   \n",
       "min       -1.220000     -4.510000     -5.600000     -5.880000    -14.800000   \n",
       "25%       -0.847000     -0.252000     -0.588000     -0.096000     -0.258000   \n",
       "50%       -0.137000      0.322000      0.274000      0.327000     -0.141000   \n",
       "75%        0.652000      0.647000      0.807000      0.587000      0.005810   \n",
       "max       16.900000      1.330000      1.380000      1.360000     26.900000   \n",
       "\n",
       "               type  \n",
       "count  24999.000000  \n",
       "mean       0.006440  \n",
       "std        0.079994  \n",
       "min        0.000000  \n",
       "25%        0.000000  \n",
       "50%        0.000000  \n",
       "75%        0.000000  \n",
       "max        1.000000  \n",
       "\n",
       "[8 rows x 118 columns]"
      ]
     },
     "execution_count": 138,
     "metadata": {},
     "output_type": "execute_result"
    }
   ],
   "source": [
    "data_missing.describe()"
   ]
  },
  {
   "cell_type": "code",
   "execution_count": 139,
   "metadata": {
    "collapsed": true
   },
   "outputs": [],
   "source": [
    "# drop rows with nan's\n",
    "data_missing = data_missing.dropna(how='any')"
   ]
  },
  {
   "cell_type": "code",
   "execution_count": 140,
   "metadata": {
    "collapsed": false
   },
   "outputs": [
    {
     "data": {
      "text/plain": [
       "(1436, 118)"
      ]
     },
     "execution_count": 140,
     "metadata": {},
     "output_type": "execute_result"
    }
   ],
   "source": [
    "data_missing.shape"
   ]
  },
  {
   "cell_type": "code",
   "execution_count": 141,
   "metadata": {
    "collapsed": true
   },
   "outputs": [],
   "source": [
    "# train test split!\n",
    "np.random.seed(9000)\n",
    "msk = np.random.rand(len(data_missing)) < 0.75\n",
    "data_train = data_missing[msk]\n",
    "data_test = data_missing[~msk]"
   ]
  },
  {
   "cell_type": "code",
   "execution_count": 142,
   "metadata": {
    "collapsed": true
   },
   "outputs": [],
   "source": [
    "# set xtrain and ytrain/xtest and ytest\n",
    "X_train = data_train.iloc[:,:116]\n",
    "y_train = data_train.iloc[:,117]\n",
    "X_test = data_test.iloc[:,:116]\n",
    "y_test = data_test.iloc[:,117]"
   ]
  },
  {
   "cell_type": "code",
   "execution_count": 143,
   "metadata": {
    "collapsed": false
   },
   "outputs": [
    {
     "data": {
      "text/plain": [
       "(2,)"
      ]
     },
     "execution_count": 143,
     "metadata": {},
     "output_type": "execute_result"
    }
   ],
   "source": [
    "np.shape(y_train[y_train==1])"
   ]
  },
  {
   "cell_type": "code",
   "execution_count": 144,
   "metadata": {
    "collapsed": false
   },
   "outputs": [
    {
     "name": "stdout",
     "output_type": "stream",
     "text": [
      "The training accuracy = 0.998148148148\n",
      "The test accuracy = 0.997191011236\n",
      "Test Matrix (model 1)\n",
      "\n",
      "[[355   0]\n",
      " [  1   0]]\n",
      "\n",
      "Rates:\n",
      "   TPR  TNR  FPR  FNR\n",
      "0  0.0  1.0  0.0  1.0\n",
      "\n"
     ]
    }
   ],
   "source": [
    "# set regularization terms using xs\n",
    "# uses stratified CV \n",
    "# need to set CV = 2 to avoid errors\n",
    "xs = np.linspace(10**(-4),10**(8),10)\n",
    "lrcv = LogisticRegressionCV(Cs = xs,penalty = 'l2',cv = 2,fit_intercept = True)\n",
    "lrcv.fit(X_train.values,np.ravel(y_train))\n",
    "print('The training accuracy = %s' %lrcv.score(X_train,y_train))\n",
    "print('The test accuracy = %s' %lrcv.score(X_test,y_test))\n",
    "rates(y_test,lrcv.predict(X_test),'Test Matrix (model 1)')"
   ]
  },
  {
   "cell_type": "markdown",
   "metadata": {},
   "source": [
    "___\n"
   ]
  },
  {
   "cell_type": "markdown",
   "metadata": {},
   "source": [
    "#### Model 2"
   ]
  },
  {
   "cell_type": "code",
   "execution_count": 145,
   "metadata": {
    "collapsed": true
   },
   "outputs": [],
   "source": [
    "# headers defined, drop first column since its a set of indices\n",
    "data_missing = pd.read_csv('hw6_dataset_missing.csv',index_col =0)"
   ]
  },
  {
   "cell_type": "code",
   "execution_count": 146,
   "metadata": {
    "collapsed": true
   },
   "outputs": [],
   "source": [
    "data_missing = data_missing.fillna(data_missing.mean())"
   ]
  },
  {
   "cell_type": "code",
   "execution_count": 147,
   "metadata": {
    "collapsed": true
   },
   "outputs": [],
   "source": [
    "# train test split!\n",
    "np.random.seed(9001)\n",
    "msk = np.random.rand(len(data_missing)) <= 0.75\n",
    "data_train = data_missing[msk]\n",
    "data_test = data_missing[~msk]"
   ]
  },
  {
   "cell_type": "code",
   "execution_count": 148,
   "metadata": {
    "collapsed": true
   },
   "outputs": [],
   "source": [
    "# set xtrain and ytrain/xtest and ytest\n",
    "X_train = data_train.iloc[:,:116]\n",
    "y_train = data_train.iloc[:,117]\n",
    "X_test = data_test.iloc[:,:116]\n",
    "y_test = data_test.iloc[:,117]"
   ]
  },
  {
   "cell_type": "code",
   "execution_count": 149,
   "metadata": {
    "collapsed": false
   },
   "outputs": [
    {
     "data": {
      "text/plain": [
       "(110,)"
      ]
     },
     "execution_count": 149,
     "metadata": {},
     "output_type": "execute_result"
    }
   ],
   "source": [
    "np.shape(y_train[y_train==1])"
   ]
  },
  {
   "cell_type": "code",
   "execution_count": 150,
   "metadata": {
    "collapsed": false,
    "scrolled": true
   },
   "outputs": [
    {
     "name": "stdout",
     "output_type": "stream",
     "text": [
      "The training accuracy = 0.995602416022\n",
      "The test accuracy = 0.992163265306\n",
      "Test Matrix (Model 2)\n",
      "\n",
      "[[6066    8]\n",
      " [  40   11]]\n",
      "\n",
      "Rates:\n",
      "        TPR       TNR       FPR       FNR\n",
      "0  0.215686  0.998683  0.001317  0.784314\n",
      "\n"
     ]
    }
   ],
   "source": [
    "# set regularization terms using xs\n",
    "# uses stratified CV \n",
    "# need to set CV = 2 to avoid errors\n",
    "xs = np.linspace(10**(-4),10**(8),10)\n",
    "lrcv = LogisticRegressionCV(Cs = xs,penalty = 'l2',fit_intercept = True)\n",
    "lrcv.fit(X_train.values,np.ravel(y_train))\n",
    "print('The training accuracy = %s' %lrcv.score(X_train,y_train))\n",
    "print('The test accuracy = %s' %lrcv.score(X_test,y_test))\n",
    "rates(y_test,lrcv.predict(X_test),'Test Matrix (Model 2)')\n"
   ]
  },
  {
   "cell_type": "markdown",
   "metadata": {},
   "source": [
    " ***** "
   ]
  },
  {
   "cell_type": "markdown",
   "metadata": {},
   "source": [
    "#### Model 3"
   ]
  },
  {
   "cell_type": "code",
   "execution_count": 151,
   "metadata": {
    "collapsed": true
   },
   "outputs": [],
   "source": [
    "# headers defined, drop first column since its a set of indices\n",
    "data_missing = pd.read_csv('hw6_dataset_missing.csv',index_col =0)"
   ]
  },
  {
   "cell_type": "code",
   "execution_count": 152,
   "metadata": {
    "collapsed": false,
    "scrolled": true
   },
   "outputs": [],
   "source": [
    "# find columns where nan values are\n",
    "idx = np.where(pd.isnull(data_missing).sum() > 0)"
   ]
  },
  {
   "cell_type": "code",
   "execution_count": 153,
   "metadata": {
    "collapsed": false
   },
   "outputs": [],
   "source": [
    "# find non missing data\n",
    "Xnonnull = data_missing.dropna(axis=1,how='any')\n",
    "X_train = Xnonnull.drop('type',axis=1)\n"
   ]
  },
  {
   "cell_type": "code",
   "execution_count": 154,
   "metadata": {
    "collapsed": false
   },
   "outputs": [],
   "source": [
    "# fit model to complete predictors and predict nan observartion using predictors\n",
    "linreg = LinearRegression(fit_intercept=True)\n",
    "for i in range(np.shape(idx)[1]):\n",
    "    # fit to rows with observations\n",
    "    inds = data_missing.iloc[:,idx[0][i]].isnull()\n",
    "    mdrops = np.where(inds==True)\n",
    "    xtr = X_train.drop(X_train.index[mdrops])\n",
    "    ytr = data_missing.iloc[:,idx[0][i]]\n",
    "    ytr = ytr.drop(ytr.index[mdrops])\n",
    "    linreg.fit(xtr,ytr)\n",
    "\n",
    "    # predict on rows with nulls\n",
    "    xtst = X_train.values[mdrops]\n",
    "    ypred = linreg.predict(xtst)\n",
    "    data_missing.iloc[:,idx[0][i]].values[mdrops] = ypred "
   ]
  },
  {
   "cell_type": "code",
   "execution_count": 155,
   "metadata": {
    "collapsed": true
   },
   "outputs": [],
   "source": [
    "# train test split!\n",
    "np.random.seed(9001)\n",
    "msk = np.random.rand(len(data_missing)) < 0.75\n",
    "data_train = data_missing[msk]\n",
    "data_test = data_missing[~msk]"
   ]
  },
  {
   "cell_type": "code",
   "execution_count": 156,
   "metadata": {
    "collapsed": true
   },
   "outputs": [],
   "source": [
    "# set xtrain and ytrain/xtest and ytest\n",
    "X_train = data_train.iloc[:,:116]\n",
    "y_train = data_train.iloc[:,117]\n",
    "X_test = data_test.iloc[:,:116]\n",
    "y_test = data_test.iloc[:,117]"
   ]
  },
  {
   "cell_type": "code",
   "execution_count": 157,
   "metadata": {
    "collapsed": false
   },
   "outputs": [
    {
     "name": "stdout",
     "output_type": "stream",
     "text": [
      "The training accuracy = 0.995496450143\n",
      "The test accuracy = 0.992163265306\n",
      "Test Matrix (Model 3)\n",
      "\n",
      "[[6066    8]\n",
      " [  40   11]]\n",
      "\n",
      "Rates:\n",
      "        TPR       TNR       FPR       FNR\n",
      "0  0.215686  0.998683  0.001317  0.784314\n",
      "\n"
     ]
    }
   ],
   "source": [
    "# set regularization terms using xs\n",
    "# uses stratified CV \n",
    "# need to set CV = 2 to avoid errors\n",
    "xs = np.linspace(10**(-4),10**(8),10)\n",
    "lrcv = LogisticRegressionCV(Cs = xs,penalty = 'l2',fit_intercept = True)\n",
    "lrcv.fit(X_train.values,np.ravel(y_train))\n",
    "print('The training accuracy = %s' %lrcv.score(X_train,y_train))\n",
    "print('The test accuracy = %s' %lrcv.score(X_test,y_test))\n",
    "rates(y_test,lrcv.predict(X_test),'Test Matrix (Model 3)')"
   ]
  },
  {
   "cell_type": "markdown",
   "metadata": {
    "collapsed": true
   },
   "source": [
    "### Your Answers Here\n",
    "\n",
    "Q 1 -3, see the output prints above. I have separated each question with a horizontal line and printed accuracy as well as the TPR.\n",
    "\n",
    "Q4\n",
    "\n",
    "- Compare the results in the 3 previous parts of this problem. Prepare a paragraph (5-6 sentences) discussing the results, the computational complexity of the methods, and conjecture and explain why you get the results that you see.\n",
    "\n",
    "\n"
   ]
  },
  {
   "cell_type": "markdown",
   "metadata": {
    "collapsed": true
   },
   "source": [
    "A\n",
    "\n",
    "- The three models perform with a high level of training/test accuracy with model 1 performing slightly better than mean/model imputation (~.997 vs 0.992 on the test sets). However, while model 1 does well to classify, it doesn't have many data points that are positive (since they're dropped) to learn from so suffers in TPR predictions(=0 for this model). In using mean imputation and model imputation, we can 'keep' more observations which allow us to develop better models that can generate a higher TPR. Model one is the least computationally expensive since it is a search over an N X N matrix to find and drop rows. Mean imputation is slightly more expensive since it involves having to find the columns with nan's, computing the mean of multiple observations and then feeding those means back in. The last model is the most expensive since it involves having to find the columns with missing data, train multiple models to fit to the features with missing data and then predict the missing values and insert them. Some conjectures are that dropping rows reduces training data drastically which means that for a situation where there are already only a few samples that are 1's, the model won't be good at predicting TPR. Mean imputation and model imputation generate the same TPR potentially because the model fitting process yields predictions that are close to the mean of the data. "
   ]
  },
  {
   "cell_type": "code",
   "execution_count": null,
   "metadata": {
    "collapsed": true
   },
   "outputs": [],
   "source": []
  }
 ],
 "metadata": {
  "anaconda-cloud": {},
  "kernelspec": {
   "display_name": "Python 3",
   "language": "python",
   "name": "python3"
  },
  "language_info": {
   "codemirror_mode": {
    "name": "ipython",
    "version": 3
   },
   "file_extension": ".py",
   "mimetype": "text/x-python",
   "name": "python",
   "nbconvert_exporter": "python",
   "pygments_lexer": "ipython3",
   "version": "3.6.0"
  }
 },
 "nbformat": 4,
 "nbformat_minor": 1
}
