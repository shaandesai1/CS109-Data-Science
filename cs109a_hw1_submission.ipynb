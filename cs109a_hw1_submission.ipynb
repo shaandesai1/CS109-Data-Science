{
 "cells": [
  {
   "cell_type": "markdown",
   "metadata": {},
   "source": [
    "# CS 109A/STAT 121A/AC 209A/CSCI E-109A: Homework 1\n",
    "\n",
    "\n",
    "\n",
    "**Harvard University**<br/>\n",
    "**Fall 2017**<br/>\n",
    "**Instructors**: Pavlos Protopapas, Kevin Rader, Rahul Dave, Margo Levine\n",
    "\n",
    "---\n",
    "\n",
    "### INSTRUCTIONS\n",
    "\n",
    "**WARNING**: There is web page scraping in this homework. It takes about 40 minutes. **Do not wait till the last minute** to do this homework.\n",
    "\n",
    "- To submit your assignment follow the instructions given in canvas.\n",
    "- Restart the kernel and run the whole notebook again before you submit. There is an important CAVEAT to this. DO NOT run the web-page fetching cells again. (We have provided hints like `# DO NOT RERUN THIS CELL WHEN SUBMITTING` on some of the cells where we provide the code). Instead load your data structures from the JSON files we will ask you to save below. Otherwise you will be waiting for a long time. (Another reason to not wait until the last moment to submit.)\n",
    "\n",
    "- Do not include your name in the notebook.\n",
    "\n",
    "---"
   ]
  },
  {
   "cell_type": "markdown",
   "metadata": {},
   "source": [
    "# Homework 1: Rihanna or Mariah?"
   ]
  },
  {
   "cell_type": "markdown",
   "metadata": {},
   "source": [
    "Billboard Magazine puts out a top 100 list of \"singles\" every week. Information from this list, as well as that from music sales, radio, and other sources is used to determine a top-100 \"singles\" of the year list. A **single** is typically one song, but sometimes can be two songs which are on one \"single\" record.\n",
    "\n",
    "In this homework you will: \n",
    "\n",
    "1. Scrape Wikipedia to obtain infprmation about the best singers and groups from each year (distinguishing between the two groups) as determined by the Billboard top 100 charts. You will have to clean this data. Along the way you will learn how to save data in json files to avoid repeated scraping. \n",
    "2. Scrape Wikipedia to obtain information on these singers. You will have to scrape the web pages, this time using a cache to guard against network timeouts (or your laptop going to sleep). You will again clean the data, and save it to a json file.\n",
    "3. Use pandas to represent these two datasets and merge them.\n",
    "4. Use the individual and merged datasets to visualize the performance of the artists and their songs. We have kept the amount of analysis limited here for reasons of time; but you might enjoy exploring music genres and other aspects of the music business you can find on these wikipedia pages at your own leisure."
   ]
  },
  {
   "cell_type": "markdown",
   "metadata": {},
   "source": [
    "You should have worked through Lab0 and Lab 1, and Lecture 2.  Lab 2 will help as well."
   ]
  },
  {
   "cell_type": "markdown",
   "metadata": {},
   "source": [
    "As usual, first we import the necessary libraries.  In particular, we use [Seaborn](http://stanford.edu/~mwaskom/software/seaborn/) to give us a nicer default color palette, with our plots being of large (`poster`) size and with a white-grid background. "
   ]
  },
  {
   "cell_type": "code",
   "execution_count": 1,
   "metadata": {
    "collapsed": true,
    "scrolled": false
   },
   "outputs": [],
   "source": [
    "%matplotlib inline\n",
    "import numpy as np\n",
    "import scipy as sp\n",
    "import matplotlib as mpl\n",
    "import matplotlib.cm as cm\n",
    "import matplotlib.pyplot as plt\n",
    "import pandas as pd\n",
    "import time\n",
    "pd.set_option('display.width', 500)\n",
    "pd.set_option('display.max_columns', 100)\n",
    "pd.set_option('display.notebook_repr_html', True)\n",
    "import seaborn as sns\n",
    "sns.set_style(\"whitegrid\")\n",
    "sns.set_context(\"poster\")\n",
    "import requests"
   ]
  },
  {
   "cell_type": "markdown",
   "metadata": {},
   "source": [
    "## Q1. Scraping Wikipedia for Billboard Top 100."
   ]
  },
  {
   "cell_type": "markdown",
   "metadata": {},
   "source": [
    "In this question you will scrape Wikipedia for the Billboard's top 100 singles."
   ]
  },
  {
   "cell_type": "markdown",
   "metadata": {},
   "source": [
    "### Scraping Wikipedia for Billboard singles"
   ]
  },
  {
   "cell_type": "markdown",
   "metadata": {},
   "source": [
    "We'll be using  [BeautifulSoup](http://www.crummy.com/software/BeautifulSoup/), and suggest that you use Python's built in `requests` library to fetch the web page."
   ]
  },
  {
   "cell_type": "markdown",
   "metadata": {},
   "source": [
    "#### 1.1 Parsing the Billboard Wikipedia page for 1970"
   ]
  },
  {
   "cell_type": "markdown",
   "metadata": {},
   "source": [
    "Obtain the web page at http://en.wikipedia.org/wiki/Billboard_Year-End_Hot_100_singles_of_1970 using a HTTP GET request. From this web page we'll extract the top 100 singles and their rankings. Create a list of dictionaries, 100 of them to be precise, with entries like \n",
    "\n",
    "`{'url': '/wiki/Sugarloaf_(band)', 'ranking': 30, 'band_singer': 'Sugarloaf', 'title': 'Green-Eyed Lady'}`. \n",
    "\n",
    "If you look at that web page, you'll see a link for every song, from which you can get the `url` of the singer or band. We will use these links later to scrape information about the singer or band. From the listing we can also get the band or singer name `band_singer`, and `title` of the song.\n",
    "\n",
    "*HINT: look for a table with class `wikitable`.*"
   ]
  },
  {
   "cell_type": "code",
   "execution_count": 3,
   "metadata": {
    "collapsed": false
   },
   "outputs": [
    {
     "name": "stdout",
     "output_type": "stream",
     "text": [
      "[{'band_singer': 'The Guess Who', 'ranking': 3, 'title': '\"American Woman\"', 'url': '/wiki/The_Guess_Who'}, {'band_singer': 'B.J. Thomas', 'ranking': 4, 'title': '\"Raindrops Keep Fallin\\' on My Head\"', 'url': '/wiki/B.J._Thomas'}]\n"
     ]
    }
   ],
   "source": [
    "import requests\n",
    "from bs4 import BeautifulSoup\n",
    "webpg = requests.get('http://en.wikipedia.org/wiki/Billboard_Year-End_Hot_100_singles_of_1970')\n",
    "webpg.status_code\n",
    "c = webpg.content\n",
    "soup = BeautifulSoup(c,\"lxml\")\n",
    "tables = soup.find_all('table',{'class':'wikitable'})\n",
    "songs = []\n",
    "ctr=0\n",
    "for row in tables[0].find_all('tr'):\n",
    "    if ctr != 0:\n",
    "        cols = row.find_all('td')\n",
    "        \n",
    "        links = cols[2].find('a')\n",
    "        if links != None:\n",
    "            link = links.get('href')\n",
    "        dct = {'band_singer':cols[2].text,'ranking' : int(cols[0].text) , 'title': cols[1].getText(),'url' : str(link)}\n",
    "        songs.append(dct)\n",
    "    ctr+=1\n",
    "    \n",
    "    \n",
    "print(songs[2:4])"
   ]
  },
  {
   "cell_type": "markdown",
   "metadata": {},
   "source": [
    "\n",
    "<font color='green'>In this section we parse through the 1970 singles, look for the wikitable, iterate through rows and then columns and find all the links of the artists. As you can see - our printed statement generates the expected result </font> "
   ]
  },
  {
   "cell_type": "markdown",
   "metadata": {
    "scrolled": true
   },
   "source": [
    "You should get something similar to this (where songs is the aforementioned list):\n",
    "\n",
    "```\n",
    "songs[2:4]\n",
    "```\n",
    "\n",
    "```\n",
    "[{'band_singer': 'The Guess Who',\n",
    "  'ranking': 3,\n",
    "  'title': '\"American Woman\"',\n",
    "  'url': '/wiki/The_Guess_Who'},\n",
    " {'band_singer': 'B.J. Thomas',\n",
    "  'ranking': 4,\n",
    "  'title': '\"Raindrops Keep Fallin\\' on My Head\"',\n",
    "  'url': '/wiki/B.J._Thomas'}]\n",
    "```"
   ]
  },
  {
   "cell_type": "markdown",
   "metadata": {},
   "source": [
    "#### 1.2 Generalize the previous: scrape Wikipedia from 1992 to 2014"
   ]
  },
  {
   "cell_type": "markdown",
   "metadata": {},
   "source": [
    "By visiting the urls similar to the ones for 1970, we can obtain the billboard top 100 for the years 1992 to 2014. (We choose these later years rather than 1970 as you might find music from this era more interesting.) Download these using Python's `requests` module and store the text from those requests in a dictionary called `yearstext`. This dictionary ought to have as its keys the years (as integers from 1992 to 2014), and as values corresponding to these keys the text of the page being fetched.\n",
    "\n",
    "You ought to sleep a second (look up `time.sleep` in Python) at the very least in-between fetching each web page: you do not want Wikipedia to think you are a marauding bot attempting to mount a denial-of-service attack."
   ]
  },
  {
   "cell_type": "markdown",
   "metadata": {},
   "source": [
    "*HINT: you might find `range` and string-interpolation useful to construct the URLs *.\n"
   ]
  },
  {
   "cell_type": "code",
   "execution_count": 4,
   "metadata": {
    "collapsed": true
   },
   "outputs": [],
   "source": [
    "yearstext = {}\n",
    "for years in range(1992,2015):\n",
    "    url = 'http://en.wikipedia.org/wiki/Billboard_Year-End_Hot_100_singles_of_' + str(years)\n",
    "    webpg = requests.get(url)\n",
    "    c = webpg.content\n",
    "    yearstext[years] = c\n",
    "    time.sleep(0.1)"
   ]
  },
  {
   "cell_type": "markdown",
   "metadata": {},
   "source": [
    "<font color='green'> In this section we simply iterate over the years from 1992 to 2014 and pick up the contents of each webpage and store them in a dictionary</font> "
   ]
  },
  {
   "cell_type": "markdown",
   "metadata": {},
   "source": [
    "#### 1.3 Parse and Clean data "
   ]
  },
  {
   "cell_type": "markdown",
   "metadata": {},
   "source": [
    "Remember the code you wrote to get data from 1970 which produces a list of dictionaries, one corresponding to each single.  Now write a function `parse_year(the_year, yeartext_dict)` which takes the year, prints it out, gets the text for the year from the just created `yearstext` dictionary, and return a list of dictionaries for that year, with one dictionary for each single. Store this list in the variable `yearinfo`.\n",
    "\n",
    "The dictionaries **must** be of this form:\n",
    "\n",
    "```\n",
    "{'band_singer': ['Brandy', 'Monica'],\n",
    "  'ranking': 2,\n",
    "  'song': ['The Boy Is Mine'],\n",
    "  'songurl': ['/wiki/The_Boy_Is_Mine_(song)'],\n",
    "  'titletext': '\" The Boy Is Mine \"',\n",
    "  'url': ['/wiki/Brandy_Norwood', '/wiki/Monica_(entertainer)']}\n",
    "```"
   ]
  },
  {
   "cell_type": "markdown",
   "metadata": {},
   "source": [
    "The spec of this function is provided below:"
   ]
  },
  {
   "cell_type": "code",
   "execution_count": 41,
   "metadata": {
    "collapsed": true
   },
   "outputs": [],
   "source": [
    "\"\"\"\n",
    "Function\n",
    "--------\n",
    "parse_year\n",
    "\n",
    "Inputs\n",
    "------\n",
    "the_year: the year you want the singles for\n",
    "yeartext_dict: a dictionary with keys as integer years and values the downloaded web pages \n",
    "    from wikipedia for that year.\n",
    "   \n",
    "Returns\n",
    "-------\n",
    "\n",
    "a list of dictionaries, each of which corresponds to a single and has the\n",
    "following data:\n",
    "\n",
    "Eg:\n",
    "\n",
    "{'band_singer': ['Brandy', 'Monica'],\n",
    "  'ranking': 2,\n",
    "  'song': ['The Boy Is Mine'],\n",
    "  'songurl': ['/wiki/The_Boy_Is_Mine_(song)'],\n",
    "  'titletext': '\" The Boy Is Mine \"',\n",
    "  'url': ['/wiki/Brandy_Norwood', '/wiki/Monica_(entertainer)']}\n",
    "  \n",
    "A dictionary with the following data:\n",
    "    band_singer: a list of bands/singers who made this single\n",
    "    song: a list of the titles of songs on this single\n",
    "    songurl: a list of the same size as song which has urls for the songs on the single \n",
    "        (see point 3 above)\n",
    "    ranking: ranking of the single\n",
    "    titletext: the contents of the table cell\n",
    "    band_singer: a list of bands or singers on this single\n",
    "    url: a list of wikipedia singer/band urls on this single: only put in the part \n",
    "        of the url from /wiki onwards\n",
    "    \n",
    "\n",
    "Notes\n",
    "-----\n",
    "See description and example above.\n",
    "\"\"\"\n",
    "\n",
    "\n",
    "def parse_year(year,yearstext):\n",
    "    \n",
    "    yearinfo =[]\n",
    "    c = yearstext[year]\n",
    "    soup = BeautifulSoup(c,\"lxml\")\n",
    "    tables = soup.find_all('table',{'class':'wikitable'})\n",
    "    \n",
    "    ctr=0\n",
    "    for row in tables[0].find_all('tr'):\n",
    "        stitle = []\n",
    "        songurl = []\n",
    "        singer = []\n",
    "        singerurl = []\n",
    "        if ctr != 0:  \n",
    "            cols = row.find_all('td')\n",
    "            if len(cols) == 3:\n",
    "                rank = cols[0]\n",
    "                sl = cols[2]\n",
    "                so = cols[1]\n",
    "            else:\n",
    "                rank = row.find_all('th')[0]\n",
    "                sl = cols[1]\n",
    "                so = cols[0]\n",
    "            titletext = so.text\n",
    "            slinks = sl.find_all('a')\n",
    "            songs = so.find_all('a')\n",
    "            if slinks != []:\n",
    "                for slink in slinks:\n",
    "                    singer.append(slink.text)\n",
    "                    singerurl.append(slink.get('href'))\n",
    "            else:\n",
    "                singer.append(sl.text)\n",
    "                singerurl.append(None)\n",
    "            import re\n",
    "            if songs != []:  \n",
    "                for song in songs:\n",
    "                    stitle.append(song.text)\n",
    "                    songurl.append(song.get('href'))\n",
    "            else:\n",
    "                stitle.append(so.getText().strip('\"'))\n",
    "                songurl.append(None)\n",
    "            dct = {'band_singer':singer,'ranking' : int(rank.text) , 'song': stitle,'songurl' : songurl, 'titletext':titletext,'url':singerurl}\n",
    "            yearinfo.append(dct)\n",
    "        ctr+=1\n",
    "\n",
    "    return(yearinfo)"
   ]
  },
  {
   "cell_type": "code",
   "execution_count": 42,
   "metadata": {
    "collapsed": false
   },
   "outputs": [
    {
     "data": {
      "text/plain": [
       "{'band_singer': ['SWV', 'Puff Daddy'],\n",
       " 'ranking': 88,\n",
       " 'song': ['Someone'],\n",
       " 'songurl': [None],\n",
       " 'titletext': '\"Someone\"',\n",
       " 'url': ['/wiki/SWV', '/wiki/Sean_Combs']}"
      ]
     },
     "execution_count": 42,
     "metadata": {},
     "output_type": "execute_result"
    }
   ],
   "source": [
    "# Test Conditions listed below edge case 4\n",
    "aa = parse_year(1997, yearstext)\n",
    "aa[87]"
   ]
  },
  {
   "cell_type": "markdown",
   "metadata": {},
   "source": [
    "<font color='green'>In the printed statement above I show how I dealt with the 4th edge case. The songurl yields none and the song title is stripped of its quotes</font> "
   ]
  },
  {
   "cell_type": "code",
   "execution_count": 43,
   "metadata": {
    "collapsed": false
   },
   "outputs": [
    {
     "data": {
      "text/plain": [
       "[{'band_singer': ['Elton John'],\n",
       "  'ranking': 1,\n",
       "  'song': ['Something About the Way You Look Tonight',\n",
       "   'Candle in the Wind 1997'],\n",
       "  'songurl': ['/wiki/Something_About_the_Way_You_Look_Tonight',\n",
       "   '/wiki/Candle_in_the_Wind_1997'],\n",
       "  'titletext': '\"Something About the Way You Look Tonight\" / \"Candle in the Wind 1997\"',\n",
       "  'url': ['/wiki/Elton_John']},\n",
       " {'band_singer': ['Jewel'],\n",
       "  'ranking': 2,\n",
       "  'song': ['Foolish Games', 'You Were Meant for Me'],\n",
       "  'songurl': ['/wiki/Foolish_Games',\n",
       "   '/wiki/You_Were_Meant_for_Me_(Jewel_song)'],\n",
       "  'titletext': '\"Foolish Games\" / \"You Were Meant for Me\"',\n",
       "  'url': ['/wiki/Jewel_(singer)']},\n",
       " {'band_singer': ['Puff Daddy', 'Faith Evans', '112'],\n",
       "  'ranking': 3,\n",
       "  'song': [\"I'll Be Missing You\"],\n",
       "  'songurl': ['/wiki/I%27ll_Be_Missing_You'],\n",
       "  'titletext': '\"I\\'ll Be Missing You\"',\n",
       "  'url': ['/wiki/Sean_Combs', '/wiki/Faith_Evans', '/wiki/112_(band)']},\n",
       " {'band_singer': ['Toni Braxton'],\n",
       "  'ranking': 4,\n",
       "  'song': ['Un-Break My Heart'],\n",
       "  'songurl': ['/wiki/Un-Break_My_Heart'],\n",
       "  'titletext': '\"Un-Break My Heart\"',\n",
       "  'url': ['/wiki/Toni_Braxton']},\n",
       " {'band_singer': ['Puff Daddy', 'Mase'],\n",
       "  'ranking': 5,\n",
       "  'song': [\"Can't Nobody Hold Me Down\"],\n",
       "  'songurl': ['/wiki/Can%27t_Nobody_Hold_Me_Down'],\n",
       "  'titletext': '\"Can\\'t Nobody Hold Me Down\"',\n",
       "  'url': ['/wiki/Sean_Combs', '/wiki/Mase']}]"
      ]
     },
     "execution_count": 43,
     "metadata": {},
     "output_type": "execute_result"
    }
   ],
   "source": [
    "# Test Conditions listed below edge case 1-3 as given\n",
    "aa[:5]"
   ]
  },
  {
   "cell_type": "markdown",
   "metadata": {},
   "source": [
    "<font color = 'green'> In the printed statement above I show that I obtain the same results as listed below. Given this I am confident I have met edge cases 1 through 3 and as previously mentioned, I obtained edge case 4"
   ]
  },
  {
   "cell_type": "markdown",
   "metadata": {},
   "source": [
    "#### Helpful notes\n",
    "\n",
    "Notice that some singles might have multiple songs:\n",
    "\n",
    "```\n",
    "{'band_singer': ['Jewel'],\n",
    "  'ranking': 2,\n",
    "  'song': ['Foolish Games', 'You Were Meant for Me'],\n",
    "  'songurl': ['/wiki/Foolish_Games',\n",
    "   '/wiki/You_Were_Meant_for_Me_(Jewel_song)'],\n",
    "  'titletext': '\" Foolish Games \" / \" You Were Meant for Me \"',\n",
    "  'url': ['/wiki/Jewel_(singer)']}\n",
    "```"
   ]
  },
  {
   "cell_type": "markdown",
   "metadata": {},
   "source": [
    "And some singles don't have a song URL:\n",
    "\n",
    "```\n",
    "{'band_singer': [u'Nu Flavor'],\n",
    "  'ranking': 91,\n",
    "  'song': [u'Heaven'],\n",
    "  'songurl': [None],\n",
    "  'titletext': u'\"Heaven\"',\n",
    "  'url': [u'/wiki/Nu_Flavor']}\n",
    "```"
   ]
  },
  {
   "cell_type": "markdown",
   "metadata": {},
   "source": [
    "Thus there are some issues this function must handle:\n",
    "\n",
    "1. There can be more than one  `band_singer` as can be seen above (sometimes with a comma, sometimes with \"featuring\" in between). The best way to parse these is to look for the urls.\n",
    "2. There can be two songs in a single, because of the way the industry works: there are two-sided singles. See https://en.wikipedia.org/wiki/Billboard_Year-End_Hot_100_singles_of_1997 for an example. You can find other examples in 1998 and 1999.\n",
    "3. The `titletext` is the contents of the table cell, and retains the quotes that Wikipedia puts on the single.\n",
    "4. If no song anchor is found (see the 24th song in the above url), assume there is one song in the single, set `songurl` to [`None`] and the song name to the contents of the table cell with the quotes stripped (ie `song` is a one-element list with this the `titletext` stripped of its quotes)."
   ]
  },
  {
   "cell_type": "markdown",
   "metadata": {},
   "source": [
    "As a check, we can do this for 1997. We'll print the first 5 outputs: `parse_year(1997, yearstext)[:5]`"
   ]
  },
  {
   "cell_type": "markdown",
   "metadata": {},
   "source": [
    "This should give the following. Notice that the year 1997 exercises the edge cases we talked about earlier."
   ]
  },
  {
   "cell_type": "markdown",
   "metadata": {},
   "source": [
    "```\n",
    "[{'band_singer': ['Elton John'],\n",
    "  'ranking': 1,\n",
    "  'song': ['Something About the Way You Look Tonight',\n",
    "   'Candle in the Wind 1997'],\n",
    "  'songurl': ['/wiki/Something_About_the_Way_You_Look_Tonight',\n",
    "   '/wiki/Candle_in_the_Wind_1997'],\n",
    "  'titletext': '\" Something About the Way You Look Tonight \" / \" Candle in the Wind 1997 \"',\n",
    "  'url': ['/wiki/Elton_John']},\n",
    " {'band_singer': ['Jewel'],\n",
    "  'ranking': 2,\n",
    "  'song': ['Foolish Games', 'You Were Meant for Me'],\n",
    "  'songurl': ['/wiki/Foolish_Games',\n",
    "   '/wiki/You_Were_Meant_for_Me_(Jewel_song)'],\n",
    "  'titletext': '\" Foolish Games \" / \" You Were Meant for Me \"',\n",
    "  'url': ['/wiki/Jewel_(singer)']},\n",
    " {'band_singer': ['Puff Daddy', 'Faith Evans', '112'],\n",
    "  'ranking': 3,\n",
    "  'song': [\"I'll Be Missing You\"],\n",
    "  'songurl': ['/wiki/I%27ll_Be_Missing_You'],\n",
    "  'titletext': '\" I\\'ll Be Missing You \"',\n",
    "  'url': ['/wiki/Sean_Combs', '/wiki/Faith_Evans', '/wiki/112_(band)']},\n",
    " {'band_singer': ['Toni Braxton'],\n",
    "  'ranking': 4,\n",
    "  'song': ['Un-Break My Heart'],\n",
    "  'songurl': ['/wiki/Un-Break_My_Heart'],\n",
    "  'titletext': '\" Un-Break My Heart \"',\n",
    "  'url': ['/wiki/Toni_Braxton']},\n",
    " {'band_singer': ['Puff Daddy', 'Mase'],\n",
    "  'ranking': 5,\n",
    "  'song': [\"Can't Nobody Hold Me Down\"],\n",
    "  'songurl': ['/wiki/Can%27t_Nobody_Hold_Me_Down'],\n",
    "  'titletext': '\" Can\\'t Nobody Hold Me Down \"',\n",
    "  'url': ['/wiki/Sean_Combs', '/wiki/Mase']}]\n",
    "```"
   ]
  },
  {
   "cell_type": "markdown",
   "metadata": {},
   "source": [
    "#### Save a json file of information from the scraped files"
   ]
  },
  {
   "cell_type": "markdown",
   "metadata": {},
   "source": [
    "We do not want to lose all this work, so let's save the last data structure we created to disk. That way if you need to re-run from here, you don't need to redo all these requests and parsing. \n",
    "\n",
    "DO NOT RERUN THE HTTP REQUESTS TO WIKIPEDIA WHEN SUBMITTING.\n",
    "\n",
    "*We **DO NOT** need to see these JSON files in your submission!*"
   ]
  },
  {
   "cell_type": "code",
   "execution_count": 44,
   "metadata": {
    "collapsed": true
   },
   "outputs": [],
   "source": [
    "yearinf ={}\n",
    "for year in range(1992,2015):\n",
    "    yearinf[year] =parse_year(year,yearstext)\n",
    "    \n",
    "yearinfo = yearinf"
   ]
  },
  {
   "cell_type": "code",
   "execution_count": 2,
   "metadata": {
    "collapsed": true
   },
   "outputs": [],
   "source": [
    "import json"
   ]
  },
  {
   "cell_type": "code",
   "execution_count": 46,
   "metadata": {
    "collapsed": true,
    "scrolled": false
   },
   "outputs": [],
   "source": [
    "# DO NOT RERUN THIS CELL WHEN SUBMITTING\n",
    "fd = open(\"data/yearinfo.json\",\"w\")\n",
    "json.dump(yearinfo, fd)\n",
    "fd.close()\n",
    "del yearinfo"
   ]
  },
  {
   "cell_type": "markdown",
   "metadata": {},
   "source": [
    "Now let's reload our JSON file into the yearinfo variable, just to be sure everything is working."
   ]
  },
  {
   "cell_type": "code",
   "execution_count": 3,
   "metadata": {
    "collapsed": true,
    "scrolled": true
   },
   "outputs": [],
   "source": [
    "# RERUN WHEN SUBMITTING\n",
    "# Another way to deal with files. Has the advantage of closing the file for you.\n",
    "with open(\"data/yearinfo.json\", \"r\") as fd:\n",
    "    yearinfo = json.load(fd)"
   ]
  },
  {
   "cell_type": "markdown",
   "metadata": {},
   "source": [
    "#### 1.4 Construct a year-song-singer dataframe from the yearly information"
   ]
  },
  {
   "cell_type": "markdown",
   "metadata": {},
   "source": [
    "Let's construct a dataframe `flatframe` from the `yearinfo`. The frame should be similar to the frame below.  Each row of the frame represents a song, and carries with it the chief properties of year, song, singer, and ranking.\n",
    "\n",
    "![](https://raw.githubusercontent.com/cs109/a-2017/master/hwassets/images/HW1SC1.png)"
   ]
  },
  {
   "cell_type": "markdown",
   "metadata": {},
   "source": [
    "To construct the dataframe, we'll need to iterate over the years and the singles per year. Notice how, above, the dataframe is ordered by ranking and then year. While the exact order is up to you, note that you will have to come up with a scheme to order the information.\n",
    "\n",
    "Check that the dataframe has sensible data types. You will also likely find that the year field has become an \"object\" (Pandas treats strings as generic objects): this is due to the conversion to and back from JSON. Such conversions need special care. Fix any data type issues with `flatframe`. (See Pandas [astype](http://pandas.pydata.org/pandas-docs/stable/generated/pandas.DataFrame.astype.html) function.) \n",
    "We will use this `flatframe` in the next question. \n",
    "\n",
    "(As an aside, we used the name `flatframe` to indicate that this dataframe is flattened from a hierarchical dictionary structure with the keys being the years.)"
   ]
  },
  {
   "cell_type": "markdown",
   "metadata": {},
   "source": [
    "<font color = green > In the code below we iterate over the band singers in any given row in each year and create a new row for the singer and the first song"
   ]
  },
  {
   "cell_type": "code",
   "execution_count": 99,
   "metadata": {
    "collapsed": false
   },
   "outputs": [
    {
     "data": {
      "text/html": [
       "<div>\n",
       "<table border=\"1\" class=\"dataframe\">\n",
       "  <thead>\n",
       "    <tr style=\"text-align: right;\">\n",
       "      <th></th>\n",
       "      <th>year</th>\n",
       "      <th>band_singer</th>\n",
       "      <th>ranking</th>\n",
       "      <th>song</th>\n",
       "      <th>songurl</th>\n",
       "      <th>url</th>\n",
       "    </tr>\n",
       "  </thead>\n",
       "  <tbody>\n",
       "  </tbody>\n",
       "</table>\n",
       "</div>"
      ],
      "text/plain": [
       "Empty DataFrame\n",
       "Columns: [year, band_singer, ranking, song, songurl, url]\n",
       "Index: []"
      ]
     },
     "execution_count": 99,
     "metadata": {},
     "output_type": "execute_result"
    }
   ],
   "source": [
    "# Code that converts json to dataframe\n",
    "df = pd.DataFrame(columns = {'year','band_singer','ranking','song','songurl','url'})\n",
    "df = df[['year','band_singer','ranking','song','songurl','url']]\n",
    "df\n"
   ]
  },
  {
   "cell_type": "code",
   "execution_count": 100,
   "metadata": {
    "collapsed": false
   },
   "outputs": [
    {
     "name": "stdout",
     "output_type": "stream",
     "text": [
      "Boyz II Men <class 'list'>\n"
     ]
    }
   ],
   "source": [
    "cc = 0\n",
    "for j in range(1992,2015):\n",
    "    rows = yearinfo[str(j)]\n",
    "    for row in rows:\n",
    "        if cc == 0:\n",
    "            print((row['band_singer'][0]),type(row['band_singer']))\n",
    "            cc = 1\n",
    "        for k in range(len(row['band_singer'])):\n",
    "            for l in range(len(row['song'])):\n",
    "                df.loc[len(df)] = [j,row['band_singer'][k],row['ranking'],row['song'][l],row['songurl'][l],row['url'][k]]    "
   ]
  },
  {
   "cell_type": "code",
   "execution_count": 101,
   "metadata": {
    "collapsed": true
   },
   "outputs": [],
   "source": [
    "df['year'] = df.year.astype(int)\n",
    "# df['song'] = df['song'].str.get(0)\n",
    "# df['songurl'] = df['songurl'].str.get(0)\n",
    "\n"
   ]
  },
  {
   "cell_type": "code",
   "execution_count": 102,
   "metadata": {
    "collapsed": false
   },
   "outputs": [
    {
     "name": "stderr",
     "output_type": "stream",
     "text": [
      "C:\\Users\\Shaan Desai\\Anaconda3\\lib\\site-packages\\ipykernel\\__main__.py:1: FutureWarning: sort(columns=....) is deprecated, use sort_values(by=.....)\n",
      "  if __name__ == '__main__':\n"
     ]
    },
    {
     "data": {
      "text/html": [
       "<div>\n",
       "<table border=\"1\" class=\"dataframe\">\n",
       "  <thead>\n",
       "    <tr style=\"text-align: right;\">\n",
       "      <th></th>\n",
       "      <th>year</th>\n",
       "      <th>band_singer</th>\n",
       "      <th>ranking</th>\n",
       "      <th>song</th>\n",
       "      <th>songurl</th>\n",
       "      <th>url</th>\n",
       "    </tr>\n",
       "  </thead>\n",
       "  <tbody>\n",
       "    <tr>\n",
       "      <th>2852</th>\n",
       "      <td>2014</td>\n",
       "      <td>Pharrell Williams</td>\n",
       "      <td>1.0</td>\n",
       "      <td>Happy</td>\n",
       "      <td>/wiki/Happy_(Pharrell_Williams_song)</td>\n",
       "      <td>/wiki/Pharrell_Williams</td>\n",
       "    </tr>\n",
       "    <tr>\n",
       "      <th>2709</th>\n",
       "      <td>2013</td>\n",
       "      <td>Macklemore</td>\n",
       "      <td>1.0</td>\n",
       "      <td>Thrift Shop</td>\n",
       "      <td>/wiki/Thrift_Shop</td>\n",
       "      <td>/wiki/Macklemore</td>\n",
       "    </tr>\n",
       "    <tr>\n",
       "      <th>2710</th>\n",
       "      <td>2013</td>\n",
       "      <td>Ryan Lewis</td>\n",
       "      <td>1.0</td>\n",
       "      <td>Thrift Shop</td>\n",
       "      <td>/wiki/Thrift_Shop</td>\n",
       "      <td>/wiki/Ryan_Lewis</td>\n",
       "    </tr>\n",
       "    <tr>\n",
       "      <th>2711</th>\n",
       "      <td>2013</td>\n",
       "      <td>Wanz</td>\n",
       "      <td>1.0</td>\n",
       "      <td>Thrift Shop</td>\n",
       "      <td>/wiki/Thrift_Shop</td>\n",
       "      <td>/wiki/Wanz</td>\n",
       "    </tr>\n",
       "    <tr>\n",
       "      <th>2578</th>\n",
       "      <td>2012</td>\n",
       "      <td>Gotye</td>\n",
       "      <td>1.0</td>\n",
       "      <td>Somebody That I Used to Know</td>\n",
       "      <td>/wiki/Somebody_That_I_Used_to_Know</td>\n",
       "      <td>/wiki/Gotye</td>\n",
       "    </tr>\n",
       "    <tr>\n",
       "      <th>2579</th>\n",
       "      <td>2012</td>\n",
       "      <td>Kimbra</td>\n",
       "      <td>1.0</td>\n",
       "      <td>Somebody That I Used to Know</td>\n",
       "      <td>/wiki/Somebody_That_I_Used_to_Know</td>\n",
       "      <td>/wiki/Kimbra</td>\n",
       "    </tr>\n",
       "    <tr>\n",
       "      <th>2428</th>\n",
       "      <td>2011</td>\n",
       "      <td>Adele</td>\n",
       "      <td>1.0</td>\n",
       "      <td>Rolling in the Deep</td>\n",
       "      <td>/wiki/Rolling_in_the_Deep</td>\n",
       "      <td>/wiki/Adele</td>\n",
       "    </tr>\n",
       "    <tr>\n",
       "      <th>2281</th>\n",
       "      <td>2010</td>\n",
       "      <td>Kesha</td>\n",
       "      <td>1.0</td>\n",
       "      <td>Tik Tok</td>\n",
       "      <td>/wiki/Tik_Tok</td>\n",
       "      <td>/wiki/Kesha</td>\n",
       "    </tr>\n",
       "    <tr>\n",
       "      <th>2151</th>\n",
       "      <td>2009</td>\n",
       "      <td>The Black Eyed Peas</td>\n",
       "      <td>1.0</td>\n",
       "      <td>Boom Boom Pow</td>\n",
       "      <td>/wiki/Boom_Boom_Pow</td>\n",
       "      <td>/wiki/The_Black_Eyed_Peas</td>\n",
       "    </tr>\n",
       "    <tr>\n",
       "      <th>2012</th>\n",
       "      <td>2008</td>\n",
       "      <td>Flo Rida</td>\n",
       "      <td>1.0</td>\n",
       "      <td>Low</td>\n",
       "      <td>/wiki/Low_(Flo_Rida_song)</td>\n",
       "      <td>/wiki/Flo_Rida</td>\n",
       "    </tr>\n",
       "    <tr>\n",
       "      <th>2013</th>\n",
       "      <td>2008</td>\n",
       "      <td>T-Pain</td>\n",
       "      <td>1.0</td>\n",
       "      <td>Low</td>\n",
       "      <td>/wiki/Low_(Flo_Rida_song)</td>\n",
       "      <td>/wiki/T-Pain</td>\n",
       "    </tr>\n",
       "    <tr>\n",
       "      <th>1868</th>\n",
       "      <td>2007</td>\n",
       "      <td>Beyoncé</td>\n",
       "      <td>1.0</td>\n",
       "      <td>Irreplaceable</td>\n",
       "      <td>/wiki/Irreplaceable</td>\n",
       "      <td>/wiki/Beyonc%C3%A9</td>\n",
       "    </tr>\n",
       "    <tr>\n",
       "      <th>1726</th>\n",
       "      <td>2006</td>\n",
       "      <td>Daniel Powter</td>\n",
       "      <td>1.0</td>\n",
       "      <td>Bad Day</td>\n",
       "      <td>/wiki/Bad_Day_(Daniel_Powter_song)</td>\n",
       "      <td>/wiki/Daniel_Powter</td>\n",
       "    </tr>\n",
       "    <tr>\n",
       "      <th>1586</th>\n",
       "      <td>2005</td>\n",
       "      <td>Mariah Carey</td>\n",
       "      <td>1.0</td>\n",
       "      <td>We Belong Together</td>\n",
       "      <td>/wiki/We_Belong_Together_(Mariah_Carey_song)</td>\n",
       "      <td>/wiki/Mariah_Carey</td>\n",
       "    </tr>\n",
       "    <tr>\n",
       "      <th>1450</th>\n",
       "      <td>2004</td>\n",
       "      <td>Usher</td>\n",
       "      <td>1.0</td>\n",
       "      <td>Yeah!</td>\n",
       "      <td>/wiki/Yeah!_(Usher_song)</td>\n",
       "      <td>/wiki/Usher_(entertainer)</td>\n",
       "    </tr>\n",
       "    <tr>\n",
       "      <th>1451</th>\n",
       "      <td>2004</td>\n",
       "      <td>Lil Jon</td>\n",
       "      <td>1.0</td>\n",
       "      <td>Yeah!</td>\n",
       "      <td>/wiki/Yeah!_(Usher_song)</td>\n",
       "      <td>/wiki/Lil_Jon</td>\n",
       "    </tr>\n",
       "    <tr>\n",
       "      <th>1452</th>\n",
       "      <td>2004</td>\n",
       "      <td>Ludacris</td>\n",
       "      <td>1.0</td>\n",
       "      <td>Yeah!</td>\n",
       "      <td>/wiki/Yeah!_(Usher_song)</td>\n",
       "      <td>/wiki/Ludacris</td>\n",
       "    </tr>\n",
       "    <tr>\n",
       "      <th>1309</th>\n",
       "      <td>2003</td>\n",
       "      <td>50 Cent</td>\n",
       "      <td>1.0</td>\n",
       "      <td>In da Club</td>\n",
       "      <td>/wiki/In_da_Club</td>\n",
       "      <td>/wiki/50_Cent</td>\n",
       "    </tr>\n",
       "    <tr>\n",
       "      <th>1173</th>\n",
       "      <td>2002</td>\n",
       "      <td>Nickelback</td>\n",
       "      <td>1.0</td>\n",
       "      <td>How You Remind Me</td>\n",
       "      <td>/wiki/How_You_Remind_Me</td>\n",
       "      <td>/wiki/Nickelback</td>\n",
       "    </tr>\n",
       "    <tr>\n",
       "      <th>1050</th>\n",
       "      <td>2001</td>\n",
       "      <td>Lifehouse</td>\n",
       "      <td>1.0</td>\n",
       "      <td>Hanging by a Moment</td>\n",
       "      <td>/wiki/Hanging_by_a_Moment</td>\n",
       "      <td>/wiki/Lifehouse_(band)</td>\n",
       "    </tr>\n",
       "    <tr>\n",
       "      <th>936</th>\n",
       "      <td>2000</td>\n",
       "      <td>Faith Hill</td>\n",
       "      <td>1.0</td>\n",
       "      <td>Breathe</td>\n",
       "      <td>/wiki/Breathe_(Faith_Hill_song)</td>\n",
       "      <td>/wiki/Faith_Hill</td>\n",
       "    </tr>\n",
       "    <tr>\n",
       "      <th>810</th>\n",
       "      <td>1999</td>\n",
       "      <td>Cher</td>\n",
       "      <td>1.0</td>\n",
       "      <td>Believe</td>\n",
       "      <td>/wiki/Believe_(Cher_song)</td>\n",
       "      <td>/wiki/Cher</td>\n",
       "    </tr>\n",
       "    <tr>\n",
       "      <th>677</th>\n",
       "      <td>1998</td>\n",
       "      <td>Next</td>\n",
       "      <td>1.0</td>\n",
       "      <td>Too Close</td>\n",
       "      <td>/wiki/Too_Close_(Next_song)</td>\n",
       "      <td>/wiki/Next_(group)</td>\n",
       "    </tr>\n",
       "    <tr>\n",
       "      <th>549</th>\n",
       "      <td>1997</td>\n",
       "      <td>Elton John</td>\n",
       "      <td>1.0</td>\n",
       "      <td>Something About the Way You Look Tonight</td>\n",
       "      <td>/wiki/Something_About_the_Way_You_Look_Tonight</td>\n",
       "      <td>/wiki/Elton_John</td>\n",
       "    </tr>\n",
       "    <tr>\n",
       "      <th>550</th>\n",
       "      <td>1997</td>\n",
       "      <td>Elton John</td>\n",
       "      <td>1.0</td>\n",
       "      <td>Candle in the Wind 1997</td>\n",
       "      <td>/wiki/Candle_in_the_Wind_1997</td>\n",
       "      <td>/wiki/Elton_John</td>\n",
       "    </tr>\n",
       "    <tr>\n",
       "      <th>427</th>\n",
       "      <td>1996</td>\n",
       "      <td>Los del Río</td>\n",
       "      <td>1.0</td>\n",
       "      <td>Macarena</td>\n",
       "      <td>/wiki/Macarena_(song)</td>\n",
       "      <td>/wiki/Los_del_R%C3%ADo</td>\n",
       "    </tr>\n",
       "    <tr>\n",
       "      <th>319</th>\n",
       "      <td>1995</td>\n",
       "      <td>Coolio</td>\n",
       "      <td>1.0</td>\n",
       "      <td>Gangsta's Paradise</td>\n",
       "      <td>/wiki/Gangsta%27s_Paradise</td>\n",
       "      <td>/wiki/Coolio</td>\n",
       "    </tr>\n",
       "    <tr>\n",
       "      <th>320</th>\n",
       "      <td>1995</td>\n",
       "      <td>L.V.</td>\n",
       "      <td>1.0</td>\n",
       "      <td>Gangsta's Paradise</td>\n",
       "      <td>/wiki/Gangsta%27s_Paradise</td>\n",
       "      <td>/wiki/L.V._(singer)</td>\n",
       "    </tr>\n",
       "    <tr>\n",
       "      <th>211</th>\n",
       "      <td>1994</td>\n",
       "      <td>Ace of Base</td>\n",
       "      <td>1.0</td>\n",
       "      <td>The Sign</td>\n",
       "      <td>/wiki/The_Sign_(song)</td>\n",
       "      <td>/wiki/Ace_of_Base</td>\n",
       "    </tr>\n",
       "    <tr>\n",
       "      <th>106</th>\n",
       "      <td>1993</td>\n",
       "      <td>Whitney Houston</td>\n",
       "      <td>1.0</td>\n",
       "      <td>I Will Always Love You</td>\n",
       "      <td>/wiki/I_Will_Always_Love_You#Whitney_Houston_v...</td>\n",
       "      <td>/wiki/Whitney_Houston</td>\n",
       "    </tr>\n",
       "    <tr>\n",
       "      <th>...</th>\n",
       "      <td>...</td>\n",
       "      <td>...</td>\n",
       "      <td>...</td>\n",
       "      <td>...</td>\n",
       "      <td>...</td>\n",
       "      <td>...</td>\n",
       "    </tr>\n",
       "    <tr>\n",
       "      <th>104</th>\n",
       "      <td>1992</td>\n",
       "      <td>Das EFX</td>\n",
       "      <td>99.0</td>\n",
       "      <td>They Want EFX</td>\n",
       "      <td>/wiki/They_Want_EFX</td>\n",
       "      <td>/wiki/Das_EFX</td>\n",
       "    </tr>\n",
       "    <tr>\n",
       "      <th>3000</th>\n",
       "      <td>2014</td>\n",
       "      <td>Miley Cyrus</td>\n",
       "      <td>100.0</td>\n",
       "      <td>Adore You</td>\n",
       "      <td>/wiki/Adore_You</td>\n",
       "      <td>/wiki/Miley_Cyrus</td>\n",
       "    </tr>\n",
       "    <tr>\n",
       "      <th>2851</th>\n",
       "      <td>2013</td>\n",
       "      <td>Paramore</td>\n",
       "      <td>100.0</td>\n",
       "      <td>Still Into You</td>\n",
       "      <td>/wiki/Still_Into_You</td>\n",
       "      <td>/wiki/Paramore</td>\n",
       "    </tr>\n",
       "    <tr>\n",
       "      <th>2708</th>\n",
       "      <td>2012</td>\n",
       "      <td>Linkin Park</td>\n",
       "      <td>100.0</td>\n",
       "      <td>Burn It Down</td>\n",
       "      <td>/wiki/Burn_It_Down_(Linkin_Park_song)</td>\n",
       "      <td>/wiki/Linkin_Park</td>\n",
       "    </tr>\n",
       "    <tr>\n",
       "      <th>2576</th>\n",
       "      <td>2011</td>\n",
       "      <td>Big Sean</td>\n",
       "      <td>100.0</td>\n",
       "      <td>My Last</td>\n",
       "      <td>/wiki/My_Last</td>\n",
       "      <td>/wiki/Big_Sean</td>\n",
       "    </tr>\n",
       "    <tr>\n",
       "      <th>2577</th>\n",
       "      <td>2011</td>\n",
       "      <td>Chris Brown</td>\n",
       "      <td>100.0</td>\n",
       "      <td>My Last</td>\n",
       "      <td>/wiki/My_Last</td>\n",
       "      <td>/wiki/Chris_Brown</td>\n",
       "    </tr>\n",
       "    <tr>\n",
       "      <th>2427</th>\n",
       "      <td>2010</td>\n",
       "      <td>Jerrod Niemann</td>\n",
       "      <td>100.0</td>\n",
       "      <td>Lover, Lover</td>\n",
       "      <td>/wiki/Lover,_Lover</td>\n",
       "      <td>/wiki/Jerrod_Niemann</td>\n",
       "    </tr>\n",
       "    <tr>\n",
       "      <th>2280</th>\n",
       "      <td>2009</td>\n",
       "      <td>The Fray</td>\n",
       "      <td>100.0</td>\n",
       "      <td>Never Say Never</td>\n",
       "      <td>/wiki/Never_Say_Never_(The_Fray_song)</td>\n",
       "      <td>/wiki/The_Fray</td>\n",
       "    </tr>\n",
       "    <tr>\n",
       "      <th>2148</th>\n",
       "      <td>2008</td>\n",
       "      <td>2 Pistols</td>\n",
       "      <td>100.0</td>\n",
       "      <td>She Got It</td>\n",
       "      <td>/wiki/She_Got_It</td>\n",
       "      <td>/wiki/2_Pistols</td>\n",
       "    </tr>\n",
       "    <tr>\n",
       "      <th>2149</th>\n",
       "      <td>2008</td>\n",
       "      <td>T-Pain</td>\n",
       "      <td>100.0</td>\n",
       "      <td>She Got It</td>\n",
       "      <td>/wiki/She_Got_It</td>\n",
       "      <td>/wiki/T-Pain</td>\n",
       "    </tr>\n",
       "    <tr>\n",
       "      <th>2150</th>\n",
       "      <td>2008</td>\n",
       "      <td>Tay Dizm</td>\n",
       "      <td>100.0</td>\n",
       "      <td>She Got It</td>\n",
       "      <td>/wiki/She_Got_It</td>\n",
       "      <td>/wiki/Tay_Dizm</td>\n",
       "    </tr>\n",
       "    <tr>\n",
       "      <th>2010</th>\n",
       "      <td>2007</td>\n",
       "      <td>R. Kelly</td>\n",
       "      <td>100.0</td>\n",
       "      <td>Same Girl</td>\n",
       "      <td>/wiki/Same_Girl_(R._Kelly_and_Usher_song)</td>\n",
       "      <td>/wiki/R._Kelly</td>\n",
       "    </tr>\n",
       "    <tr>\n",
       "      <th>2011</th>\n",
       "      <td>2007</td>\n",
       "      <td>Usher</td>\n",
       "      <td>100.0</td>\n",
       "      <td>Same Girl</td>\n",
       "      <td>/wiki/Same_Girl_(R._Kelly_and_Usher_song)</td>\n",
       "      <td>/wiki/Usher_(entertainer)</td>\n",
       "    </tr>\n",
       "    <tr>\n",
       "      <th>1867</th>\n",
       "      <td>2006</td>\n",
       "      <td>Teddy Geiger</td>\n",
       "      <td>100.0</td>\n",
       "      <td>For You I Will (Confidence)</td>\n",
       "      <td>/wiki/For_You_I_Will_(Confidence)</td>\n",
       "      <td>/wiki/Teddy_Geiger</td>\n",
       "    </tr>\n",
       "    <tr>\n",
       "      <th>1724</th>\n",
       "      <td>2005</td>\n",
       "      <td>Webbie</td>\n",
       "      <td>100.0</td>\n",
       "      <td>Give Me That</td>\n",
       "      <td>/wiki/Give_Me_That</td>\n",
       "      <td>/wiki/Webbie</td>\n",
       "    </tr>\n",
       "    <tr>\n",
       "      <th>1725</th>\n",
       "      <td>2005</td>\n",
       "      <td>Bun B</td>\n",
       "      <td>100.0</td>\n",
       "      <td>Give Me That</td>\n",
       "      <td>/wiki/Give_Me_That</td>\n",
       "      <td>/wiki/Bun_B</td>\n",
       "    </tr>\n",
       "    <tr>\n",
       "      <th>1585</th>\n",
       "      <td>2004</td>\n",
       "      <td>Kenny Chesney</td>\n",
       "      <td>100.0</td>\n",
       "      <td>I Go Back</td>\n",
       "      <td>/wiki/I_Go_Back</td>\n",
       "      <td>/wiki/Kenny_Chesney</td>\n",
       "    </tr>\n",
       "    <tr>\n",
       "      <th>1449</th>\n",
       "      <td>2003</td>\n",
       "      <td>Floetry</td>\n",
       "      <td>100.0</td>\n",
       "      <td>Say Yes</td>\n",
       "      <td>/wiki/Say_Yes_(Floetry_song)</td>\n",
       "      <td>/wiki/Floetry</td>\n",
       "    </tr>\n",
       "    <tr>\n",
       "      <th>1308</th>\n",
       "      <td>2002</td>\n",
       "      <td>Toya</td>\n",
       "      <td>100.0</td>\n",
       "      <td>I Do!!</td>\n",
       "      <td>/wiki/I_Do!!</td>\n",
       "      <td>/wiki/Toya_(singer)</td>\n",
       "    </tr>\n",
       "    <tr>\n",
       "      <th>1172</th>\n",
       "      <td>2001</td>\n",
       "      <td>Fuel</td>\n",
       "      <td>100.0</td>\n",
       "      <td>Hemorrhage (In My Hands)</td>\n",
       "      <td>/wiki/Hemorrhage_(In_My_Hands)</td>\n",
       "      <td>/wiki/Fuel_(band)</td>\n",
       "    </tr>\n",
       "    <tr>\n",
       "      <th>1049</th>\n",
       "      <td>2000</td>\n",
       "      <td>Mary Mary</td>\n",
       "      <td>100.0</td>\n",
       "      <td>Shackles (Praise You)</td>\n",
       "      <td>/wiki/Shackles_(Praise_You)</td>\n",
       "      <td>/wiki/Mary_Mary</td>\n",
       "    </tr>\n",
       "    <tr>\n",
       "      <th>934</th>\n",
       "      <td>1999</td>\n",
       "      <td>Alabama</td>\n",
       "      <td>100.0</td>\n",
       "      <td>(God Must Have Spent) A Little More Time on You</td>\n",
       "      <td>/wiki/(God_Must_Have_Spent)_A_Little_More_Time...</td>\n",
       "      <td>/wiki/Alabama_(band)</td>\n",
       "    </tr>\n",
       "    <tr>\n",
       "      <th>935</th>\n",
       "      <td>1999</td>\n",
       "      <td>'N Sync</td>\n",
       "      <td>100.0</td>\n",
       "      <td>(God Must Have Spent) A Little More Time on You</td>\n",
       "      <td>/wiki/(God_Must_Have_Spent)_A_Little_More_Time...</td>\n",
       "      <td>/wiki/%27N_Sync</td>\n",
       "    </tr>\n",
       "    <tr>\n",
       "      <th>809</th>\n",
       "      <td>1998</td>\n",
       "      <td>TQ</td>\n",
       "      <td>100.0</td>\n",
       "      <td>Westside</td>\n",
       "      <td>/wiki/Westside_(TQ_song)</td>\n",
       "      <td>/wiki/TQ_(singer)</td>\n",
       "    </tr>\n",
       "    <tr>\n",
       "      <th>676</th>\n",
       "      <td>1997</td>\n",
       "      <td>Ray J</td>\n",
       "      <td>100.0</td>\n",
       "      <td>Let It Go</td>\n",
       "      <td>/wiki/Let_It_Go_(Ray_J_song)</td>\n",
       "      <td>/wiki/Ray_J</td>\n",
       "    </tr>\n",
       "    <tr>\n",
       "      <th>548</th>\n",
       "      <td>1996</td>\n",
       "      <td>Seal</td>\n",
       "      <td>100.0</td>\n",
       "      <td>Don't Cry</td>\n",
       "      <td>/wiki/Don%27t_Cry_(Seal_song)</td>\n",
       "      <td>/wiki/Seal_(musician)</td>\n",
       "    </tr>\n",
       "    <tr>\n",
       "      <th>426</th>\n",
       "      <td>1995</td>\n",
       "      <td>Van Halen</td>\n",
       "      <td>100.0</td>\n",
       "      <td>Can't Stop Lovin' You</td>\n",
       "      <td>/wiki/Can%27t_Stop_Lovin%27_You</td>\n",
       "      <td>/wiki/Van_Halen</td>\n",
       "    </tr>\n",
       "    <tr>\n",
       "      <th>318</th>\n",
       "      <td>1994</td>\n",
       "      <td>Brandy</td>\n",
       "      <td>100.0</td>\n",
       "      <td>I Wanna Be Down</td>\n",
       "      <td>/wiki/I_Wanna_Be_Down</td>\n",
       "      <td>/wiki/Brandy_Norwood</td>\n",
       "    </tr>\n",
       "    <tr>\n",
       "      <th>210</th>\n",
       "      <td>1993</td>\n",
       "      <td>Def Leppard</td>\n",
       "      <td>100.0</td>\n",
       "      <td>Two Steps Behind</td>\n",
       "      <td>/wiki/Two_Steps_Behind</td>\n",
       "      <td>/wiki/Def_Leppard</td>\n",
       "    </tr>\n",
       "    <tr>\n",
       "      <th>105</th>\n",
       "      <td>1992</td>\n",
       "      <td>Bonnie Raitt</td>\n",
       "      <td>100.0</td>\n",
       "      <td>I Can't Make You Love Me</td>\n",
       "      <td>/wiki/I_Can%27t_Make_You_Love_Me</td>\n",
       "      <td>/wiki/Bonnie_Raitt</td>\n",
       "    </tr>\n",
       "  </tbody>\n",
       "</table>\n",
       "<p>3001 rows × 6 columns</p>\n",
       "</div>"
      ],
      "text/plain": [
       "      year          band_singer  ranking                                             song                                            songurl                        url\n",
       "2852  2014    Pharrell Williams      1.0                                            Happy               /wiki/Happy_(Pharrell_Williams_song)    /wiki/Pharrell_Williams\n",
       "2709  2013           Macklemore      1.0                                      Thrift Shop                                  /wiki/Thrift_Shop           /wiki/Macklemore\n",
       "2710  2013           Ryan Lewis      1.0                                      Thrift Shop                                  /wiki/Thrift_Shop           /wiki/Ryan_Lewis\n",
       "2711  2013                 Wanz      1.0                                      Thrift Shop                                  /wiki/Thrift_Shop                 /wiki/Wanz\n",
       "2578  2012                Gotye      1.0                     Somebody That I Used to Know                 /wiki/Somebody_That_I_Used_to_Know                /wiki/Gotye\n",
       "2579  2012               Kimbra      1.0                     Somebody That I Used to Know                 /wiki/Somebody_That_I_Used_to_Know               /wiki/Kimbra\n",
       "2428  2011                Adele      1.0                              Rolling in the Deep                          /wiki/Rolling_in_the_Deep                /wiki/Adele\n",
       "2281  2010                Kesha      1.0                                          Tik Tok                                      /wiki/Tik_Tok                /wiki/Kesha\n",
       "2151  2009  The Black Eyed Peas      1.0                                    Boom Boom Pow                                /wiki/Boom_Boom_Pow  /wiki/The_Black_Eyed_Peas\n",
       "2012  2008             Flo Rida      1.0                                              Low                          /wiki/Low_(Flo_Rida_song)             /wiki/Flo_Rida\n",
       "2013  2008               T-Pain      1.0                                              Low                          /wiki/Low_(Flo_Rida_song)               /wiki/T-Pain\n",
       "1868  2007              Beyoncé      1.0                                    Irreplaceable                                /wiki/Irreplaceable         /wiki/Beyonc%C3%A9\n",
       "1726  2006        Daniel Powter      1.0                                          Bad Day                 /wiki/Bad_Day_(Daniel_Powter_song)        /wiki/Daniel_Powter\n",
       "1586  2005         Mariah Carey      1.0                               We Belong Together       /wiki/We_Belong_Together_(Mariah_Carey_song)         /wiki/Mariah_Carey\n",
       "1450  2004                Usher      1.0                                            Yeah!                           /wiki/Yeah!_(Usher_song)  /wiki/Usher_(entertainer)\n",
       "1451  2004              Lil Jon      1.0                                            Yeah!                           /wiki/Yeah!_(Usher_song)              /wiki/Lil_Jon\n",
       "1452  2004             Ludacris      1.0                                            Yeah!                           /wiki/Yeah!_(Usher_song)             /wiki/Ludacris\n",
       "1309  2003              50 Cent      1.0                                       In da Club                                   /wiki/In_da_Club              /wiki/50_Cent\n",
       "1173  2002           Nickelback      1.0                                How You Remind Me                            /wiki/How_You_Remind_Me           /wiki/Nickelback\n",
       "1050  2001            Lifehouse      1.0                              Hanging by a Moment                          /wiki/Hanging_by_a_Moment     /wiki/Lifehouse_(band)\n",
       "936   2000           Faith Hill      1.0                                          Breathe                    /wiki/Breathe_(Faith_Hill_song)           /wiki/Faith_Hill\n",
       "810   1999                 Cher      1.0                                          Believe                          /wiki/Believe_(Cher_song)                 /wiki/Cher\n",
       "677   1998                 Next      1.0                                        Too Close                        /wiki/Too_Close_(Next_song)         /wiki/Next_(group)\n",
       "549   1997           Elton John      1.0         Something About the Way You Look Tonight     /wiki/Something_About_the_Way_You_Look_Tonight           /wiki/Elton_John\n",
       "550   1997           Elton John      1.0                          Candle in the Wind 1997                      /wiki/Candle_in_the_Wind_1997           /wiki/Elton_John\n",
       "427   1996          Los del Río      1.0                                         Macarena                              /wiki/Macarena_(song)     /wiki/Los_del_R%C3%ADo\n",
       "319   1995               Coolio      1.0                               Gangsta's Paradise                         /wiki/Gangsta%27s_Paradise               /wiki/Coolio\n",
       "320   1995                 L.V.      1.0                               Gangsta's Paradise                         /wiki/Gangsta%27s_Paradise        /wiki/L.V._(singer)\n",
       "211   1994          Ace of Base      1.0                                         The Sign                              /wiki/The_Sign_(song)          /wiki/Ace_of_Base\n",
       "106   1993      Whitney Houston      1.0                           I Will Always Love You  /wiki/I_Will_Always_Love_You#Whitney_Houston_v...      /wiki/Whitney_Houston\n",
       "...    ...                  ...      ...                                              ...                                                ...                        ...\n",
       "104   1992              Das EFX     99.0                                    They Want EFX                                /wiki/They_Want_EFX              /wiki/Das_EFX\n",
       "3000  2014          Miley Cyrus    100.0                                        Adore You                                    /wiki/Adore_You          /wiki/Miley_Cyrus\n",
       "2851  2013             Paramore    100.0                                   Still Into You                               /wiki/Still_Into_You             /wiki/Paramore\n",
       "2708  2012          Linkin Park    100.0                                     Burn It Down              /wiki/Burn_It_Down_(Linkin_Park_song)          /wiki/Linkin_Park\n",
       "2576  2011             Big Sean    100.0                                          My Last                                      /wiki/My_Last             /wiki/Big_Sean\n",
       "2577  2011          Chris Brown    100.0                                          My Last                                      /wiki/My_Last          /wiki/Chris_Brown\n",
       "2427  2010       Jerrod Niemann    100.0                                     Lover, Lover                                 /wiki/Lover,_Lover       /wiki/Jerrod_Niemann\n",
       "2280  2009             The Fray    100.0                                  Never Say Never              /wiki/Never_Say_Never_(The_Fray_song)             /wiki/The_Fray\n",
       "2148  2008            2 Pistols    100.0                                       She Got It                                   /wiki/She_Got_It            /wiki/2_Pistols\n",
       "2149  2008               T-Pain    100.0                                       She Got It                                   /wiki/She_Got_It               /wiki/T-Pain\n",
       "2150  2008             Tay Dizm    100.0                                       She Got It                                   /wiki/She_Got_It             /wiki/Tay_Dizm\n",
       "2010  2007             R. Kelly    100.0                                        Same Girl          /wiki/Same_Girl_(R._Kelly_and_Usher_song)             /wiki/R._Kelly\n",
       "2011  2007                Usher    100.0                                        Same Girl          /wiki/Same_Girl_(R._Kelly_and_Usher_song)  /wiki/Usher_(entertainer)\n",
       "1867  2006         Teddy Geiger    100.0                      For You I Will (Confidence)                  /wiki/For_You_I_Will_(Confidence)         /wiki/Teddy_Geiger\n",
       "1724  2005               Webbie    100.0                                     Give Me That                                 /wiki/Give_Me_That               /wiki/Webbie\n",
       "1725  2005                Bun B    100.0                                     Give Me That                                 /wiki/Give_Me_That                /wiki/Bun_B\n",
       "1585  2004        Kenny Chesney    100.0                                        I Go Back                                    /wiki/I_Go_Back        /wiki/Kenny_Chesney\n",
       "1449  2003              Floetry    100.0                                          Say Yes                       /wiki/Say_Yes_(Floetry_song)              /wiki/Floetry\n",
       "1308  2002                 Toya    100.0                                           I Do!!                                       /wiki/I_Do!!        /wiki/Toya_(singer)\n",
       "1172  2001                 Fuel    100.0                         Hemorrhage (In My Hands)                     /wiki/Hemorrhage_(In_My_Hands)          /wiki/Fuel_(band)\n",
       "1049  2000            Mary Mary    100.0                            Shackles (Praise You)                        /wiki/Shackles_(Praise_You)            /wiki/Mary_Mary\n",
       "934   1999              Alabama    100.0  (God Must Have Spent) A Little More Time on You  /wiki/(God_Must_Have_Spent)_A_Little_More_Time...       /wiki/Alabama_(band)\n",
       "935   1999              'N Sync    100.0  (God Must Have Spent) A Little More Time on You  /wiki/(God_Must_Have_Spent)_A_Little_More_Time...            /wiki/%27N_Sync\n",
       "809   1998                   TQ    100.0                                         Westside                           /wiki/Westside_(TQ_song)          /wiki/TQ_(singer)\n",
       "676   1997                Ray J    100.0                                        Let It Go                       /wiki/Let_It_Go_(Ray_J_song)                /wiki/Ray_J\n",
       "548   1996                 Seal    100.0                                        Don't Cry                      /wiki/Don%27t_Cry_(Seal_song)      /wiki/Seal_(musician)\n",
       "426   1995            Van Halen    100.0                            Can't Stop Lovin' You                    /wiki/Can%27t_Stop_Lovin%27_You            /wiki/Van_Halen\n",
       "318   1994               Brandy    100.0                                  I Wanna Be Down                              /wiki/I_Wanna_Be_Down       /wiki/Brandy_Norwood\n",
       "210   1993          Def Leppard    100.0                                 Two Steps Behind                             /wiki/Two_Steps_Behind          /wiki/Def_Leppard\n",
       "105   1992         Bonnie Raitt    100.0                         I Can't Make You Love Me                   /wiki/I_Can%27t_Make_You_Love_Me         /wiki/Bonnie_Raitt\n",
       "\n",
       "[3001 rows x 6 columns]"
      ]
     },
     "execution_count": 102,
     "metadata": {},
     "output_type": "execute_result"
    }
   ],
   "source": [
    "df = df.sort(['ranking','year'], ascending = [True,False])\n",
    "df"
   ]
  },
  {
   "cell_type": "code",
   "execution_count": 103,
   "metadata": {
    "collapsed": true
   },
   "outputs": [],
   "source": [
    "flatframe = df"
   ]
  },
  {
   "cell_type": "markdown",
   "metadata": {},
   "source": [
    "### Who are the highest quality singers?"
   ]
  },
  {
   "cell_type": "markdown",
   "metadata": {},
   "source": [
    "Here we show the highest quality singers and plot them on a bar chart.\n",
    "\n",
    "#### 1.5 Find highest quality singers according to how prolific they are\n",
    "\n",
    "What do we mean by highest quality? This is of course open to interpretation, but let's define \"highest quality\" here as the number of times a singer appears in the top 100 over this time period. If a singer appears twice in a year (for different songs), this is counted as two appearances, not one. \n",
    "\n",
    "Make a bar-plot of the most prolific singers. Singers on this chart should have appeared at-least more than 15 times. (HINT: look at the docs for the pandas method `value_counts`.)\n"
   ]
  },
  {
   "cell_type": "code",
   "execution_count": 104,
   "metadata": {
    "collapsed": false
   },
   "outputs": [
    {
     "name": "stderr",
     "output_type": "stream",
     "text": [
      "C:\\Users\\Shaan Desai\\Anaconda3\\lib\\site-packages\\ipykernel\\__main__.py:6: FutureWarning: sort(columns=....) is deprecated, use sort_values(by=.....)\n"
     ]
    },
    {
     "data": {
      "image/png": "[encoded data removed]",
      "text/plain": [
       "<matplotlib.figure.Figure at 0x2ad6e6e7ba8>"
      ]
     },
     "metadata": {},
     "output_type": "display_data"
    }
   ],
   "source": [
    "vals = df.band_singer.value_counts()\n",
    "vals = vals[vals>15]\n",
    "xx = np.array([[vals.index]])\n",
    "yy = np.array([[vals.values]])\n",
    "chars = pd.DataFrame(np.c_[xx[0,0,:],yy[0,0,:]],columns = ['singers','frequency'])\n",
    "chars = chars.sort('frequency',ascending = True)\n",
    "plt.figure()\n",
    "sns.barplot(x='singers',y='frequency',data = chars)\n",
    "plt.xticks(rotation = 90)\n",
    "plt.grid(False)\n"
   ]
  },
  {
   "cell_type": "markdown",
   "metadata": {},
   "source": [
    "#### 1.6 What if we used a different metric?"
   ]
  },
  {
   "cell_type": "markdown",
   "metadata": {},
   "source": [
    "What we would like to capture is this: a singer should to be scored higher if the singer appears higher in the rankings. So we'd say that a singer who appeared once at a higher and once at a lower ranking is a \"higher quality\" singer than one who appeared twice at a lower ranking. \n",
    "\n",
    "To do this, group all of a singers songs together and assign each song a score `101 - ranking`. Order the singers by their total score and make a bar chart for the top 20.\n"
   ]
  },
  {
   "cell_type": "code",
   "execution_count": 105,
   "metadata": {
    "collapsed": false
   },
   "outputs": [
    {
     "data": {
      "image/png": "[encoded data removed]",
      "text/plain": [
       "<matplotlib.figure.Figure at 0x2ad6e712278>"
      ]
     },
     "metadata": {},
     "output_type": "display_data"
    }
   ],
   "source": [
    "df['score'] = 101- df['ranking']\n",
    "grouped = df.groupby('band_singer')\n",
    "zz = grouped['score'].agg([np.sum])\n",
    "za = zz.sort_values('sum')\n",
    "zz = za.tail(20)\n",
    "gpl = pd.DataFrame(np.c_[zz.index,zz.values],columns=['singer','sum'])\n",
    "plt.figure()\n",
    "sns.barplot(x='singer',y='sum',data = gpl)\n",
    "plt.xticks(rotation = 90)\n",
    "plt.grid(False)\n"
   ]
  },
  {
   "cell_type": "markdown",
   "metadata": {},
   "source": [
    "#### 1.7 Do you notice any major differences when you change the metric?\n",
    "\n",
    "How have the singers at the top shifted places? Why do you think this happens?"
   ]
  },
  {
   "cell_type": "markdown",
   "metadata": {},
   "source": [
    "<font color = 'green'> I notice that Mariah moved up from 6th place to 2nd showing that the second metric reflects well on her. Something similar also happens between Usher and Lil Wayne. This is a classical case of quality versus quantity. Some artists release a lot of music that is able to get onto the charts but it doesn't necessarily mean their songs are at the top of the charts. The second measure (score) seems to better account for quality as opposed to simply counting the number of times a name is listed"
   ]
  },
  {
   "cell_type": "markdown",
   "metadata": {},
   "source": [
    "## Q2. Scraping and Constructing: Information about Artists, Bands and Genres from Wikipedia"
   ]
  },
  {
   "cell_type": "markdown",
   "metadata": {},
   "source": [
    "Our next job is to use those band/singer urls we collected under `flatframe.url` and get information about singers and/or bands."
   ]
  },
  {
   "cell_type": "markdown",
   "metadata": {},
   "source": [
    "### Scrape information about artists from wikipedia"
   ]
  },
  {
   "cell_type": "markdown",
   "metadata": {},
   "source": [
    "We wish to fetch information about the singers or groups for all the winning songs in a list of years.\n",
    "\n",
    "Here we show a function that fetches information about a singer or group from their url on wikipedia. We create a cache object `urlcache` that will avoid redundant HTTP requests (e.g. an artist might have multiple singles on a single year, or be on the list over a span of years). Once we have fetched information about an artist, we don't need to do it again. The caching also helps if the network goes down, or the target website is having some problems. You simply need to run the `get_page` function below again, and the `urlcache` dictionary will continue to be filled.\n",
    "\n",
    "If the request gets an HTTP return code different from 200, (such as a 404 not found or 500 Internal Server Error) the cells for that URL will have a value of 1; and if the request completely fails (e.g. no network connection) the cell will have a value of 2. This will allow you to analyse the failed requests.\n",
    "\n",
    "Notice that we have wrapped the call in whats called _an exception block_. We try to make the request. If it fails entirely, or returns a HTTP code thats not 200, we set the status to 2 and 1 respectively."
   ]
  },
  {
   "cell_type": "code",
   "execution_count": 106,
   "metadata": {
    "collapsed": true,
    "scrolled": true
   },
   "outputs": [],
   "source": [
    "urlcache={}\n"
   ]
  },
  {
   "cell_type": "code",
   "execution_count": 107,
   "metadata": {
    "collapsed": true,
    "scrolled": true
   },
   "outputs": [],
   "source": [
    "def get_page(url):\n",
    "    \n",
    "    if url != None:\n",
    "        # Check if URL has already been visited.\n",
    "        if (url not in urlcache) or (urlcache[url]==1) or (urlcache[url]==2) :\n",
    "            time.sleep(0.01)\n",
    "            # try/except blocks are used whenever the code could generate an exception (e.g. division by zero).\n",
    "            # In this case we don't know if the page really exists, or even if it does, if we'll be able to reach it.\n",
    "            try:\n",
    "                r = requests.get(\"http://en.wikipedia.org%s\" % url)\n",
    "\n",
    "                if r.status_code == 200:\n",
    "                    urlcache[url] = r.text\n",
    "                else:\n",
    "                    urlcache[url] = 1\n",
    "            except:\n",
    "                urlcache[url] = 2\n",
    "    else:\n",
    "        urlcache[url] = None\n",
    "    return urlcache[url]\n"
   ]
  },
  {
   "cell_type": "markdown",
   "metadata": {},
   "source": [
    "We sort the `flatframe` by year, ascending, first. Think why."
   ]
  },
  {
   "cell_type": "code",
   "execution_count": 108,
   "metadata": {
    "collapsed": false,
    "scrolled": true
   },
   "outputs": [
    {
     "data": {
      "text/html": [
       "<div>\n",
       "<table border=\"1\" class=\"dataframe\">\n",
       "  <thead>\n",
       "    <tr style=\"text-align: right;\">\n",
       "      <th></th>\n",
       "      <th>year</th>\n",
       "      <th>band_singer</th>\n",
       "      <th>ranking</th>\n",
       "      <th>song</th>\n",
       "      <th>songurl</th>\n",
       "      <th>url</th>\n",
       "      <th>score</th>\n",
       "    </tr>\n",
       "  </thead>\n",
       "  <tbody>\n",
       "    <tr>\n",
       "      <th>105</th>\n",
       "      <td>1992</td>\n",
       "      <td>Bonnie Raitt</td>\n",
       "      <td>100.0</td>\n",
       "      <td>I Can't Make You Love Me</td>\n",
       "      <td>/wiki/I_Can%27t_Make_You_Love_Me</td>\n",
       "      <td>/wiki/Bonnie_Raitt</td>\n",
       "      <td>1.0</td>\n",
       "    </tr>\n",
       "    <tr>\n",
       "      <th>70</th>\n",
       "      <td>1992</td>\n",
       "      <td>Kris Kross</td>\n",
       "      <td>65.0</td>\n",
       "      <td>Warm It Up</td>\n",
       "      <td>/wiki/Warm_It_Up</td>\n",
       "      <td>/wiki/Kris_Kross</td>\n",
       "      <td>36.0</td>\n",
       "    </tr>\n",
       "    <tr>\n",
       "      <th>69</th>\n",
       "      <td>1992</td>\n",
       "      <td>Peabo Bryson</td>\n",
       "      <td>64.0</td>\n",
       "      <td>Beauty and the Beast</td>\n",
       "      <td>/wiki/Beauty_and_the_Beast_(Disney_song)</td>\n",
       "      <td>/wiki/Peabo_Bryson</td>\n",
       "      <td>37.0</td>\n",
       "    </tr>\n",
       "    <tr>\n",
       "      <th>68</th>\n",
       "      <td>1992</td>\n",
       "      <td>Celine Dion</td>\n",
       "      <td>64.0</td>\n",
       "      <td>Beauty and the Beast</td>\n",
       "      <td>/wiki/Beauty_and_the_Beast_(Disney_song)</td>\n",
       "      <td>/wiki/Celine_Dion</td>\n",
       "      <td>37.0</td>\n",
       "    </tr>\n",
       "    <tr>\n",
       "      <th>67</th>\n",
       "      <td>1992</td>\n",
       "      <td>Karyn White</td>\n",
       "      <td>63.0</td>\n",
       "      <td>The Way I Feel About You</td>\n",
       "      <td>None</td>\n",
       "      <td>/wiki/Karyn_White</td>\n",
       "      <td>38.0</td>\n",
       "    </tr>\n",
       "  </tbody>\n",
       "</table>\n",
       "</div>"
      ],
      "text/plain": [
       "     year   band_singer  ranking                      song                                   songurl                 url  score\n",
       "105  1992  Bonnie Raitt    100.0  I Can't Make You Love Me          /wiki/I_Can%27t_Make_You_Love_Me  /wiki/Bonnie_Raitt    1.0\n",
       "70   1992    Kris Kross     65.0                Warm It Up                          /wiki/Warm_It_Up    /wiki/Kris_Kross   36.0\n",
       "69   1992  Peabo Bryson     64.0      Beauty and the Beast  /wiki/Beauty_and_the_Beast_(Disney_song)  /wiki/Peabo_Bryson   37.0\n",
       "68   1992   Celine Dion     64.0      Beauty and the Beast  /wiki/Beauty_and_the_Beast_(Disney_song)   /wiki/Celine_Dion   37.0\n",
       "67   1992   Karyn White     63.0  The Way I Feel About You                                      None   /wiki/Karyn_White   38.0"
      ]
     },
     "execution_count": 108,
     "metadata": {},
     "output_type": "execute_result"
    }
   ],
   "source": [
    "flatframe=flatframe.sort_values('year')\n",
    "flatframe.head()"
   ]
  },
  {
   "cell_type": "markdown",
   "metadata": {},
   "source": [
    "#### Pulling and saving the data"
   ]
  },
  {
   "cell_type": "code",
   "execution_count": 109,
   "metadata": {
    "collapsed": false,
    "scrolled": true
   },
   "outputs": [
    {
     "data": {
      "text/plain": [
       "105     <!DOCTYPE html>\\n<html class=\"client-nojs\" lan...\n",
       "70      <!DOCTYPE html>\\n<html class=\"client-nojs\" lan...\n",
       "69      <!DOCTYPE html>\\n<html class=\"client-nojs\" lan...\n",
       "68      <!DOCTYPE html>\\n<html class=\"client-nojs\" lan...\n",
       "67      <!DOCTYPE html>\\n<html class=\"client-nojs\" lan...\n",
       "66      <!DOCTYPE html>\\n<html class=\"client-nojs\" lan...\n",
       "8       <!DOCTYPE html>\\n<html class=\"client-nojs\" lan...\n",
       "65      <!DOCTYPE html>\\n<html class=\"client-nojs\" lan...\n",
       "64      <!DOCTYPE html>\\n<html class=\"client-nojs\" lan...\n",
       "63      <!DOCTYPE html>\\n<html class=\"client-nojs\" lan...\n",
       "9       <!DOCTYPE html>\\n<html class=\"client-nojs\" lan...\n",
       "62      <!DOCTYPE html>\\n<html class=\"client-nojs\" lan...\n",
       "102     <!DOCTYPE html>\\n<html class=\"client-nojs\" lan...\n",
       "61      <!DOCTYPE html>\\n<html class=\"client-nojs\" lan...\n",
       "60      <!DOCTYPE html>\\n<html class=\"client-nojs\" lan...\n",
       "10      <!DOCTYPE html>\\n<html class=\"client-nojs\" lan...\n",
       "59      <!DOCTYPE html>\\n<html class=\"client-nojs\" lan...\n",
       "58      <!DOCTYPE html>\\n<html class=\"client-nojs\" lan...\n",
       "57      <!DOCTYPE html>\\n<html class=\"client-nojs\" lan...\n",
       "56      <!DOCTYPE html>\\n<html class=\"client-nojs\" lan...\n",
       "7       <!DOCTYPE html>\\n<html class=\"client-nojs\" lan...\n",
       "11      <!DOCTYPE html>\\n<html class=\"client-nojs\" lan...\n",
       "71      <!DOCTYPE html>\\n<html class=\"client-nojs\" lan...\n",
       "73      <!DOCTYPE html>\\n<html class=\"client-nojs\" lan...\n",
       "87      <!DOCTYPE html>\\n<html class=\"client-nojs\" lan...\n",
       "86      <!DOCTYPE html>\\n<html class=\"client-nojs\" lan...\n",
       "85      <!DOCTYPE html>\\n<html class=\"client-nojs\" lan...\n",
       "3       <!DOCTYPE html>\\n<html class=\"client-nojs\" lan...\n",
       "84      <!DOCTYPE html>\\n<html class=\"client-nojs\" lan...\n",
       "83      <!DOCTYPE html>\\n<html class=\"client-nojs\" lan...\n",
       "                              ...                        \n",
       "2934    <!DOCTYPE html>\\n<html class=\"client-nojs\" lan...\n",
       "2933    <!DOCTYPE html>\\n<html class=\"client-nojs\" lan...\n",
       "2939    <!DOCTYPE html>\\n<html class=\"client-nojs\" lan...\n",
       "2932    <!DOCTYPE html>\\n<html class=\"client-nojs\" lan...\n",
       "2930    <!DOCTYPE html>\\n<html class=\"client-nojs\" lan...\n",
       "2929    <!DOCTYPE html>\\n<html class=\"client-nojs\" lan...\n",
       "2928    <!DOCTYPE html>\\n<html class=\"client-nojs\" lan...\n",
       "2927    <!DOCTYPE html>\\n<html class=\"client-nojs\" lan...\n",
       "2925    <!DOCTYPE html>\\n<html class=\"client-nojs\" lan...\n",
       "2924    <!DOCTYPE html>\\n<html class=\"client-nojs\" lan...\n",
       "2931    <!DOCTYPE html>\\n<html class=\"client-nojs\" lan...\n",
       "2922    <!DOCTYPE html>\\n<html class=\"client-nojs\" lan...\n",
       "2940    <!DOCTYPE html>\\n<html class=\"client-nojs\" lan...\n",
       "2942    <!DOCTYPE html>\\n<html class=\"client-nojs\" lan...\n",
       "2956    <!DOCTYPE html>\\n<html class=\"client-nojs\" lan...\n",
       "2955    <!DOCTYPE html>\\n<html class=\"client-nojs\" lan...\n",
       "2954    <!DOCTYPE html>\\n<html class=\"client-nojs\" lan...\n",
       "2953    <!DOCTYPE html>\\n<html class=\"client-nojs\" lan...\n",
       "2952    <!DOCTYPE html>\\n<html class=\"client-nojs\" lan...\n",
       "2951    <!DOCTYPE html>\\n<html class=\"client-nojs\" lan...\n",
       "2941    <!DOCTYPE html>\\n<html class=\"client-nojs\" lan...\n",
       "2950    <!DOCTYPE html>\\n<html class=\"client-nojs\" lan...\n",
       "2948    <!DOCTYPE html>\\n<html class=\"client-nojs\" lan...\n",
       "2947    <!DOCTYPE html>\\n<html class=\"client-nojs\" lan...\n",
       "2946    <!DOCTYPE html>\\n<html class=\"client-nojs\" lan...\n",
       "2945    <!DOCTYPE html>\\n<html class=\"client-nojs\" lan...\n",
       "2944    <!DOCTYPE html>\\n<html class=\"client-nojs\" lan...\n",
       "2943    <!DOCTYPE html>\\n<html class=\"client-nojs\" lan...\n",
       "2949    <!DOCTYPE html>\\n<html class=\"client-nojs\" lan...\n",
       "2926    <!DOCTYPE html>\\n<html class=\"client-nojs\" lan...\n",
       "Name: url, dtype: object"
      ]
     },
     "execution_count": 109,
     "metadata": {},
     "output_type": "execute_result"
    }
   ],
   "source": [
    "# DO NOT RERUN THIS CELL WHEN SUBMITTING\n",
    "# Here we are populating the url cache\n",
    "# subsequent calls to this cell should be very fast, since Python won't\n",
    "# need to fetch the page from the web server.\n",
    "# NOTE this function will take quite some time to run (about 30 mins for me), since we sleep 1 second before\n",
    "# making a request. If you run it again it will be almost instantaneous, save requests that might have failed\n",
    "# (you will need to run it again if requests fail..see cell below for how to test this)\n",
    "flatframe[\"url\"].apply(get_page)"
   ]
  },
  {
   "cell_type": "markdown",
   "metadata": {},
   "source": [
    "You may have to run this function again and again, in case there were network problems. Note that, because there is a \"global\" cache, it will take less time each time you run it. Also note that this function is designed to be run again and again: it attempts to make sure that there are no unresolved pages remaining. Let us make sure of this: *the sum below should be 0, and the boolean True.*"
   ]
  },
  {
   "cell_type": "code",
   "execution_count": 110,
   "metadata": {
    "collapsed": false,
    "scrolled": true
   },
   "outputs": [
    {
     "name": "stdout",
     "output_type": "stream",
     "text": [
      "Number of bad requests: 0\n",
      "Did we get all urls? True\n"
     ]
    }
   ],
   "source": [
    "# DO NOT RERUN THIS CELL WHEN SUBMITTING\n",
    "print(\"Number of bad requests:\",np.sum([(urlcache[k]==1) or (urlcache[k]==2) for k in urlcache])) # no one or 0's)\n",
    "print(\"Did we get all urls?\", len(flatframe.url.unique())==len(urlcache)) # we got all of the urls"
   ]
  },
  {
   "cell_type": "markdown",
   "metadata": {},
   "source": [
    "<font color = 'green'> When I ran this previously I obtained 1 bad request - to fix this I found the song causing this issue and realized it was 1 exception (the one listed below). So to deal with it, I edited the code in get_page(url) and inserted an if condition. When it hits the null url, it sets the urlcache[various artists] = None"
   ]
  },
  {
   "cell_type": "code",
   "execution_count": 111,
   "metadata": {
    "collapsed": false
   },
   "outputs": [
    {
     "data": {
      "text/html": [
       "<div>\n",
       "<table border=\"1\" class=\"dataframe\">\n",
       "  <thead>\n",
       "    <tr style=\"text-align: right;\">\n",
       "      <th></th>\n",
       "      <th>year</th>\n",
       "      <th>band_singer</th>\n",
       "      <th>ranking</th>\n",
       "      <th>song</th>\n",
       "      <th>songurl</th>\n",
       "      <th>url</th>\n",
       "      <th>score</th>\n",
       "    </tr>\n",
       "  </thead>\n",
       "  <tbody>\n",
       "    <tr>\n",
       "      <th>642</th>\n",
       "      <td>1997</td>\n",
       "      <td>Various Artists</td>\n",
       "      <td>72.0</td>\n",
       "      <td>The Jock Jam</td>\n",
       "      <td>/wiki/Jock_Jam</td>\n",
       "      <td>None</td>\n",
       "      <td>29.0</td>\n",
       "    </tr>\n",
       "  </tbody>\n",
       "</table>\n",
       "</div>"
      ],
      "text/plain": [
       "     year      band_singer  ranking          song         songurl   url  score\n",
       "642  1997  Various Artists     72.0  The Jock Jam  /wiki/Jock_Jam  None   29.0"
      ]
     },
     "execution_count": 111,
     "metadata": {},
     "output_type": "execute_result"
    }
   ],
   "source": [
    "df.loc[df['url'].isnull()]"
   ]
  },
  {
   "cell_type": "markdown",
   "metadata": {},
   "source": [
    "Let's save the `urlcache` to disk, just in case we need it again."
   ]
  },
  {
   "cell_type": "code",
   "execution_count": 112,
   "metadata": {
    "collapsed": true
   },
   "outputs": [],
   "source": [
    "# DO NOT RERUN THIS CELL WHEN SUBMITTING\n",
    "with open(\"data/artistinfo.json\",\"w\") as fd:\n",
    "    json.dump(urlcache, fd)\n",
    "del urlcache"
   ]
  },
  {
   "cell_type": "code",
   "execution_count": 4,
   "metadata": {
    "collapsed": true,
    "scrolled": false
   },
   "outputs": [],
   "source": [
    "# RERUN WHEN SUBMITTING\n",
    "with open(\"data/artistinfo.json\") as json_file:\n",
    "    urlcache = json.load(json_file)"
   ]
  },
  {
   "cell_type": "markdown",
   "metadata": {},
   "source": [
    "#### 2.1 Extract information about singers and bands"
   ]
  },
  {
   "cell_type": "markdown",
   "metadata": {},
   "source": [
    "From each page we collected about a singer or a band, extract the following information:\n",
    "\n",
    "1. If the page has the text \"Born\" in the sidebar on the right, extract the element with the class `.bday`. If the page doesn't contain \"Born\", store `False`.  Store either of these into the variable `born`. We want to analyze the artist's age.\n",
    "\n",
    "2. If the text \"Years active\" is found, but no \"born\", assume a band. Store into the variable `ya` the value of the next table cell corresponding to this, or `False` if the text is not found.\n",
    "\n",
    "Put this all into a function `singer_band_info` which takes the singer/band url as argument and returns a dictionary `dict(url=url, born=born, ya=ya)`.\n",
    "\n",
    "The information can be found on the sidebar on each such wikipedia page, as the example here shows:\n",
    "\n",
    "![sandg](https://raw.githubusercontent.com/cs109/a-2017/master/hwassets/images/sandg.png).\n",
    "\n"
   ]
  },
  {
   "cell_type": "markdown",
   "metadata": {},
   "source": [
    "Write the function `singer_band_info` according to the following specification:"
   ]
  },
  {
   "cell_type": "code",
   "execution_count": 116,
   "metadata": {
    "collapsed": false
   },
   "outputs": [],
   "source": [
    "\"\"\"\n",
    "Function\n",
    "--------\n",
    "singer_band_info\n",
    "\n",
    "Inputs\n",
    "------\n",
    "url: the url\n",
    "page_text: the text associated with the url\n",
    "   \n",
    "Returns\n",
    "-------\n",
    "A dictionary with the following data:\n",
    "    url: copy the input argument url into this value\n",
    "    born: the artist's birthday\n",
    "    ya: years active variable\n",
    "\n",
    "Notes\n",
    "-----\n",
    "See description above. Also note that some of the genres urls might require a \n",
    "bit of care and special handling.\n",
    "\"\"\"\n",
    "import requests\n",
    "import re\n",
    "from bs4 import BeautifulSoup\n",
    "ctr = 0\n",
    "def singer_band_info(url,page_text):\n",
    "    c = page_text\n",
    "    if c != None or []:\n",
    "        soup = BeautifulSoup(c,\"lxml\")\n",
    "        tables = soup.find_all('table')\n",
    "        xr = None\n",
    "        yr = None\n",
    "# Being thorough in my search of the tables\n",
    "        for i in range(len(tables)):\n",
    "            #if (tables[i].find('span',{'class':'bday'}) != None or []) and (xr == None):\n",
    "            if (tables[i].find('th',text = re.compile('Born')) != None or []) and (xr == None):\n",
    "                \n",
    "                xr = tables[i]\n",
    "    \n",
    "            elif (tables[i].find('th',text = re.compile('Years active')) != None or []) and (yr == None):\n",
    "                yr = tables[i]\n",
    "            \n",
    "        if (xr != None or []) and (xr.find('span',{'class':'bday'}) != None or []):\n",
    "            born = xr.find('span',{'class':'bday'}).getText()\n",
    "            ya = False\n",
    "        else:\n",
    "            born = False\n",
    "            if  (yr != None or []) and (yr.find('th',text=re.compile('Years active')).find_next_sibling('td') != None):\n",
    "                ya = yr.find('th',text=re.compile('Years active')).find_next_sibling('td').getText()\n",
    "            else:\n",
    "                ya = False\n",
    "\n",
    "        A = {'url': url, 'born':born, 'ya' : ya}\n",
    "    else:\n",
    "        A = {'url': url, 'born':False, 'ya' : False}\n",
    "    return A"
   ]
  },
  {
   "cell_type": "code",
   "execution_count": 117,
   "metadata": {
    "collapsed": false
   },
   "outputs": [],
   "source": [
    "newdf = pd.DataFrame(columns = {'url','born','ya'})\n",
    "newdf = newdf[['url','born','ya']]\n",
    "\n",
    "for k in urlcache:\n",
    "    xx = singer_band_info(k,urlcache[k])\n",
    "    newdf.loc[len(newdf)] = [xx['url'],xx['born'],xx['ya']]    \n"
   ]
  },
  {
   "cell_type": "code",
   "execution_count": 118,
   "metadata": {
    "collapsed": false
   },
   "outputs": [
    {
     "data": {
      "text/html": [
       "<div>\n",
       "<table border=\"1\" class=\"dataframe\">\n",
       "  <thead>\n",
       "    <tr style=\"text-align: right;\">\n",
       "      <th></th>\n",
       "      <th>url</th>\n",
       "      <th>born</th>\n",
       "      <th>ya</th>\n",
       "    </tr>\n",
       "  </thead>\n",
       "  <tbody>\n",
       "    <tr>\n",
       "      <th>0</th>\n",
       "      <td>/wiki/Bonnie_Raitt</td>\n",
       "      <td>1949-11-08</td>\n",
       "      <td>False</td>\n",
       "    </tr>\n",
       "    <tr>\n",
       "      <th>1</th>\n",
       "      <td>/wiki/Kris_Kross</td>\n",
       "      <td>False</td>\n",
       "      <td>1991–2002\\n2013 (reunion)</td>\n",
       "    </tr>\n",
       "    <tr>\n",
       "      <th>2</th>\n",
       "      <td>/wiki/Peabo_Bryson</td>\n",
       "      <td>1951-04-13</td>\n",
       "      <td>False</td>\n",
       "    </tr>\n",
       "    <tr>\n",
       "      <th>3</th>\n",
       "      <td>/wiki/Celine_Dion</td>\n",
       "      <td>1968-03-30</td>\n",
       "      <td>False</td>\n",
       "    </tr>\n",
       "    <tr>\n",
       "      <th>4</th>\n",
       "      <td>/wiki/Karyn_White</td>\n",
       "      <td>1965-10-14</td>\n",
       "      <td>False</td>\n",
       "    </tr>\n",
       "    <tr>\n",
       "      <th>5</th>\n",
       "      <td>/wiki/Genesis_(band)</td>\n",
       "      <td>False</td>\n",
       "      <td>\\n\\n\\n1967–1998[4][5]\\n2006–2007\\n\\n\\n</td>\n",
       "    </tr>\n",
       "    <tr>\n",
       "      <th>6</th>\n",
       "      <td>/wiki/Color_Me_Badd</td>\n",
       "      <td>False</td>\n",
       "      <td>1985 (1985)–1998\\n2010–present</td>\n",
       "    </tr>\n",
       "    <tr>\n",
       "      <th>7</th>\n",
       "      <td>/wiki/CeCe_Peniston</td>\n",
       "      <td>1969-09-06</td>\n",
       "      <td>False</td>\n",
       "    </tr>\n",
       "    <tr>\n",
       "      <th>8</th>\n",
       "      <td>/wiki/U2</td>\n",
       "      <td>False</td>\n",
       "      <td>1976–present</td>\n",
       "    </tr>\n",
       "    <tr>\n",
       "      <th>9</th>\n",
       "      <td>/wiki/The_Heights_(TV_series)</td>\n",
       "      <td>False</td>\n",
       "      <td>False</td>\n",
       "    </tr>\n",
       "    <tr>\n",
       "      <th>10</th>\n",
       "      <td>/wiki/Jon_Secada</td>\n",
       "      <td>1961-10-04</td>\n",
       "      <td>False</td>\n",
       "    </tr>\n",
       "    <tr>\n",
       "      <th>11</th>\n",
       "      <td>/wiki/George_Michael</td>\n",
       "      <td>1963-06-25</td>\n",
       "      <td>False</td>\n",
       "    </tr>\n",
       "    <tr>\n",
       "      <th>12</th>\n",
       "      <td>/wiki/Richard_Marx</td>\n",
       "      <td>1963-09-16</td>\n",
       "      <td>False</td>\n",
       "    </tr>\n",
       "    <tr>\n",
       "      <th>13</th>\n",
       "      <td>/wiki/Shanice</td>\n",
       "      <td>1973-05-14</td>\n",
       "      <td>False</td>\n",
       "    </tr>\n",
       "    <tr>\n",
       "      <th>14</th>\n",
       "      <td>/wiki/Michael_Bolton</td>\n",
       "      <td>1953-02-26</td>\n",
       "      <td>False</td>\n",
       "    </tr>\n",
       "    <tr>\n",
       "      <th>15</th>\n",
       "      <td>/wiki/Toad_the_Wet_Sprocket</td>\n",
       "      <td>False</td>\n",
       "      <td>1986–1998, 2002, 2006–present</td>\n",
       "    </tr>\n",
       "    <tr>\n",
       "      <th>16</th>\n",
       "      <td>/wiki/Amy_Grant</td>\n",
       "      <td>1960-11-25</td>\n",
       "      <td>False</td>\n",
       "    </tr>\n",
       "    <tr>\n",
       "      <th>17</th>\n",
       "      <td>/wiki/Red_Hot_Chili_Peppers</td>\n",
       "      <td>False</td>\n",
       "      <td>1983 (1983)–present</td>\n",
       "    </tr>\n",
       "    <tr>\n",
       "      <th>18</th>\n",
       "      <td>/wiki/Mr._Big_(band)</td>\n",
       "      <td>False</td>\n",
       "      <td>1988–2002, 2009–present</td>\n",
       "    </tr>\n",
       "    <tr>\n",
       "      <th>19</th>\n",
       "      <td>/wiki/Michael_Jackson</td>\n",
       "      <td>1958-08-29</td>\n",
       "      <td>False</td>\n",
       "    </tr>\n",
       "    <tr>\n",
       "      <th>20</th>\n",
       "      <td>/wiki/FireHouse_(band)</td>\n",
       "      <td>False</td>\n",
       "      <td>1989–present</td>\n",
       "    </tr>\n",
       "    <tr>\n",
       "      <th>21</th>\n",
       "      <td>/wiki/Def_Leppard</td>\n",
       "      <td>False</td>\n",
       "      <td>1977–present</td>\n",
       "    </tr>\n",
       "    <tr>\n",
       "      <th>22</th>\n",
       "      <td>/wiki/Vanessa_L._Williams</td>\n",
       "      <td>1963-03-18</td>\n",
       "      <td>False</td>\n",
       "    </tr>\n",
       "    <tr>\n",
       "      <th>23</th>\n",
       "      <td>/wiki/Kathy_Troccoli</td>\n",
       "      <td>1958-06-24</td>\n",
       "      <td>False</td>\n",
       "    </tr>\n",
       "    <tr>\n",
       "      <th>24</th>\n",
       "      <td>/wiki/N2Deep</td>\n",
       "      <td>False</td>\n",
       "      <td>1990–2001\\n2008–present</td>\n",
       "    </tr>\n",
       "    <tr>\n",
       "      <th>25</th>\n",
       "      <td>/wiki/MC_Hammer</td>\n",
       "      <td>1962-03-30</td>\n",
       "      <td>False</td>\n",
       "    </tr>\n",
       "    <tr>\n",
       "      <th>26</th>\n",
       "      <td>/wiki/TLC_(band)</td>\n",
       "      <td>False</td>\n",
       "      <td>1990–present</td>\n",
       "    </tr>\n",
       "    <tr>\n",
       "      <th>27</th>\n",
       "      <td>/wiki/Snap!</td>\n",
       "      <td>False</td>\n",
       "      <td>1989–1996; 2000–present</td>\n",
       "    </tr>\n",
       "    <tr>\n",
       "      <th>28</th>\n",
       "      <td>/wiki/Bryan_Adams</td>\n",
       "      <td>1959-11-05</td>\n",
       "      <td>False</td>\n",
       "    </tr>\n",
       "    <tr>\n",
       "      <th>29</th>\n",
       "      <td>/wiki/Paula_Abdul</td>\n",
       "      <td>1962-06-19</td>\n",
       "      <td>False</td>\n",
       "    </tr>\n",
       "    <tr>\n",
       "      <th>...</th>\n",
       "      <td>...</td>\n",
       "      <td>...</td>\n",
       "      <td>...</td>\n",
       "    </tr>\n",
       "    <tr>\n",
       "      <th>1013</th>\n",
       "      <td>/wiki/Iggy_Azalea</td>\n",
       "      <td>1990-06-07</td>\n",
       "      <td>False</td>\n",
       "    </tr>\n",
       "    <tr>\n",
       "      <th>1014</th>\n",
       "      <td>/wiki/Meghan_Trainor</td>\n",
       "      <td>1993-12-22</td>\n",
       "      <td>False</td>\n",
       "    </tr>\n",
       "    <tr>\n",
       "      <th>1015</th>\n",
       "      <td>/wiki/Magic!</td>\n",
       "      <td>False</td>\n",
       "      <td>2012 (2012)–present</td>\n",
       "    </tr>\n",
       "    <tr>\n",
       "      <th>1016</th>\n",
       "      <td>/wiki/Juicy_J</td>\n",
       "      <td>1975-04-05</td>\n",
       "      <td>False</td>\n",
       "    </tr>\n",
       "    <tr>\n",
       "      <th>1017</th>\n",
       "      <td>/wiki/Bastille_(band)</td>\n",
       "      <td>False</td>\n",
       "      <td>2010–present</td>\n",
       "    </tr>\n",
       "    <tr>\n",
       "      <th>1018</th>\n",
       "      <td>/wiki/Nico_%26_Vinz</td>\n",
       "      <td>False</td>\n",
       "      <td>2010–present</td>\n",
       "    </tr>\n",
       "    <tr>\n",
       "      <th>1019</th>\n",
       "      <td>/wiki/Idina_Menzel</td>\n",
       "      <td>1971-05-30</td>\n",
       "      <td>False</td>\n",
       "    </tr>\n",
       "    <tr>\n",
       "      <th>1020</th>\n",
       "      <td>/wiki/A_Great_Big_World</td>\n",
       "      <td>False</td>\n",
       "      <td>2011–present</td>\n",
       "    </tr>\n",
       "    <tr>\n",
       "      <th>1021</th>\n",
       "      <td>/wiki/DJ_Snake</td>\n",
       "      <td>1986-06-13</td>\n",
       "      <td>False</td>\n",
       "    </tr>\n",
       "    <tr>\n",
       "      <th>1022</th>\n",
       "      <td>/wiki/Aloe_Blacc</td>\n",
       "      <td>1979-01-07</td>\n",
       "      <td>False</td>\n",
       "    </tr>\n",
       "    <tr>\n",
       "      <th>1023</th>\n",
       "      <td>/wiki/Naughty_Boy</td>\n",
       "      <td>1985-01-01</td>\n",
       "      <td>False</td>\n",
       "    </tr>\n",
       "    <tr>\n",
       "      <th>1024</th>\n",
       "      <td>/wiki/5_Seconds_of_Summer</td>\n",
       "      <td>False</td>\n",
       "      <td>2011–present</td>\n",
       "    </tr>\n",
       "    <tr>\n",
       "      <th>1025</th>\n",
       "      <td>/wiki/Hollis_(singer)</td>\n",
       "      <td>False</td>\n",
       "      <td>False</td>\n",
       "    </tr>\n",
       "    <tr>\n",
       "      <th>1026</th>\n",
       "      <td>/wiki/Macklemore_%26_Ryan_Lewis</td>\n",
       "      <td>False</td>\n",
       "      <td>2008–2017 (on hiatus)[1]</td>\n",
       "    </tr>\n",
       "    <tr>\n",
       "      <th>1027</th>\n",
       "      <td>/wiki/Mike_WiLL_Made-It</td>\n",
       "      <td>1989-03-23</td>\n",
       "      <td>False</td>\n",
       "    </tr>\n",
       "    <tr>\n",
       "      <th>1028</th>\n",
       "      <td>/wiki/Kongos_(band)</td>\n",
       "      <td>False</td>\n",
       "      <td>2007 (2007)–present</td>\n",
       "    </tr>\n",
       "    <tr>\n",
       "      <th>1029</th>\n",
       "      <td>/wiki/Sam_Hunt_(musician)</td>\n",
       "      <td>1984-12-08</td>\n",
       "      <td>False</td>\n",
       "    </tr>\n",
       "    <tr>\n",
       "      <th>1030</th>\n",
       "      <td>/wiki/The_Neighbourhood</td>\n",
       "      <td>False</td>\n",
       "      <td>2011–present[1]</td>\n",
       "    </tr>\n",
       "    <tr>\n",
       "      <th>1031</th>\n",
       "      <td>/wiki/Echosmith</td>\n",
       "      <td>False</td>\n",
       "      <td>2009–present</td>\n",
       "    </tr>\n",
       "    <tr>\n",
       "      <th>1032</th>\n",
       "      <td>/wiki/Rich_Homie_Quan</td>\n",
       "      <td>1989-10-04</td>\n",
       "      <td>False</td>\n",
       "    </tr>\n",
       "    <tr>\n",
       "      <th>1033</th>\n",
       "      <td>/wiki/Jeezy</td>\n",
       "      <td>1977-09-28</td>\n",
       "      <td>False</td>\n",
       "    </tr>\n",
       "    <tr>\n",
       "      <th>1034</th>\n",
       "      <td>/wiki/Bobby_Shmurda</td>\n",
       "      <td>1994-08-04</td>\n",
       "      <td>False</td>\n",
       "    </tr>\n",
       "    <tr>\n",
       "      <th>1035</th>\n",
       "      <td>/wiki/Young_Thug</td>\n",
       "      <td>1991-08-16</td>\n",
       "      <td>False</td>\n",
       "    </tr>\n",
       "    <tr>\n",
       "      <th>1036</th>\n",
       "      <td>/wiki/Rich_Gang</td>\n",
       "      <td>False</td>\n",
       "      <td>False</td>\n",
       "    </tr>\n",
       "    <tr>\n",
       "      <th>1037</th>\n",
       "      <td>/wiki/Martin_Garrix</td>\n",
       "      <td>1996-05-14</td>\n",
       "      <td>False</td>\n",
       "    </tr>\n",
       "    <tr>\n",
       "      <th>1038</th>\n",
       "      <td>/wiki/Rixton_(band)</td>\n",
       "      <td>False</td>\n",
       "      <td>2012–present</td>\n",
       "    </tr>\n",
       "    <tr>\n",
       "      <th>1039</th>\n",
       "      <td>/wiki/Brantley_Gilbert</td>\n",
       "      <td>1985-01-20</td>\n",
       "      <td>False</td>\n",
       "    </tr>\n",
       "    <tr>\n",
       "      <th>1040</th>\n",
       "      <td>/wiki/Tinashe</td>\n",
       "      <td>1993-02-06</td>\n",
       "      <td>False</td>\n",
       "    </tr>\n",
       "    <tr>\n",
       "      <th>1041</th>\n",
       "      <td>/wiki/Becky_G</td>\n",
       "      <td>1997-03-02</td>\n",
       "      <td>False</td>\n",
       "    </tr>\n",
       "    <tr>\n",
       "      <th>1042</th>\n",
       "      <td>/wiki/MKTO</td>\n",
       "      <td>False</td>\n",
       "      <td>2010 – 2017</td>\n",
       "    </tr>\n",
       "  </tbody>\n",
       "</table>\n",
       "<p>1043 rows × 3 columns</p>\n",
       "</div>"
      ],
      "text/plain": [
       "                                  url        born                                      ya\n",
       "0                  /wiki/Bonnie_Raitt  1949-11-08                                   False\n",
       "1                    /wiki/Kris_Kross       False               1991–2002\\n2013 (reunion)\n",
       "2                  /wiki/Peabo_Bryson  1951-04-13                                   False\n",
       "3                   /wiki/Celine_Dion  1968-03-30                                   False\n",
       "4                   /wiki/Karyn_White  1965-10-14                                   False\n",
       "5                /wiki/Genesis_(band)       False  \\n\\n\\n1967–1998[4][5]\\n2006–2007\\n\\n\\n\n",
       "6                 /wiki/Color_Me_Badd       False          1985 (1985)–1998\\n2010–present\n",
       "7                 /wiki/CeCe_Peniston  1969-09-06                                   False\n",
       "8                            /wiki/U2       False                            1976–present\n",
       "9       /wiki/The_Heights_(TV_series)       False                                   False\n",
       "10                   /wiki/Jon_Secada  1961-10-04                                   False\n",
       "11               /wiki/George_Michael  1963-06-25                                   False\n",
       "12                 /wiki/Richard_Marx  1963-09-16                                   False\n",
       "13                      /wiki/Shanice  1973-05-14                                   False\n",
       "14               /wiki/Michael_Bolton  1953-02-26                                   False\n",
       "15        /wiki/Toad_the_Wet_Sprocket       False           1986–1998, 2002, 2006–present\n",
       "16                    /wiki/Amy_Grant  1960-11-25                                   False\n",
       "17        /wiki/Red_Hot_Chili_Peppers       False                     1983 (1983)–present\n",
       "18               /wiki/Mr._Big_(band)       False                 1988–2002, 2009–present\n",
       "19              /wiki/Michael_Jackson  1958-08-29                                   False\n",
       "20             /wiki/FireHouse_(band)       False                            1989–present\n",
       "21                  /wiki/Def_Leppard       False                            1977–present\n",
       "22          /wiki/Vanessa_L._Williams  1963-03-18                                   False\n",
       "23               /wiki/Kathy_Troccoli  1958-06-24                                   False\n",
       "24                       /wiki/N2Deep       False                 1990–2001\\n2008–present\n",
       "25                    /wiki/MC_Hammer  1962-03-30                                   False\n",
       "26                   /wiki/TLC_(band)       False                            1990–present\n",
       "27                        /wiki/Snap!       False                 1989–1996; 2000–present\n",
       "28                  /wiki/Bryan_Adams  1959-11-05                                   False\n",
       "29                  /wiki/Paula_Abdul  1962-06-19                                   False\n",
       "...                               ...         ...                                     ...\n",
       "1013                /wiki/Iggy_Azalea  1990-06-07                                   False\n",
       "1014             /wiki/Meghan_Trainor  1993-12-22                                   False\n",
       "1015                     /wiki/Magic!       False                     2012 (2012)–present\n",
       "1016                    /wiki/Juicy_J  1975-04-05                                   False\n",
       "1017            /wiki/Bastille_(band)       False                            2010–present\n",
       "1018              /wiki/Nico_%26_Vinz       False                            2010–present\n",
       "1019               /wiki/Idina_Menzel  1971-05-30                                   False\n",
       "1020          /wiki/A_Great_Big_World       False                            2011–present\n",
       "1021                   /wiki/DJ_Snake  1986-06-13                                   False\n",
       "1022                 /wiki/Aloe_Blacc  1979-01-07                                   False\n",
       "1023                /wiki/Naughty_Boy  1985-01-01                                   False\n",
       "1024        /wiki/5_Seconds_of_Summer       False                            2011–present\n",
       "1025            /wiki/Hollis_(singer)       False                                   False\n",
       "1026  /wiki/Macklemore_%26_Ryan_Lewis       False                2008–2017 (on hiatus)[1]\n",
       "1027          /wiki/Mike_WiLL_Made-It  1989-03-23                                   False\n",
       "1028              /wiki/Kongos_(band)       False                     2007 (2007)–present\n",
       "1029        /wiki/Sam_Hunt_(musician)  1984-12-08                                   False\n",
       "1030          /wiki/The_Neighbourhood       False                         2011–present[1]\n",
       "1031                  /wiki/Echosmith       False                            2009–present\n",
       "1032            /wiki/Rich_Homie_Quan  1989-10-04                                   False\n",
       "1033                      /wiki/Jeezy  1977-09-28                                   False\n",
       "1034              /wiki/Bobby_Shmurda  1994-08-04                                   False\n",
       "1035                 /wiki/Young_Thug  1991-08-16                                   False\n",
       "1036                  /wiki/Rich_Gang       False                                   False\n",
       "1037              /wiki/Martin_Garrix  1996-05-14                                   False\n",
       "1038              /wiki/Rixton_(band)       False                            2012–present\n",
       "1039           /wiki/Brantley_Gilbert  1985-01-20                                   False\n",
       "1040                    /wiki/Tinashe  1993-02-06                                   False\n",
       "1041                    /wiki/Becky_G  1997-03-02                                   False\n",
       "1042                       /wiki/MKTO       False                             2010 – 2017\n",
       "\n",
       "[1043 rows x 3 columns]"
      ]
     },
     "execution_count": 118,
     "metadata": {},
     "output_type": "execute_result"
    }
   ],
   "source": [
    "newdf"
   ]
  },
  {
   "cell_type": "markdown",
   "metadata": {},
   "source": [
    "#### 2.2  Merging this information in"
   ]
  },
  {
   "cell_type": "markdown",
   "metadata": {},
   "source": [
    "Iterate over the items in the singer-group dictionary cache `urlcache`, run the above function, and create a dataframe from there with columns `url`, `born`, and `ya`. Merge this dataframe on the `url` key with `flatframe`, creating a rather wide dataframe that we shall call `largedf`. It should look something like this:\n",
    "\n",
    "![](https://raw.githubusercontent.com/cs109/a-2017/master/hwassets/images/HW1SC3.png)\n",
    "\n",
    "Notice how the `born` and `ya` and `url` are repeated every time a different song from a given band is represented in a row."
   ]
  },
  {
   "cell_type": "code",
   "execution_count": 119,
   "metadata": {
    "collapsed": false
   },
   "outputs": [
    {
     "data": {
      "text/html": [
       "<div>\n",
       "<table border=\"1\" class=\"dataframe\">\n",
       "  <thead>\n",
       "    <tr style=\"text-align: right;\">\n",
       "      <th></th>\n",
       "      <th>year</th>\n",
       "      <th>band_singer</th>\n",
       "      <th>ranking</th>\n",
       "      <th>song</th>\n",
       "      <th>songurl</th>\n",
       "      <th>url</th>\n",
       "      <th>score</th>\n",
       "      <th>born</th>\n",
       "      <th>ya</th>\n",
       "    </tr>\n",
       "  </thead>\n",
       "  <tbody>\n",
       "    <tr>\n",
       "      <th>0</th>\n",
       "      <td>2014</td>\n",
       "      <td>Pharrell Williams</td>\n",
       "      <td>1.0</td>\n",
       "      <td>Happy</td>\n",
       "      <td>/wiki/Happy_(Pharrell_Williams_song)</td>\n",
       "      <td>/wiki/Pharrell_Williams</td>\n",
       "      <td>100.0</td>\n",
       "      <td>1973-04-05</td>\n",
       "      <td>False</td>\n",
       "    </tr>\n",
       "    <tr>\n",
       "      <th>1</th>\n",
       "      <td>2013</td>\n",
       "      <td>Pharrell Williams</td>\n",
       "      <td>2.0</td>\n",
       "      <td>Blurred Lines</td>\n",
       "      <td>/wiki/Blurred_Lines</td>\n",
       "      <td>/wiki/Pharrell_Williams</td>\n",
       "      <td>99.0</td>\n",
       "      <td>1973-04-05</td>\n",
       "      <td>False</td>\n",
       "    </tr>\n",
       "    <tr>\n",
       "      <th>2</th>\n",
       "      <td>2013</td>\n",
       "      <td>Pharrell Williams</td>\n",
       "      <td>14.0</td>\n",
       "      <td>Get Lucky</td>\n",
       "      <td>/wiki/Get_Lucky_(Daft_Punk_song)</td>\n",
       "      <td>/wiki/Pharrell_Williams</td>\n",
       "      <td>87.0</td>\n",
       "      <td>1973-04-05</td>\n",
       "      <td>False</td>\n",
       "    </tr>\n",
       "    <tr>\n",
       "      <th>3</th>\n",
       "      <td>2005</td>\n",
       "      <td>Pharrell</td>\n",
       "      <td>23.0</td>\n",
       "      <td>Drop It Like It's Hot</td>\n",
       "      <td>/wiki/Drop_It_Like_It%27s_Hot</td>\n",
       "      <td>/wiki/Pharrell_Williams</td>\n",
       "      <td>78.0</td>\n",
       "      <td>1973-04-05</td>\n",
       "      <td>False</td>\n",
       "    </tr>\n",
       "    <tr>\n",
       "      <th>4</th>\n",
       "      <td>2003</td>\n",
       "      <td>Pharrell</td>\n",
       "      <td>34.0</td>\n",
       "      <td>Frontin'</td>\n",
       "      <td>/wiki/Frontin%27</td>\n",
       "      <td>/wiki/Pharrell_Williams</td>\n",
       "      <td>67.0</td>\n",
       "      <td>1973-04-05</td>\n",
       "      <td>False</td>\n",
       "    </tr>\n",
       "    <tr>\n",
       "      <th>5</th>\n",
       "      <td>2006</td>\n",
       "      <td>Pharrell</td>\n",
       "      <td>35.0</td>\n",
       "      <td>Money Maker</td>\n",
       "      <td>/wiki/Money_Maker</td>\n",
       "      <td>/wiki/Pharrell_Williams</td>\n",
       "      <td>66.0</td>\n",
       "      <td>1973-04-05</td>\n",
       "      <td>False</td>\n",
       "    </tr>\n",
       "    <tr>\n",
       "      <th>6</th>\n",
       "      <td>2003</td>\n",
       "      <td>Pharrell</td>\n",
       "      <td>42.0</td>\n",
       "      <td>Beautiful</td>\n",
       "      <td>/wiki/Beautiful_(Snoop_Dogg_song)</td>\n",
       "      <td>/wiki/Pharrell_Williams</td>\n",
       "      <td>59.0</td>\n",
       "      <td>1973-04-05</td>\n",
       "      <td>False</td>\n",
       "    </tr>\n",
       "    <tr>\n",
       "      <th>7</th>\n",
       "      <td>2002</td>\n",
       "      <td>Pharrell</td>\n",
       "      <td>62.0</td>\n",
       "      <td>Pass the Courvoisier, Part II</td>\n",
       "      <td>/wiki/Pass_the_Courvoisier,_Part_II</td>\n",
       "      <td>/wiki/Pharrell_Williams</td>\n",
       "      <td>39.0</td>\n",
       "      <td>1973-04-05</td>\n",
       "      <td>False</td>\n",
       "    </tr>\n",
       "    <tr>\n",
       "      <th>8</th>\n",
       "      <td>2004</td>\n",
       "      <td>Pharrell</td>\n",
       "      <td>71.0</td>\n",
       "      <td>Drop It Like It's Hot</td>\n",
       "      <td>/wiki/Drop_It_Like_It%27s_Hot</td>\n",
       "      <td>/wiki/Pharrell_Williams</td>\n",
       "      <td>30.0</td>\n",
       "      <td>1973-04-05</td>\n",
       "      <td>False</td>\n",
       "    </tr>\n",
       "    <tr>\n",
       "      <th>9</th>\n",
       "      <td>2014</td>\n",
       "      <td>Pharrell Williams</td>\n",
       "      <td>83.0</td>\n",
       "      <td>Blurred Lines</td>\n",
       "      <td>/wiki/Blurred_Lines</td>\n",
       "      <td>/wiki/Pharrell_Williams</td>\n",
       "      <td>18.0</td>\n",
       "      <td>1973-04-05</td>\n",
       "      <td>False</td>\n",
       "    </tr>\n",
       "    <tr>\n",
       "      <th>10</th>\n",
       "      <td>2007</td>\n",
       "      <td>Pharrell</td>\n",
       "      <td>92.0</td>\n",
       "      <td>Money Maker</td>\n",
       "      <td>/wiki/Money_Maker</td>\n",
       "      <td>/wiki/Pharrell_Williams</td>\n",
       "      <td>9.0</td>\n",
       "      <td>1973-04-05</td>\n",
       "      <td>False</td>\n",
       "    </tr>\n",
       "    <tr>\n",
       "      <th>11</th>\n",
       "      <td>2013</td>\n",
       "      <td>Macklemore</td>\n",
       "      <td>1.0</td>\n",
       "      <td>Thrift Shop</td>\n",
       "      <td>/wiki/Thrift_Shop</td>\n",
       "      <td>/wiki/Macklemore</td>\n",
       "      <td>100.0</td>\n",
       "      <td>1983-06-19</td>\n",
       "      <td>False</td>\n",
       "    </tr>\n",
       "    <tr>\n",
       "      <th>12</th>\n",
       "      <td>2013</td>\n",
       "      <td>Macklemore</td>\n",
       "      <td>5.0</td>\n",
       "      <td>Can't Hold Us</td>\n",
       "      <td>/wiki/Can%27t_Hold_Us</td>\n",
       "      <td>/wiki/Macklemore</td>\n",
       "      <td>96.0</td>\n",
       "      <td>1983-06-19</td>\n",
       "      <td>False</td>\n",
       "    </tr>\n",
       "    <tr>\n",
       "      <th>13</th>\n",
       "      <td>2013</td>\n",
       "      <td>Macklemore</td>\n",
       "      <td>43.0</td>\n",
       "      <td>Same Love</td>\n",
       "      <td>/wiki/Same_Love</td>\n",
       "      <td>/wiki/Macklemore</td>\n",
       "      <td>58.0</td>\n",
       "      <td>1983-06-19</td>\n",
       "      <td>False</td>\n",
       "    </tr>\n",
       "    <tr>\n",
       "      <th>14</th>\n",
       "      <td>2013</td>\n",
       "      <td>Ryan Lewis</td>\n",
       "      <td>1.0</td>\n",
       "      <td>Thrift Shop</td>\n",
       "      <td>/wiki/Thrift_Shop</td>\n",
       "      <td>/wiki/Ryan_Lewis</td>\n",
       "      <td>100.0</td>\n",
       "      <td>1988-03-25</td>\n",
       "      <td>False</td>\n",
       "    </tr>\n",
       "    <tr>\n",
       "      <th>15</th>\n",
       "      <td>2013</td>\n",
       "      <td>Ryan Lewis</td>\n",
       "      <td>5.0</td>\n",
       "      <td>Can't Hold Us</td>\n",
       "      <td>/wiki/Can%27t_Hold_Us</td>\n",
       "      <td>/wiki/Ryan_Lewis</td>\n",
       "      <td>96.0</td>\n",
       "      <td>1988-03-25</td>\n",
       "      <td>False</td>\n",
       "    </tr>\n",
       "    <tr>\n",
       "      <th>16</th>\n",
       "      <td>2013</td>\n",
       "      <td>Ryan Lewis</td>\n",
       "      <td>43.0</td>\n",
       "      <td>Same Love</td>\n",
       "      <td>/wiki/Same_Love</td>\n",
       "      <td>/wiki/Ryan_Lewis</td>\n",
       "      <td>58.0</td>\n",
       "      <td>1988-03-25</td>\n",
       "      <td>False</td>\n",
       "    </tr>\n",
       "    <tr>\n",
       "      <th>17</th>\n",
       "      <td>2013</td>\n",
       "      <td>Wanz</td>\n",
       "      <td>1.0</td>\n",
       "      <td>Thrift Shop</td>\n",
       "      <td>/wiki/Thrift_Shop</td>\n",
       "      <td>/wiki/Wanz</td>\n",
       "      <td>100.0</td>\n",
       "      <td>1961-10-09</td>\n",
       "      <td>False</td>\n",
       "    </tr>\n",
       "    <tr>\n",
       "      <th>18</th>\n",
       "      <td>2012</td>\n",
       "      <td>Gotye</td>\n",
       "      <td>1.0</td>\n",
       "      <td>Somebody That I Used to Know</td>\n",
       "      <td>/wiki/Somebody_That_I_Used_to_Know</td>\n",
       "      <td>/wiki/Gotye</td>\n",
       "      <td>100.0</td>\n",
       "      <td>1980-05-21</td>\n",
       "      <td>False</td>\n",
       "    </tr>\n",
       "    <tr>\n",
       "      <th>19</th>\n",
       "      <td>2012</td>\n",
       "      <td>Kimbra</td>\n",
       "      <td>1.0</td>\n",
       "      <td>Somebody That I Used to Know</td>\n",
       "      <td>/wiki/Somebody_That_I_Used_to_Know</td>\n",
       "      <td>/wiki/Kimbra</td>\n",
       "      <td>100.0</td>\n",
       "      <td>1990-03-27</td>\n",
       "      <td>False</td>\n",
       "    </tr>\n",
       "    <tr>\n",
       "      <th>20</th>\n",
       "      <td>2011</td>\n",
       "      <td>Adele</td>\n",
       "      <td>1.0</td>\n",
       "      <td>Rolling in the Deep</td>\n",
       "      <td>/wiki/Rolling_in_the_Deep</td>\n",
       "      <td>/wiki/Adele</td>\n",
       "      <td>100.0</td>\n",
       "      <td>1988-05-05</td>\n",
       "      <td>False</td>\n",
       "    </tr>\n",
       "    <tr>\n",
       "      <th>21</th>\n",
       "      <td>2012</td>\n",
       "      <td>Adele</td>\n",
       "      <td>12.0</td>\n",
       "      <td>Set Fire to the Rain</td>\n",
       "      <td>/wiki/Set_Fire_to_the_Rain</td>\n",
       "      <td>/wiki/Adele</td>\n",
       "      <td>89.0</td>\n",
       "      <td>1988-05-05</td>\n",
       "      <td>False</td>\n",
       "    </tr>\n",
       "    <tr>\n",
       "      <th>22</th>\n",
       "      <td>2011</td>\n",
       "      <td>Adele</td>\n",
       "      <td>24.0</td>\n",
       "      <td>Someone Like You</td>\n",
       "      <td>/wiki/Someone_Like_You_(Adele_song)</td>\n",
       "      <td>/wiki/Adele</td>\n",
       "      <td>77.0</td>\n",
       "      <td>1988-05-05</td>\n",
       "      <td>False</td>\n",
       "    </tr>\n",
       "    <tr>\n",
       "      <th>23</th>\n",
       "      <td>2012</td>\n",
       "      <td>Adele</td>\n",
       "      <td>43.0</td>\n",
       "      <td>Someone like You</td>\n",
       "      <td>/wiki/Someone_like_You_(Adele_song)</td>\n",
       "      <td>/wiki/Adele</td>\n",
       "      <td>58.0</td>\n",
       "      <td>1988-05-05</td>\n",
       "      <td>False</td>\n",
       "    </tr>\n",
       "    <tr>\n",
       "      <th>24</th>\n",
       "      <td>2012</td>\n",
       "      <td>Adele</td>\n",
       "      <td>64.0</td>\n",
       "      <td>Rumour Has It</td>\n",
       "      <td>/wiki/Rumour_Has_It_(Adele_song)</td>\n",
       "      <td>/wiki/Adele</td>\n",
       "      <td>37.0</td>\n",
       "      <td>1988-05-05</td>\n",
       "      <td>False</td>\n",
       "    </tr>\n",
       "    <tr>\n",
       "      <th>25</th>\n",
       "      <td>2012</td>\n",
       "      <td>Adele</td>\n",
       "      <td>71.0</td>\n",
       "      <td>Rolling in the Deep</td>\n",
       "      <td>/wiki/Rolling_in_the_Deep</td>\n",
       "      <td>/wiki/Adele</td>\n",
       "      <td>30.0</td>\n",
       "      <td>1988-05-05</td>\n",
       "      <td>False</td>\n",
       "    </tr>\n",
       "    <tr>\n",
       "      <th>26</th>\n",
       "      <td>2010</td>\n",
       "      <td>Kesha</td>\n",
       "      <td>1.0</td>\n",
       "      <td>Tik Tok</td>\n",
       "      <td>/wiki/Tik_Tok</td>\n",
       "      <td>/wiki/Kesha</td>\n",
       "      <td>100.0</td>\n",
       "      <td>1987-03-01</td>\n",
       "      <td>False</td>\n",
       "    </tr>\n",
       "    <tr>\n",
       "      <th>27</th>\n",
       "      <td>2014</td>\n",
       "      <td>Kesha</td>\n",
       "      <td>11.0</td>\n",
       "      <td>Timber</td>\n",
       "      <td>/wiki/Timber_(Pitbull_song)</td>\n",
       "      <td>/wiki/Kesha</td>\n",
       "      <td>90.0</td>\n",
       "      <td>1987-03-01</td>\n",
       "      <td>False</td>\n",
       "    </tr>\n",
       "    <tr>\n",
       "      <th>28</th>\n",
       "      <td>2010</td>\n",
       "      <td>Kesha</td>\n",
       "      <td>28.0</td>\n",
       "      <td>Your Love Is My Drug</td>\n",
       "      <td>/wiki/Your_Love_Is_My_Drug</td>\n",
       "      <td>/wiki/Kesha</td>\n",
       "      <td>73.0</td>\n",
       "      <td>1987-03-01</td>\n",
       "      <td>False</td>\n",
       "    </tr>\n",
       "    <tr>\n",
       "      <th>29</th>\n",
       "      <td>2011</td>\n",
       "      <td>Kesha</td>\n",
       "      <td>30.0</td>\n",
       "      <td>We R Who We R</td>\n",
       "      <td>/wiki/We_R_Who_We_R</td>\n",
       "      <td>/wiki/Kesha</td>\n",
       "      <td>71.0</td>\n",
       "      <td>1987-03-01</td>\n",
       "      <td>False</td>\n",
       "    </tr>\n",
       "    <tr>\n",
       "      <th>...</th>\n",
       "      <td>...</td>\n",
       "      <td>...</td>\n",
       "      <td>...</td>\n",
       "      <td>...</td>\n",
       "      <td>...</td>\n",
       "      <td>...</td>\n",
       "      <td>...</td>\n",
       "      <td>...</td>\n",
       "      <td>...</td>\n",
       "    </tr>\n",
       "    <tr>\n",
       "      <th>2970</th>\n",
       "      <td>1995</td>\n",
       "      <td>N II U</td>\n",
       "      <td>96.0</td>\n",
       "      <td>I Miss You</td>\n",
       "      <td>/wiki/I_Miss_You_(N_II_U_song)</td>\n",
       "      <td>/wiki/N_II_U</td>\n",
       "      <td>5.0</td>\n",
       "      <td>False</td>\n",
       "      <td>False</td>\n",
       "    </tr>\n",
       "    <tr>\n",
       "      <th>2971</th>\n",
       "      <td>2009</td>\n",
       "      <td>Michael Franti &amp; Spearhead</td>\n",
       "      <td>97.0</td>\n",
       "      <td>Say Hey (I Love You)</td>\n",
       "      <td>/wiki/Say_Hey_(I_Love_You)</td>\n",
       "      <td>/wiki/Michael_Franti</td>\n",
       "      <td>4.0</td>\n",
       "      <td>1966-04-21</td>\n",
       "      <td>False</td>\n",
       "    </tr>\n",
       "    <tr>\n",
       "      <th>2972</th>\n",
       "      <td>2009</td>\n",
       "      <td>Cherine Anderson</td>\n",
       "      <td>97.0</td>\n",
       "      <td>Say Hey (I Love You)</td>\n",
       "      <td>/wiki/Say_Hey_(I_Love_You)</td>\n",
       "      <td>/wiki/Cherine_Anderson</td>\n",
       "      <td>4.0</td>\n",
       "      <td>1984-09-25</td>\n",
       "      <td>False</td>\n",
       "    </tr>\n",
       "    <tr>\n",
       "      <th>2973</th>\n",
       "      <td>2008</td>\n",
       "      <td>Saving Abel</td>\n",
       "      <td>97.0</td>\n",
       "      <td>Addicted</td>\n",
       "      <td>/wiki/Addicted_(Saving_Abel_song)</td>\n",
       "      <td>/wiki/Saving_Abel</td>\n",
       "      <td>4.0</td>\n",
       "      <td>False</td>\n",
       "      <td>2004–present</td>\n",
       "    </tr>\n",
       "    <tr>\n",
       "      <th>2974</th>\n",
       "      <td>2004</td>\n",
       "      <td>Gretchen Wilson</td>\n",
       "      <td>97.0</td>\n",
       "      <td>Redneck Woman</td>\n",
       "      <td>/wiki/Redneck_Woman</td>\n",
       "      <td>/wiki/Gretchen_Wilson</td>\n",
       "      <td>4.0</td>\n",
       "      <td>1973-06-26</td>\n",
       "      <td>False</td>\n",
       "    </tr>\n",
       "    <tr>\n",
       "      <th>2975</th>\n",
       "      <td>2003</td>\n",
       "      <td>Norah Jones</td>\n",
       "      <td>97.0</td>\n",
       "      <td>Don't Know Why</td>\n",
       "      <td>/wiki/Don%27t_Know_Why</td>\n",
       "      <td>/wiki/Norah_Jones</td>\n",
       "      <td>4.0</td>\n",
       "      <td>1979-03-30</td>\n",
       "      <td>False</td>\n",
       "    </tr>\n",
       "    <tr>\n",
       "      <th>2976</th>\n",
       "      <td>1997</td>\n",
       "      <td>The Blackout All-Stars</td>\n",
       "      <td>97.0</td>\n",
       "      <td>I Like It</td>\n",
       "      <td>/wiki/I_Like_It_Like_That_(Pete_Rodriguez_song...</td>\n",
       "      <td>/wiki/The_Blackout_All-Stars</td>\n",
       "      <td>4.0</td>\n",
       "      <td>False</td>\n",
       "      <td>1994</td>\n",
       "    </tr>\n",
       "    <tr>\n",
       "      <th>2977</th>\n",
       "      <td>1993</td>\n",
       "      <td>Tony! Toni! Tone!</td>\n",
       "      <td>97.0</td>\n",
       "      <td>Anniversary</td>\n",
       "      <td>/wiki/Anniversary</td>\n",
       "      <td>/wiki/Tony!_Toni!_Tone!</td>\n",
       "      <td>4.0</td>\n",
       "      <td>False</td>\n",
       "      <td>1988–1997\\n2003–present</td>\n",
       "    </tr>\n",
       "    <tr>\n",
       "      <th>2978</th>\n",
       "      <td>2013</td>\n",
       "      <td>Randy Houser</td>\n",
       "      <td>98.0</td>\n",
       "      <td>Runnin' Outta Moonlight</td>\n",
       "      <td>/wiki/Runnin%27_Outta_Moonlight</td>\n",
       "      <td>/wiki/Randy_Houser</td>\n",
       "      <td>3.0</td>\n",
       "      <td>1975-12-18</td>\n",
       "      <td>False</td>\n",
       "    </tr>\n",
       "    <tr>\n",
       "      <th>2979</th>\n",
       "      <td>2011</td>\n",
       "      <td>Grace Potter</td>\n",
       "      <td>98.0</td>\n",
       "      <td>You and Tequila</td>\n",
       "      <td>/wiki/You_and_Tequila</td>\n",
       "      <td>/wiki/Grace_Potter_and_the_Nocturnals</td>\n",
       "      <td>3.0</td>\n",
       "      <td>False</td>\n",
       "      <td>2002 (2002)–present</td>\n",
       "    </tr>\n",
       "    <tr>\n",
       "      <th>2980</th>\n",
       "      <td>2010</td>\n",
       "      <td>Cali Swag District</td>\n",
       "      <td>98.0</td>\n",
       "      <td>Teach Me How to Dougie</td>\n",
       "      <td>/wiki/Teach_Me_How_to_Dougie</td>\n",
       "      <td>/wiki/Cali_Swag_District</td>\n",
       "      <td>3.0</td>\n",
       "      <td>False</td>\n",
       "      <td>2009-2015</td>\n",
       "    </tr>\n",
       "    <tr>\n",
       "      <th>2981</th>\n",
       "      <td>2009</td>\n",
       "      <td>Ron Browz</td>\n",
       "      <td>98.0</td>\n",
       "      <td>Pop Champagne</td>\n",
       "      <td>/wiki/Pop_Champagne</td>\n",
       "      <td>/wiki/Ron_Browz</td>\n",
       "      <td>3.0</td>\n",
       "      <td>1982-12-06</td>\n",
       "      <td>False</td>\n",
       "    </tr>\n",
       "    <tr>\n",
       "      <th>2982</th>\n",
       "      <td>2001</td>\n",
       "      <td>Bravehearts</td>\n",
       "      <td>98.0</td>\n",
       "      <td>Oochie Wally</td>\n",
       "      <td>/wiki/Oochie_Wally</td>\n",
       "      <td>/wiki/Bravehearts</td>\n",
       "      <td>3.0</td>\n",
       "      <td>False</td>\n",
       "      <td>1998–present</td>\n",
       "    </tr>\n",
       "    <tr>\n",
       "      <th>2983</th>\n",
       "      <td>2000</td>\n",
       "      <td>Samantha Mumba</td>\n",
       "      <td>98.0</td>\n",
       "      <td>Gotta Tell You</td>\n",
       "      <td>/wiki/Gotta_Tell_You_(song)</td>\n",
       "      <td>/wiki/Samantha_Mumba</td>\n",
       "      <td>3.0</td>\n",
       "      <td>1983-01-18</td>\n",
       "      <td>False</td>\n",
       "    </tr>\n",
       "    <tr>\n",
       "      <th>2984</th>\n",
       "      <td>1998</td>\n",
       "      <td>Gerald Levert</td>\n",
       "      <td>98.0</td>\n",
       "      <td>Thinkin' Bout It</td>\n",
       "      <td>None</td>\n",
       "      <td>/wiki/Gerald_Levert</td>\n",
       "      <td>3.0</td>\n",
       "      <td>1966-07-13</td>\n",
       "      <td>False</td>\n",
       "    </tr>\n",
       "    <tr>\n",
       "      <th>2985</th>\n",
       "      <td>2006</td>\n",
       "      <td>Taylor Hicks</td>\n",
       "      <td>99.0</td>\n",
       "      <td>Do I Make You Proud</td>\n",
       "      <td>/wiki/Do_I_Make_You_Proud</td>\n",
       "      <td>/wiki/Taylor_Hicks</td>\n",
       "      <td>2.0</td>\n",
       "      <td>1976-10-07</td>\n",
       "      <td>False</td>\n",
       "    </tr>\n",
       "    <tr>\n",
       "      <th>2986</th>\n",
       "      <td>2004</td>\n",
       "      <td>John Michael Montgomery</td>\n",
       "      <td>99.0</td>\n",
       "      <td>Letters from Home</td>\n",
       "      <td>/wiki/Letters_from_Home_(song)</td>\n",
       "      <td>/wiki/John_Michael_Montgomery</td>\n",
       "      <td>2.0</td>\n",
       "      <td>1965-01-20</td>\n",
       "      <td>False</td>\n",
       "    </tr>\n",
       "    <tr>\n",
       "      <th>2987</th>\n",
       "      <td>1994</td>\n",
       "      <td>George Clinton</td>\n",
       "      <td>99.0</td>\n",
       "      <td>Bop Gun (One Nation)</td>\n",
       "      <td>/wiki/Bop_Gun_(One_Nation)</td>\n",
       "      <td>/wiki/George_Clinton_(musician)</td>\n",
       "      <td>2.0</td>\n",
       "      <td>1941-07-22</td>\n",
       "      <td>False</td>\n",
       "    </tr>\n",
       "    <tr>\n",
       "      <th>2988</th>\n",
       "      <td>1993</td>\n",
       "      <td>Taylor Dayne</td>\n",
       "      <td>99.0</td>\n",
       "      <td>Can't Get Enough of Your Love</td>\n",
       "      <td>/wiki/Can%27t_Get_Enough_of_Your_Love</td>\n",
       "      <td>/wiki/Taylor_Dayne</td>\n",
       "      <td>2.0</td>\n",
       "      <td>1962-03-07</td>\n",
       "      <td>False</td>\n",
       "    </tr>\n",
       "    <tr>\n",
       "      <th>2989</th>\n",
       "      <td>2010</td>\n",
       "      <td>Jerrod Niemann</td>\n",
       "      <td>100.0</td>\n",
       "      <td>Lover, Lover</td>\n",
       "      <td>/wiki/Lover,_Lover</td>\n",
       "      <td>/wiki/Jerrod_Niemann</td>\n",
       "      <td>1.0</td>\n",
       "      <td>1979-07-24</td>\n",
       "      <td>False</td>\n",
       "    </tr>\n",
       "    <tr>\n",
       "      <th>2990</th>\n",
       "      <td>2008</td>\n",
       "      <td>2 Pistols</td>\n",
       "      <td>100.0</td>\n",
       "      <td>She Got It</td>\n",
       "      <td>/wiki/She_Got_It</td>\n",
       "      <td>/wiki/2_Pistols</td>\n",
       "      <td>1.0</td>\n",
       "      <td>1983-06-11</td>\n",
       "      <td>False</td>\n",
       "    </tr>\n",
       "    <tr>\n",
       "      <th>2991</th>\n",
       "      <td>2008</td>\n",
       "      <td>Tay Dizm</td>\n",
       "      <td>100.0</td>\n",
       "      <td>She Got It</td>\n",
       "      <td>/wiki/She_Got_It</td>\n",
       "      <td>/wiki/Tay_Dizm</td>\n",
       "      <td>1.0</td>\n",
       "      <td>1980-05-03</td>\n",
       "      <td>False</td>\n",
       "    </tr>\n",
       "    <tr>\n",
       "      <th>2992</th>\n",
       "      <td>2006</td>\n",
       "      <td>Teddy Geiger</td>\n",
       "      <td>100.0</td>\n",
       "      <td>For You I Will (Confidence)</td>\n",
       "      <td>/wiki/For_You_I_Will_(Confidence)</td>\n",
       "      <td>/wiki/Teddy_Geiger</td>\n",
       "      <td>1.0</td>\n",
       "      <td>1988-09-16</td>\n",
       "      <td>False</td>\n",
       "    </tr>\n",
       "    <tr>\n",
       "      <th>2993</th>\n",
       "      <td>2005</td>\n",
       "      <td>Bun B</td>\n",
       "      <td>100.0</td>\n",
       "      <td>Give Me That</td>\n",
       "      <td>/wiki/Give_Me_That</td>\n",
       "      <td>/wiki/Bun_B</td>\n",
       "      <td>1.0</td>\n",
       "      <td>1973-03-19</td>\n",
       "      <td>False</td>\n",
       "    </tr>\n",
       "    <tr>\n",
       "      <th>2994</th>\n",
       "      <td>2003</td>\n",
       "      <td>Floetry</td>\n",
       "      <td>100.0</td>\n",
       "      <td>Say Yes</td>\n",
       "      <td>/wiki/Say_Yes_(Floetry_song)</td>\n",
       "      <td>/wiki/Floetry</td>\n",
       "      <td>1.0</td>\n",
       "      <td>False</td>\n",
       "      <td>\\n\\n\\n1997–2005\\n2015–2016\\n\\n\\n</td>\n",
       "    </tr>\n",
       "    <tr>\n",
       "      <th>2995</th>\n",
       "      <td>2001</td>\n",
       "      <td>Fuel</td>\n",
       "      <td>100.0</td>\n",
       "      <td>Hemorrhage (In My Hands)</td>\n",
       "      <td>/wiki/Hemorrhage_(In_My_Hands)</td>\n",
       "      <td>/wiki/Fuel_(band)</td>\n",
       "      <td>1.0</td>\n",
       "      <td>False</td>\n",
       "      <td>1994–present</td>\n",
       "    </tr>\n",
       "    <tr>\n",
       "      <th>2996</th>\n",
       "      <td>2000</td>\n",
       "      <td>Mary Mary</td>\n",
       "      <td>100.0</td>\n",
       "      <td>Shackles (Praise You)</td>\n",
       "      <td>/wiki/Shackles_(Praise_You)</td>\n",
       "      <td>/wiki/Mary_Mary</td>\n",
       "      <td>1.0</td>\n",
       "      <td>False</td>\n",
       "      <td>1998–present</td>\n",
       "    </tr>\n",
       "    <tr>\n",
       "      <th>2997</th>\n",
       "      <td>1999</td>\n",
       "      <td>Alabama</td>\n",
       "      <td>100.0</td>\n",
       "      <td>(God Must Have Spent) A Little More Time on You</td>\n",
       "      <td>/wiki/(God_Must_Have_Spent)_A_Little_More_Time...</td>\n",
       "      <td>/wiki/Alabama_(band)</td>\n",
       "      <td>1.0</td>\n",
       "      <td>False</td>\n",
       "      <td>1969–2004, 2006–2007, 2010–present</td>\n",
       "    </tr>\n",
       "    <tr>\n",
       "      <th>2998</th>\n",
       "      <td>1998</td>\n",
       "      <td>TQ</td>\n",
       "      <td>100.0</td>\n",
       "      <td>Westside</td>\n",
       "      <td>/wiki/Westside_(TQ_song)</td>\n",
       "      <td>/wiki/TQ_(singer)</td>\n",
       "      <td>1.0</td>\n",
       "      <td>1976-05-24</td>\n",
       "      <td>False</td>\n",
       "    </tr>\n",
       "    <tr>\n",
       "      <th>2999</th>\n",
       "      <td>1995</td>\n",
       "      <td>Van Halen</td>\n",
       "      <td>100.0</td>\n",
       "      <td>Can't Stop Lovin' You</td>\n",
       "      <td>/wiki/Can%27t_Stop_Lovin%27_You</td>\n",
       "      <td>/wiki/Van_Halen</td>\n",
       "      <td>1.0</td>\n",
       "      <td>False</td>\n",
       "      <td>1972–present</td>\n",
       "    </tr>\n",
       "  </tbody>\n",
       "</table>\n",
       "<p>3000 rows × 9 columns</p>\n",
       "</div>"
      ],
      "text/plain": [
       "      year                 band_singer  ranking                                             song                                            songurl                                    url  score        born                                  ya\n",
       "0     2014           Pharrell Williams      1.0                                            Happy               /wiki/Happy_(Pharrell_Williams_song)                /wiki/Pharrell_Williams  100.0  1973-04-05                               False\n",
       "1     2013           Pharrell Williams      2.0                                    Blurred Lines                                /wiki/Blurred_Lines                /wiki/Pharrell_Williams   99.0  1973-04-05                               False\n",
       "2     2013           Pharrell Williams     14.0                                        Get Lucky                   /wiki/Get_Lucky_(Daft_Punk_song)                /wiki/Pharrell_Williams   87.0  1973-04-05                               False\n",
       "3     2005                    Pharrell     23.0                            Drop It Like It's Hot                      /wiki/Drop_It_Like_It%27s_Hot                /wiki/Pharrell_Williams   78.0  1973-04-05                               False\n",
       "4     2003                    Pharrell     34.0                                         Frontin'                                   /wiki/Frontin%27                /wiki/Pharrell_Williams   67.0  1973-04-05                               False\n",
       "5     2006                    Pharrell     35.0                                      Money Maker                                  /wiki/Money_Maker                /wiki/Pharrell_Williams   66.0  1973-04-05                               False\n",
       "6     2003                    Pharrell     42.0                                        Beautiful                  /wiki/Beautiful_(Snoop_Dogg_song)                /wiki/Pharrell_Williams   59.0  1973-04-05                               False\n",
       "7     2002                    Pharrell     62.0                    Pass the Courvoisier, Part II                /wiki/Pass_the_Courvoisier,_Part_II                /wiki/Pharrell_Williams   39.0  1973-04-05                               False\n",
       "8     2004                    Pharrell     71.0                            Drop It Like It's Hot                      /wiki/Drop_It_Like_It%27s_Hot                /wiki/Pharrell_Williams   30.0  1973-04-05                               False\n",
       "9     2014           Pharrell Williams     83.0                                    Blurred Lines                                /wiki/Blurred_Lines                /wiki/Pharrell_Williams   18.0  1973-04-05                               False\n",
       "10    2007                    Pharrell     92.0                                      Money Maker                                  /wiki/Money_Maker                /wiki/Pharrell_Williams    9.0  1973-04-05                               False\n",
       "11    2013                  Macklemore      1.0                                      Thrift Shop                                  /wiki/Thrift_Shop                       /wiki/Macklemore  100.0  1983-06-19                               False\n",
       "12    2013                  Macklemore      5.0                                    Can't Hold Us                              /wiki/Can%27t_Hold_Us                       /wiki/Macklemore   96.0  1983-06-19                               False\n",
       "13    2013                  Macklemore     43.0                                        Same Love                                    /wiki/Same_Love                       /wiki/Macklemore   58.0  1983-06-19                               False\n",
       "14    2013                  Ryan Lewis      1.0                                      Thrift Shop                                  /wiki/Thrift_Shop                       /wiki/Ryan_Lewis  100.0  1988-03-25                               False\n",
       "15    2013                  Ryan Lewis      5.0                                    Can't Hold Us                              /wiki/Can%27t_Hold_Us                       /wiki/Ryan_Lewis   96.0  1988-03-25                               False\n",
       "16    2013                  Ryan Lewis     43.0                                        Same Love                                    /wiki/Same_Love                       /wiki/Ryan_Lewis   58.0  1988-03-25                               False\n",
       "17    2013                        Wanz      1.0                                      Thrift Shop                                  /wiki/Thrift_Shop                             /wiki/Wanz  100.0  1961-10-09                               False\n",
       "18    2012                       Gotye      1.0                     Somebody That I Used to Know                 /wiki/Somebody_That_I_Used_to_Know                            /wiki/Gotye  100.0  1980-05-21                               False\n",
       "19    2012                      Kimbra      1.0                     Somebody That I Used to Know                 /wiki/Somebody_That_I_Used_to_Know                           /wiki/Kimbra  100.0  1990-03-27                               False\n",
       "20    2011                       Adele      1.0                              Rolling in the Deep                          /wiki/Rolling_in_the_Deep                            /wiki/Adele  100.0  1988-05-05                               False\n",
       "21    2012                       Adele     12.0                             Set Fire to the Rain                         /wiki/Set_Fire_to_the_Rain                            /wiki/Adele   89.0  1988-05-05                               False\n",
       "22    2011                       Adele     24.0                                 Someone Like You                /wiki/Someone_Like_You_(Adele_song)                            /wiki/Adele   77.0  1988-05-05                               False\n",
       "23    2012                       Adele     43.0                                 Someone like You                /wiki/Someone_like_You_(Adele_song)                            /wiki/Adele   58.0  1988-05-05                               False\n",
       "24    2012                       Adele     64.0                                    Rumour Has It                   /wiki/Rumour_Has_It_(Adele_song)                            /wiki/Adele   37.0  1988-05-05                               False\n",
       "25    2012                       Adele     71.0                              Rolling in the Deep                          /wiki/Rolling_in_the_Deep                            /wiki/Adele   30.0  1988-05-05                               False\n",
       "26    2010                       Kesha      1.0                                          Tik Tok                                      /wiki/Tik_Tok                            /wiki/Kesha  100.0  1987-03-01                               False\n",
       "27    2014                       Kesha     11.0                                           Timber                        /wiki/Timber_(Pitbull_song)                            /wiki/Kesha   90.0  1987-03-01                               False\n",
       "28    2010                       Kesha     28.0                             Your Love Is My Drug                         /wiki/Your_Love_Is_My_Drug                            /wiki/Kesha   73.0  1987-03-01                               False\n",
       "29    2011                       Kesha     30.0                                    We R Who We R                                /wiki/We_R_Who_We_R                            /wiki/Kesha   71.0  1987-03-01                               False\n",
       "...    ...                         ...      ...                                              ...                                                ...                                    ...    ...         ...                                 ...\n",
       "2970  1995                      N II U     96.0                                       I Miss You                     /wiki/I_Miss_You_(N_II_U_song)                           /wiki/N_II_U    5.0       False                               False\n",
       "2971  2009  Michael Franti & Spearhead     97.0                             Say Hey (I Love You)                         /wiki/Say_Hey_(I_Love_You)                   /wiki/Michael_Franti    4.0  1966-04-21                               False\n",
       "2972  2009            Cherine Anderson     97.0                             Say Hey (I Love You)                         /wiki/Say_Hey_(I_Love_You)                 /wiki/Cherine_Anderson    4.0  1984-09-25                               False\n",
       "2973  2008                 Saving Abel     97.0                                         Addicted                  /wiki/Addicted_(Saving_Abel_song)                      /wiki/Saving_Abel    4.0       False                        2004–present\n",
       "2974  2004             Gretchen Wilson     97.0                                    Redneck Woman                                /wiki/Redneck_Woman                  /wiki/Gretchen_Wilson    4.0  1973-06-26                               False\n",
       "2975  2003                 Norah Jones     97.0                                   Don't Know Why                             /wiki/Don%27t_Know_Why                      /wiki/Norah_Jones    4.0  1979-03-30                               False\n",
       "2976  1997      The Blackout All-Stars     97.0                                        I Like It  /wiki/I_Like_It_Like_That_(Pete_Rodriguez_song...           /wiki/The_Blackout_All-Stars    4.0       False                                1994\n",
       "2977  1993           Tony! Toni! Tone!     97.0                                      Anniversary                                  /wiki/Anniversary                /wiki/Tony!_Toni!_Tone!    4.0       False             1988–1997\\n2003–present\n",
       "2978  2013                Randy Houser     98.0                          Runnin' Outta Moonlight                    /wiki/Runnin%27_Outta_Moonlight                     /wiki/Randy_Houser    3.0  1975-12-18                               False\n",
       "2979  2011                Grace Potter     98.0                                  You and Tequila                              /wiki/You_and_Tequila  /wiki/Grace_Potter_and_the_Nocturnals    3.0       False                 2002 (2002)–present\n",
       "2980  2010          Cali Swag District     98.0                           Teach Me How to Dougie                       /wiki/Teach_Me_How_to_Dougie               /wiki/Cali_Swag_District    3.0       False                           2009-2015\n",
       "2981  2009                   Ron Browz     98.0                                    Pop Champagne                                /wiki/Pop_Champagne                        /wiki/Ron_Browz    3.0  1982-12-06                               False\n",
       "2982  2001                 Bravehearts     98.0                                     Oochie Wally                                 /wiki/Oochie_Wally                      /wiki/Bravehearts    3.0       False                        1998–present\n",
       "2983  2000              Samantha Mumba     98.0                                   Gotta Tell You                        /wiki/Gotta_Tell_You_(song)                   /wiki/Samantha_Mumba    3.0  1983-01-18                               False\n",
       "2984  1998               Gerald Levert     98.0                                 Thinkin' Bout It                                               None                    /wiki/Gerald_Levert    3.0  1966-07-13                               False\n",
       "2985  2006                Taylor Hicks     99.0                              Do I Make You Proud                          /wiki/Do_I_Make_You_Proud                     /wiki/Taylor_Hicks    2.0  1976-10-07                               False\n",
       "2986  2004     John Michael Montgomery     99.0                                Letters from Home                     /wiki/Letters_from_Home_(song)          /wiki/John_Michael_Montgomery    2.0  1965-01-20                               False\n",
       "2987  1994              George Clinton     99.0                             Bop Gun (One Nation)                         /wiki/Bop_Gun_(One_Nation)        /wiki/George_Clinton_(musician)    2.0  1941-07-22                               False\n",
       "2988  1993                Taylor Dayne     99.0                    Can't Get Enough of Your Love              /wiki/Can%27t_Get_Enough_of_Your_Love                     /wiki/Taylor_Dayne    2.0  1962-03-07                               False\n",
       "2989  2010              Jerrod Niemann    100.0                                     Lover, Lover                                 /wiki/Lover,_Lover                   /wiki/Jerrod_Niemann    1.0  1979-07-24                               False\n",
       "2990  2008                   2 Pistols    100.0                                       She Got It                                   /wiki/She_Got_It                        /wiki/2_Pistols    1.0  1983-06-11                               False\n",
       "2991  2008                    Tay Dizm    100.0                                       She Got It                                   /wiki/She_Got_It                         /wiki/Tay_Dizm    1.0  1980-05-03                               False\n",
       "2992  2006                Teddy Geiger    100.0                      For You I Will (Confidence)                  /wiki/For_You_I_Will_(Confidence)                     /wiki/Teddy_Geiger    1.0  1988-09-16                               False\n",
       "2993  2005                       Bun B    100.0                                     Give Me That                                 /wiki/Give_Me_That                            /wiki/Bun_B    1.0  1973-03-19                               False\n",
       "2994  2003                     Floetry    100.0                                          Say Yes                       /wiki/Say_Yes_(Floetry_song)                          /wiki/Floetry    1.0       False    \\n\\n\\n1997–2005\\n2015–2016\\n\\n\\n\n",
       "2995  2001                        Fuel    100.0                         Hemorrhage (In My Hands)                     /wiki/Hemorrhage_(In_My_Hands)                      /wiki/Fuel_(band)    1.0       False                        1994–present\n",
       "2996  2000                   Mary Mary    100.0                            Shackles (Praise You)                        /wiki/Shackles_(Praise_You)                        /wiki/Mary_Mary    1.0       False                        1998–present\n",
       "2997  1999                     Alabama    100.0  (God Must Have Spent) A Little More Time on You  /wiki/(God_Must_Have_Spent)_A_Little_More_Time...                   /wiki/Alabama_(band)    1.0       False  1969–2004, 2006–2007, 2010–present\n",
       "2998  1998                          TQ    100.0                                         Westside                           /wiki/Westside_(TQ_song)                      /wiki/TQ_(singer)    1.0  1976-05-24                               False\n",
       "2999  1995                   Van Halen    100.0                            Can't Stop Lovin' You                    /wiki/Can%27t_Stop_Lovin%27_You                        /wiki/Van_Halen    1.0       False                        1972–present\n",
       "\n",
       "[3000 rows x 9 columns]"
      ]
     },
     "execution_count": 119,
     "metadata": {},
     "output_type": "execute_result"
    }
   ],
   "source": [
    "largedf = pd.merge(df,newdf,on = 'url')\n",
    "largedf"
   ]
  },
  {
   "cell_type": "markdown",
   "metadata": {},
   "source": [
    "#### 2.3 What is the age at which singers achieve their top ranking?"
   ]
  },
  {
   "cell_type": "markdown",
   "metadata": {},
   "source": [
    "Plot a histogram of the age at which singers achieve their top ranking. What conclusions can you draw from this distribution of ages?\n",
    "\n",
    "*HINT: You will need to do some manipulation of the `born` column, and find the song for which a band or an artist achieves their top ranking. You will then need to put these rows together into another dataframe or array to make the plot.*"
   ]
  },
  {
   "cell_type": "code",
   "execution_count": 120,
   "metadata": {
    "collapsed": false,
    "scrolled": true
   },
   "outputs": [],
   "source": [
    "pd.options.mode.chained_assignment = None \n",
    "xq = largedf.loc[largedf['born'] != False]\n",
    "xq['score'] = 101 - xq['ranking']\n",
    "xq['byear'] = xq['born'].str[0:4]\n",
    "xq['byear'] = xq.byear.astype(int)\n",
    "xq['age'] = xq['year'] -xq['byear']"
   ]
  },
  {
   "cell_type": "code",
   "execution_count": 122,
   "metadata": {
    "collapsed": false
   },
   "outputs": [],
   "source": [
    "agehistdata = xq.groupby('band_singer').agg({'score':'max', 'age':'first'})"
   ]
  },
  {
   "cell_type": "code",
   "execution_count": 123,
   "metadata": {
    "collapsed": false
   },
   "outputs": [
    {
     "name": "stderr",
     "output_type": "stream",
     "text": [
      "C:\\Users\\Shaan Desai\\Anaconda3\\lib\\site-packages\\statsmodels\\nonparametric\\kdetools.py:20: VisibleDeprecationWarning: using a non-integer number instead of an integer will result in an error in the future\n",
      "  y = X[:m/2+1] + np.r_[0,X[m/2+1:],0]*1j\n"
     ]
    },
    {
     "data": {
      "text/plain": [
       "<matplotlib.axes._subplots.AxesSubplot at 0x2ad117a74a8>"
      ]
     },
     "execution_count": 123,
     "metadata": {},
     "output_type": "execute_result"
    },
    {
     "data": {
      "image/png": "[encoded data removed]",
      "text/plain": [
       "<matplotlib.figure.Figure at 0x2ad6f621be0>"
      ]
     },
     "metadata": {},
     "output_type": "display_data"
    }
   ],
   "source": [
    "sns.distplot(agehistdata['age'].values)"
   ]
  },
  {
   "cell_type": "markdown",
   "metadata": {},
   "source": [
    "#### 2.4 At what year since inception do bands reach their top rankings?"
   ]
  },
  {
   "cell_type": "markdown",
   "metadata": {},
   "source": [
    "Make a similar calculation to plot a histogram of the years since inception at which bands reach their top ranking. What conclusions can you draw?"
   ]
  },
  {
   "cell_type": "code",
   "execution_count": 135,
   "metadata": {
    "collapsed": false
   },
   "outputs": [
    {
     "name": "stderr",
     "output_type": "stream",
     "text": [
      "C:\\Users\\Shaan Desai\\Anaconda3\\lib\\site-packages\\statsmodels\\nonparametric\\kdetools.py:20: VisibleDeprecationWarning: using a non-integer number instead of an integer will result in an error in the future\n",
      "  y = X[:m/2+1] + np.r_[0,X[m/2+1:],0]*1j\n"
     ]
    },
    {
     "data": {
      "text/plain": [
       "<matplotlib.axes._subplots.AxesSubplot at 0x2ad6f8e3550>"
      ]
     },
     "execution_count": 135,
     "metadata": {},
     "output_type": "execute_result"
    },
    {
     "data": {
      "image/png": "[encoded data removed]",
      "text/plain": [
       "<matplotlib.figure.Figure at 0x2ad6f200240>"
      ]
     },
     "metadata": {},
     "output_type": "display_data"
    }
   ],
   "source": [
    "xa = largedf.loc[largedf['ya'] != False]\n",
    "xa['score'] = 101 - xa['ranking']\n",
    "xa['byear'] = xa['ya'].str[0:4]\n",
    "xa['byear'] = xa.byear.astype(int)\n",
    "xa['age'] = xa['year'] -xa['byear']\n",
    "xa = xa[xa['age']<100]\n",
    "bandagehistdata = xa.groupby('band_singer').agg({'score':'max', 'age':'first'})\n",
    "sns.distplot(bandagehistdata['age'].values)"
   ]
  },
  {
   "cell_type": "markdown",
   "metadata": {
    "collapsed": true
   },
   "source": [
    "<font color = 'green'> We can see from the figures above that bands usually attain their highest score in the early stages of their founding. We find that individual artists usually achieve their highest ranking song in their mid to late 20's. While individual singers achieve their score in this range, the variance in age is larger than the variance in the age of a band "
   ]
  },
  {
   "cell_type": "code",
   "execution_count": null,
   "metadata": {
    "collapsed": true
   },
   "outputs": [],
   "source": []
  },
  {
   "cell_type": "code",
   "execution_count": null,
   "metadata": {
    "collapsed": true
   },
   "outputs": [],
   "source": []
  },
  {
   "cell_type": "code",
   "execution_count": null,
   "metadata": {
    "collapsed": true
   },
   "outputs": [],
   "source": []
  },
  {
   "cell_type": "code",
   "execution_count": null,
   "metadata": {
    "collapsed": true
   },
   "outputs": [],
   "source": []
  },
  {
   "cell_type": "code",
   "execution_count": null,
   "metadata": {
    "collapsed": true
   },
   "outputs": [],
   "source": []
  },
  {
   "cell_type": "code",
   "execution_count": null,
   "metadata": {
    "collapsed": true
   },
   "outputs": [],
   "source": []
  },
  {
   "cell_type": "code",
   "execution_count": null,
   "metadata": {
    "collapsed": true
   },
   "outputs": [],
   "source": []
  },
  {
   "cell_type": "code",
   "execution_count": null,
   "metadata": {
    "collapsed": true
   },
   "outputs": [],
   "source": []
  },
  {
   "cell_type": "code",
   "execution_count": null,
   "metadata": {
    "collapsed": true
   },
   "outputs": [],
   "source": []
  },
  {
   "cell_type": "code",
   "execution_count": null,
   "metadata": {
    "collapsed": true
   },
   "outputs": [],
   "source": []
  },
  {
   "cell_type": "code",
   "execution_count": null,
   "metadata": {
    "collapsed": true
   },
   "outputs": [],
   "source": []
  },
  {
   "cell_type": "code",
   "execution_count": null,
   "metadata": {
    "collapsed": true
   },
   "outputs": [],
   "source": []
  },
  {
   "cell_type": "code",
   "execution_count": null,
   "metadata": {
    "collapsed": true
   },
   "outputs": [],
   "source": []
  },
  {
   "cell_type": "code",
   "execution_count": null,
   "metadata": {
    "collapsed": true
   },
   "outputs": [],
   "source": []
  },
  {
   "cell_type": "code",
   "execution_count": null,
   "metadata": {
    "collapsed": true
   },
   "outputs": [],
   "source": []
  },
  {
   "cell_type": "code",
   "execution_count": null,
   "metadata": {
    "collapsed": true
   },
   "outputs": [],
   "source": []
  },
  {
   "cell_type": "code",
   "execution_count": null,
   "metadata": {
    "collapsed": true
   },
   "outputs": [],
   "source": []
  },
  {
   "cell_type": "code",
   "execution_count": null,
   "metadata": {
    "collapsed": true
   },
   "outputs": [],
   "source": []
  },
  {
   "cell_type": "code",
   "execution_count": null,
   "metadata": {
    "collapsed": true
   },
   "outputs": [],
   "source": []
  },
  {
   "cell_type": "code",
   "execution_count": null,
   "metadata": {
    "collapsed": true
   },
   "outputs": [],
   "source": []
  },
  {
   "cell_type": "code",
   "execution_count": null,
   "metadata": {
    "collapsed": true
   },
   "outputs": [],
   "source": []
  },
  {
   "cell_type": "code",
   "execution_count": null,
   "metadata": {
    "collapsed": true
   },
   "outputs": [],
   "source": []
  },
  {
   "cell_type": "code",
   "execution_count": null,
   "metadata": {
    "collapsed": true
   },
   "outputs": [],
   "source": []
  },
  {
   "cell_type": "code",
   "execution_count": null,
   "metadata": {
    "collapsed": true
   },
   "outputs": [],
   "source": []
  },
  {
   "cell_type": "code",
   "execution_count": null,
   "metadata": {
    "collapsed": true
   },
   "outputs": [],
   "source": []
  },
  {
   "cell_type": "code",
   "execution_count": null,
   "metadata": {
    "collapsed": true
   },
   "outputs": [],
   "source": []
  },
  {
   "cell_type": "code",
   "execution_count": null,
   "metadata": {
    "collapsed": true
   },
   "outputs": [],
   "source": []
  },
  {
   "cell_type": "code",
   "execution_count": null,
   "metadata": {
    "collapsed": true
   },
   "outputs": [],
   "source": []
  },
  {
   "cell_type": "code",
   "execution_count": null,
   "metadata": {
    "collapsed": true
   },
   "outputs": [],
   "source": []
  },
  {
   "cell_type": "code",
   "execution_count": null,
   "metadata": {
    "collapsed": true
   },
   "outputs": [],
   "source": []
  },
  {
   "cell_type": "code",
   "execution_count": null,
   "metadata": {
    "collapsed": true
   },
   "outputs": [],
   "source": []
  },
  {
   "cell_type": "code",
   "execution_count": null,
   "metadata": {
    "collapsed": true
   },
   "outputs": [],
   "source": []
  },
  {
   "cell_type": "code",
   "execution_count": null,
   "metadata": {
    "collapsed": true
   },
   "outputs": [],
   "source": []
  },
  {
   "cell_type": "code",
   "execution_count": null,
   "metadata": {
    "collapsed": true
   },
   "outputs": [],
   "source": []
  },
  {
   "cell_type": "code",
   "execution_count": null,
   "metadata": {
    "collapsed": true
   },
   "outputs": [],
   "source": []
  },
  {
   "cell_type": "code",
   "execution_count": null,
   "metadata": {
    "collapsed": true
   },
   "outputs": [],
   "source": []
  },
  {
   "cell_type": "code",
   "execution_count": null,
   "metadata": {
    "collapsed": true
   },
   "outputs": [],
   "source": []
  },
  {
   "cell_type": "code",
   "execution_count": null,
   "metadata": {
    "collapsed": true
   },
   "outputs": [],
   "source": []
  },
  {
   "cell_type": "code",
   "execution_count": null,
   "metadata": {
    "collapsed": true
   },
   "outputs": [],
   "source": []
  },
  {
   "cell_type": "code",
   "execution_count": null,
   "metadata": {
    "collapsed": true
   },
   "outputs": [],
   "source": []
  },
  {
   "cell_type": "code",
   "execution_count": null,
   "metadata": {
    "collapsed": true
   },
   "outputs": [],
   "source": []
  },
  {
   "cell_type": "code",
   "execution_count": null,
   "metadata": {
    "collapsed": true
   },
   "outputs": [],
   "source": []
  },
  {
   "cell_type": "code",
   "execution_count": null,
   "metadata": {
    "collapsed": true
   },
   "outputs": [],
   "source": []
  },
  {
   "cell_type": "code",
   "execution_count": null,
   "metadata": {
    "collapsed": true
   },
   "outputs": [],
   "source": []
  },
  {
   "cell_type": "code",
   "execution_count": null,
   "metadata": {
    "collapsed": true
   },
   "outputs": [],
   "source": []
  },
  {
   "cell_type": "code",
   "execution_count": null,
   "metadata": {
    "collapsed": true
   },
   "outputs": [],
   "source": []
  },
  {
   "cell_type": "code",
   "execution_count": null,
   "metadata": {
    "collapsed": true
   },
   "outputs": [],
   "source": []
  },
  {
   "cell_type": "code",
   "execution_count": null,
   "metadata": {
    "collapsed": true
   },
   "outputs": [],
   "source": []
  },
  {
   "cell_type": "code",
   "execution_count": null,
   "metadata": {
    "collapsed": true
   },
   "outputs": [],
   "source": []
  },
  {
   "cell_type": "code",
   "execution_count": null,
   "metadata": {
    "collapsed": true
   },
   "outputs": [],
   "source": []
  },
  {
   "cell_type": "code",
   "execution_count": null,
   "metadata": {
    "collapsed": true
   },
   "outputs": [],
   "source": []
  },
  {
   "cell_type": "code",
   "execution_count": null,
   "metadata": {
    "collapsed": true
   },
   "outputs": [],
   "source": []
  },
  {
   "cell_type": "code",
   "execution_count": null,
   "metadata": {
    "collapsed": true
   },
   "outputs": [],
   "source": []
  },
  {
   "cell_type": "code",
   "execution_count": null,
   "metadata": {
    "collapsed": true
   },
   "outputs": [],
   "source": []
  },
  {
   "cell_type": "code",
   "execution_count": null,
   "metadata": {
    "collapsed": true
   },
   "outputs": [],
   "source": []
  },
  {
   "cell_type": "code",
   "execution_count": null,
   "metadata": {
    "collapsed": true
   },
   "outputs": [],
   "source": []
  },
  {
   "cell_type": "code",
   "execution_count": null,
   "metadata": {
    "collapsed": true
   },
   "outputs": [],
   "source": []
  },
  {
   "cell_type": "code",
   "execution_count": null,
   "metadata": {
    "collapsed": true
   },
   "outputs": [],
   "source": []
  },
  {
   "cell_type": "code",
   "execution_count": null,
   "metadata": {
    "collapsed": true
   },
   "outputs": [],
   "source": []
  },
  {
   "cell_type": "code",
   "execution_count": null,
   "metadata": {
    "collapsed": true
   },
   "outputs": [],
   "source": []
  },
  {
   "cell_type": "code",
   "execution_count": null,
   "metadata": {
    "collapsed": true
   },
   "outputs": [],
   "source": []
  },
  {
   "cell_type": "code",
   "execution_count": null,
   "metadata": {
    "collapsed": true
   },
   "outputs": [],
   "source": []
  },
  {
   "cell_type": "code",
   "execution_count": null,
   "metadata": {
    "collapsed": true
   },
   "outputs": [],
   "source": []
  }
 ],
 "metadata": {
  "kernelspec": {
   "display_name": "Python 3",
   "language": "python",
   "name": "python3"
  },
  "language_info": {
   "codemirror_mode": {
    "name": "ipython",
    "version": 3
   },
   "file_extension": ".py",
   "mimetype": "text/x-python",
   "name": "python",
   "nbconvert_exporter": "python",
   "pygments_lexer": "ipython3",
   "version": "3.6.4"
  }
 },
 "nbformat": 4,
 "nbformat_minor": 1
}
